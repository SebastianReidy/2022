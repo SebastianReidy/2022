{
 "cells": [
  {
   "cell_type": "markdown",
   "metadata": {},
   "source": [
    "# Handling text exercise 1"
   ]
  },
  {
   "cell_type": "markdown",
   "metadata": {},
   "source": [
    "## Welcome! This exercise consists of:\n",
    "\n",
    "## Part 1: Hands on tutorial\n",
    "1. Implementing the natural language processing pipeline\n",
    "2. Solving four typical language processing tasks:\n",
    "   * Sentiment analysis\n",
    "   * Document classification\n",
    "   * Topic detection\n",
    "   * Semantic analysis\n",
    "\n",
    "\n",
    "### We will be working with four books in plain text:\n",
    "1. Moby-Dick, by Herman Melville\n",
    "2. Frankenstein; or, The Modern Prometheus, by Mary Shelley\n",
    "3. Pride and Prejudice, by Jane Austen\n",
    "4. Dracula, Bram Stoker\n",
    "\n",
    "#### To run this notebook, you need to install the following libraries:\n",
    "\n",
    "conda install nltk gensim spacy <br>\n",
    "pip install pyLDAvis  <br>\n",
    "pip install vaderSentiment  <br>\n",
    "pip install empath <br>\n",
    "python -m spacy download en  <br>\n",
    "python -m nltk.downloader punkt <br>\n",
    "python -m nltk.downloader all-corpora <br>\n",
    "\n",
    "## Part 2: Handling text comprehension questions\n",
    "- You can test your understanding of important NLP concepts. Solutions will be released next week."
   ]
  },
  {
   "cell_type": "markdown",
   "metadata": {},
   "source": [
    "## Part 1"
   ]
  },
  {
   "cell_type": "code",
   "execution_count": 8,
   "metadata": {},
   "outputs": [
    {
     "name": "stdout",
     "output_type": "stream",
     "text": [
      "The autoreload extension is already loaded. To reload it, use:\n",
      "  %reload_ext autoreload\n"
     ]
    }
   ],
   "source": [
    "%load_ext autoreload\n",
    "%autoreload 2\n",
    "\n",
    "import warnings; warnings.simplefilter('ignore')\n",
    "import os, codecs, string, random\n",
    "import numpy as np\n",
    "from numpy.random import seed as random_seed\n",
    "from numpy.random import shuffle as random_shuffle\n",
    "import matplotlib.pyplot as plt\n",
    "%matplotlib inline  \n",
    "\n",
    "seed = 42\n",
    "random.seed(seed)\n",
    "np.random.seed(seed)\n",
    "\n",
    "#NLP libraries\n",
    "import spacy, nltk, gensim, sklearn\n",
    "import pyLDAvis.gensim_models\n",
    "\n",
    "#Vader\n",
    "import vaderSentiment\n",
    "from vaderSentiment.vaderSentiment import SentimentIntensityAnalyzer\n",
    "\n",
    "#Scikit imports\n",
    "from sklearn.feature_extraction.text import CountVectorizer\n",
    "from sklearn.model_selection import train_test_split\n",
    "from sklearn.model_selection import cross_val_score\n",
    "from sklearn.linear_model import LogisticRegression\n",
    "from sklearn import preprocessing\n",
    "from sklearn.preprocessing import StandardScaler\n",
    "from sklearn.utils import shuffle\n",
    "\n",
    "#The data\n",
    "corpus_root = 'books/'"
   ]
  },
  {
   "cell_type": "markdown",
   "metadata": {},
   "source": [
    "#### In this tutorial we will be working with text in English. The same principles apply, but the methods cannot be applied directly to the text in unknown or other languages. We will be working mainly with the Spacy library."
   ]
  },
  {
   "cell_type": "markdown",
   "metadata": {},
   "source": [
    "Initialize the Spacy analyzer in English"
   ]
  },
  {
   "cell_type": "code",
   "execution_count": 9,
   "metadata": {},
   "outputs": [],
   "source": [
    "nlp = spacy.load('en_core_web_sm')"
   ]
  },
  {
   "cell_type": "markdown",
   "metadata": {},
   "source": [
    "Load the books"
   ]
  },
  {
   "cell_type": "code",
   "execution_count": 10,
   "metadata": {},
   "outputs": [
    {
     "name": "stdout",
     "output_type": "stream",
     "text": [
      "Moby_Dick.txt\n",
      "Frankenstein.txt\n",
      "DRACULA.txt\n",
      "PRIDE_AND_PREJUDICE.txt\n"
     ]
    }
   ],
   "source": [
    "books = list()\n",
    "\n",
    "for book_file in os.listdir(corpus_root):\n",
    "    if \".txt\" in book_file:\n",
    "        print(book_file)\n",
    "        with codecs.open(os.path.join(corpus_root,book_file),encoding=\"utf8\") as f:\n",
    "            books.append(f.read())"
   ]
  },
  {
   "cell_type": "markdown",
   "metadata": {},
   "source": [
    "Print the beginning of Pride and Prejudice"
   ]
  },
  {
   "cell_type": "code",
   "execution_count": 11,
   "metadata": {},
   "outputs": [
    {
     "name": "stdout",
     "output_type": "stream",
     "text": [
      "PRIDE AND PREJUDICE\n",
      "\n",
      "By Jane Austen\n",
      "\n",
      "\n",
      "\n",
      "Chapter 1\n",
      "\n",
      "\n",
      "It is a truth universally acknowledged, that a single man in possession\n",
      "of a good fortune, must be in want of a wife.\n",
      "\n",
      "However little known the feelings or views of such a man may be on his\n",
      "first entering a neighbourhood, this truth is so well fixed in the minds\n",
      "of the surrounding families, that he is considered the rightful property\n",
      "of some one or other of their daughters.\n",
      "\n",
      "“My dear Mr. Bennet,” said his lady to him one day, “have you heard that\n",
      "Netherfield Park is let at last?”\n",
      "\n",
      "Mr. Bennet replied that he had not.\n",
      "\n",
      "“But it is,” returned she;\n"
     ]
    }
   ],
   "source": [
    "print(books[3][0:600])"
   ]
  },
  {
   "cell_type": "markdown",
   "metadata": {},
   "source": [
    "#### Let's remove the new lines"
   ]
  },
  {
   "cell_type": "code",
   "execution_count": 12,
   "metadata": {},
   "outputs": [],
   "source": [
    "books = [\" \".join(b.split()) for b in books]"
   ]
  },
  {
   "cell_type": "code",
   "execution_count": 13,
   "metadata": {},
   "outputs": [
    {
     "name": "stdout",
     "output_type": "stream",
     "text": [
      "PRIDE AND PREJUDICE By Jane Austen Chapter 1 It is a truth universally acknowledged, that a single man in possession of a good fortune, must be in want of a wife. However little known the feelings or views of such a man may be on his first entering a neighbourhood, this truth is so well fixed in the minds of the surrounding families, that he is considered the rightful property of some one or other of their daughters. “My dear Mr. Bennet,” said his lady to him one day, “have you heard that Netherfield Park is let at last?” Mr. Bennet replied that he had not. “But it is,” returned she; “for Mrs.\n"
     ]
    }
   ],
   "source": [
    "print(books[3][0:600])"
   ]
  },
  {
   "cell_type": "markdown",
   "metadata": {},
   "source": [
    "### Load Frankenstein"
   ]
  },
  {
   "cell_type": "code",
   "execution_count": 14,
   "metadata": {},
   "outputs": [],
   "source": [
    "#index all books\n",
    "book = books[1]\n",
    "\n",
    "#put in raw text, get a Spacy object\n",
    "doc = nlp(book)"
   ]
  },
  {
   "cell_type": "markdown",
   "metadata": {},
   "source": [
    "## Let's create our own NLP pipeline with Spacy!"
   ]
  },
  {
   "cell_type": "markdown",
   "metadata": {},
   "source": [
    "### Step 1: Sentence splitting\n",
    "\n",
    "#### May sound trivial, but it's not! (e.g., U.K. or Yahoo!) Spacy uses a statistical model to generate accurate predictions. This works well out of the box for general-purpose text or web text. For social media use dedicated libraries."
   ]
  },
  {
   "cell_type": "code",
   "execution_count": 15,
   "metadata": {},
   "outputs": [
    {
     "name": "stdout",
     "output_type": "stream",
     "text": [
      "Sentence 1: Frankenstein, or the Modern Prometheus by Mary Wollstonecraft (Godwin) \n",
      "\n",
      "Sentence 2: Shelley Letter 1 St. Petersburgh, Dec. 11th, 17-- TO Mrs. Saville, England You will rejoice to hear that no disaster has accompanied the commencement of an enterprise which you have regarded with such evil forebodings. \n",
      "\n",
      "Sentence 3: I arrived here yesterday, and my first task is to assure my dear sister of my welfare and increasing confidence in the success of my undertaking. \n",
      "\n"
     ]
    }
   ],
   "source": [
    "sentences = [sent for sent in doc.sents]\n",
    "print('Sentence 1:',sentences[0],'\\n')\n",
    "print('Sentence 2:',sentences[1],'\\n')\n",
    "print('Sentence 3:',sentences[2],'\\n')"
   ]
  },
  {
   "cell_type": "markdown",
   "metadata": {},
   "source": [
    "### Step 2: Tokenization\n",
    "\n",
    "#### The task of splitting a text into meaningful segments called tokens. We segment the sentence into words, punctuation, etc. This is done by first splitting on whitespace characters and them applying rules specific to each language. For example, \"don't\" does not contain whitespace, but should be split into two tokens, \"do\" and \"n't\", while \"U.K.\" should always remain one token and \"but,\" shouldn't."
   ]
  },
  {
   "cell_type": "markdown",
   "metadata": {},
   "source": [
    "### We will analyze the methods on an example sentence first"
   ]
  },
  {
   "cell_type": "code",
   "execution_count": 16,
   "metadata": {},
   "outputs": [
    {
     "name": "stdout",
     "output_type": "stream",
     "text": [
      "I am already far north of London, and as I walk in the streets of Petersburgh, I feel a cold northern breeze play upon my cheeks, which braces my nerves and fills me with delight. \n",
      "\n",
      "['I', 'am', 'already', 'far', 'north', 'of', 'London', ',', 'and', 'as', 'I', 'walk', 'in', 'the', 'streets', 'of', 'Petersburgh', ',', 'I', 'feel', 'a', 'cold', 'northern', 'breeze', 'play', 'upon', 'my', 'cheeks', ',', 'which', 'braces', 'my', 'nerves', 'and', 'fills', 'me', 'with', 'delight', '.']\n"
     ]
    }
   ],
   "source": [
    "example = 'I am already far north of London, and as I walk in the streets of Petersburgh, I feel a cold northern breeze play upon my cheeks, which braces my nerves and fills me with delight.'\n",
    "\n",
    "doc = nlp(example)\n",
    "\n",
    "#strings are encoded to hashes\n",
    "tokens = [token.text for token in doc]\n",
    "\n",
    "print(example,'\\n')\n",
    "print(tokens)"
   ]
  },
  {
   "cell_type": "markdown",
   "metadata": {},
   "source": [
    "### Step 3: Part of speech tagging\n",
    "\n",
    "#### The model makes a prediction of which tag or label most likely applies in this context. For example, a word following \"the\" in English is most likely a noun."
   ]
  },
  {
   "cell_type": "code",
   "execution_count": 17,
   "metadata": {},
   "outputs": [
    {
     "name": "stdout",
     "output_type": "stream",
     "text": [
      "I am already far north of London, and as I walk in the streets of Petersburgh, I feel a cold northern breeze play upon my cheeks, which braces my nerves and fills me with delight. \n",
      "\n",
      "[('I', 'PRON'), ('am', 'AUX'), ('already', 'ADV'), ('far', 'ADV'), ('north', 'ADV'), ('of', 'ADP'), ('London', 'PROPN'), (',', 'PUNCT'), ('and', 'CCONJ'), ('as', 'SCONJ'), ('I', 'PRON'), ('walk', 'VERB'), ('in', 'ADP'), ('the', 'DET'), ('streets', 'NOUN'), ('of', 'ADP'), ('Petersburgh', 'PROPN'), (',', 'PUNCT'), ('I', 'PRON'), ('feel', 'VERB'), ('a', 'DET'), ('cold', 'ADJ'), ('northern', 'ADJ'), ('breeze', 'NOUN'), ('play', 'VERB'), ('upon', 'SCONJ'), ('my', 'PRON'), ('cheeks', 'NOUN'), (',', 'PUNCT'), ('which', 'PRON'), ('braces', 'VERB'), ('my', 'PRON'), ('nerves', 'NOUN'), ('and', 'CCONJ'), ('fills', 'VERB'), ('me', 'PRON'), ('with', 'ADP'), ('delight', 'NOUN'), ('.', 'PUNCT')]\n"
     ]
    }
   ],
   "source": [
    "pos_tagged = [(token.text, token.pos_) for token in doc]\n",
    "\n",
    "print(example,'\\n')\n",
    "print(pos_tagged)"
   ]
  },
  {
   "cell_type": "code",
   "execution_count": 18,
   "metadata": {},
   "outputs": [
    {
     "name": "stdout",
     "output_type": "stream",
     "text": [
      "coordinating conjunction\n",
      "adposition\n",
      "determiner\n"
     ]
    }
   ],
   "source": [
    "print(spacy.explain('CCONJ'))\n",
    "print(spacy.explain('ADP'))\n",
    "print(spacy.explain('DET'))"
   ]
  },
  {
   "cell_type": "markdown",
   "metadata": {},
   "source": [
    "### When unsure, see here for more details: http://universaldependencies.org/u/pos/all.html"
   ]
  },
  {
   "cell_type": "markdown",
   "metadata": {},
   "source": [
    "#### More detailed annotation:"
   ]
  },
  {
   "cell_type": "code",
   "execution_count": 19,
   "metadata": {},
   "outputs": [
    {
     "name": "stdout",
     "output_type": "stream",
     "text": [
      "[('I', 'PRP'), ('am', 'VBP'), ('already', 'RB'), ('far', 'RB'), ('north', 'RB'), ('of', 'IN'), ('London', 'NNP'), (',', ','), ('and', 'CC'), ('as', 'IN'), ('I', 'PRP'), ('walk', 'VBP'), ('in', 'IN'), ('the', 'DT'), ('streets', 'NNS'), ('of', 'IN'), ('Petersburgh', 'NNP'), (',', ','), ('I', 'PRP'), ('feel', 'VBP'), ('a', 'DT'), ('cold', 'JJ'), ('northern', 'JJ'), ('breeze', 'NN'), ('play', 'VB'), ('upon', 'IN'), ('my', 'PRP$'), ('cheeks', 'NNS'), (',', ','), ('which', 'WDT'), ('braces', 'VBZ'), ('my', 'PRP$'), ('nerves', 'NNS'), ('and', 'CC'), ('fills', 'VBZ'), ('me', 'PRP'), ('with', 'IN'), ('delight', 'NN'), ('.', '.')]\n"
     ]
    }
   ],
   "source": [
    "pos_tagged = [(token.text, token.tag_) for token in doc]\n",
    "\n",
    "print(pos_tagged)"
   ]
  },
  {
   "cell_type": "code",
   "execution_count": 20,
   "metadata": {},
   "outputs": [
    {
     "name": "stdout",
     "output_type": "stream",
     "text": [
      "pronoun, personal\n",
      "verb, non-3rd person singular present\n"
     ]
    }
   ],
   "source": [
    "print(spacy.explain('PRP'))\n",
    "print(spacy.explain('VBP'))"
   ]
  },
  {
   "cell_type": "markdown",
   "metadata": {},
   "source": [
    "### Step 4: Named entity recognition\n",
    "\n",
    "#### For example, a person, a country, a product or a book title. Spacy can recognise various types of named entities in a document. This doesn't always work perfectly and might need some tuning later, depending on your use case.\n",
    "\n",
    "Built in entity types: <br>\n",
    "\n",
    "PERSON  People, including fictional.  <br>\n",
    "NORP\tNationalities or religious or political groups. <br>\n",
    "FAC\tBuildings, airports, highways, bridges, etc. <br>\n",
    "ORG\tCompanies, agencies, institutions, etc. <br>\n",
    "GPE\tCountries, cities, states. <br>\n",
    "LOC\tNon-GPE locations, mountain ranges, bodies of water. <br>\n",
    "PRODUCT\tObjects, vehicles, foods, etc. (Not services.) <br>\n",
    "EVENT\tNamed hurricanes, battles, wars, sports events, etc. <br>\n",
    "WORK_OF_ART\tTitles of books, songs, etc. <br>\n",
    "LAW\tNamed documents made into laws. <br>\n",
    "LANGUAGE\tAny named language. <br>\n",
    "DATE\tAbsolute or relative dates or periods. <br>\n",
    "TIME\tTimes smaller than a day. <br>\n",
    "PERCENT\tPercentage, including \"%\". <br>\n",
    "MONEY\tMonetary values, including unit. <br>\n",
    "QUANTITY\tMeasurements, as of weight or distance. <br>\n",
    "ORDINAL\t\"first\", \"second\", etc. <br>\n",
    "CARDINAL\tNumerals that do not fall under another type. <br>"
   ]
  },
  {
   "cell_type": "code",
   "execution_count": 21,
   "metadata": {},
   "outputs": [
    {
     "name": "stdout",
     "output_type": "stream",
     "text": [
      "I am already far north of London, and as I walk in the streets of Petersburgh, I feel a cold northern breeze play upon my cheeks, which braces my nerves and fills me with delight. \n",
      "\n",
      "London GPE\n",
      "Petersburgh GPE\n"
     ]
    }
   ],
   "source": [
    "print(example,'\\n')\n",
    "for ent in doc.ents:\n",
    "    print(ent.text, ent.label_)"
   ]
  },
  {
   "cell_type": "markdown",
   "metadata": {},
   "source": [
    "### Step 5: Removing stop words"
   ]
  },
  {
   "cell_type": "markdown",
   "metadata": {},
   "source": [
    "Let's check out all the stopwords:"
   ]
  },
  {
   "cell_type": "code",
   "execution_count": 22,
   "metadata": {},
   "outputs": [
    {
     "name": "stdout",
     "output_type": "stream",
     "text": [
      "Number of stop words: 326\n",
      "First ten stop words: ['somehow', 'last', 'up', 'what', 'do', 'did', '’m', 'everywhere', \"'ve\", 'two']\n"
     ]
    }
   ],
   "source": [
    "spacy_stopwords = spacy.lang.en.stop_words.STOP_WORDS\n",
    "print('Number of stop words: %d' % len(spacy_stopwords))\n",
    "print('First ten stop words:',list(spacy_stopwords)[:10])"
   ]
  },
  {
   "cell_type": "markdown",
   "metadata": {},
   "source": [
    "Detecting stopwords in the example:"
   ]
  },
  {
   "cell_type": "code",
   "execution_count": 23,
   "metadata": {},
   "outputs": [
    {
     "name": "stdout",
     "output_type": "stream",
     "text": [
      "I am already far north of London, and as I walk in the streets of Petersburgh, I feel a cold northern breeze play upon my cheeks, which braces my nerves and fills me with delight. \n",
      "\n",
      "['I', 'am', 'already', 'of', 'and', 'as', 'I', 'in', 'the', 'of', 'I', 'a', 'upon', 'my', 'which', 'my', 'and', 'me', 'with']\n"
     ]
    }
   ],
   "source": [
    "print(example,'\\n')\n",
    "\n",
    "stop_words = [token.text for token in doc if token.is_stop]\n",
    "\n",
    "print(stop_words)"
   ]
  },
  {
   "cell_type": "markdown",
   "metadata": {},
   "source": [
    "#### Sometimes it's useful to define a custom list of stopwords. Other solutions: https://www.ranks.nl/stopwords \n"
   ]
  },
  {
   "cell_type": "markdown",
   "metadata": {},
   "source": [
    "### Step 6: Lemmatization\n",
    "\n",
    "#### A rule-based deterministic lemmatizer maps the surface form of a token to a lemma."
   ]
  },
  {
   "cell_type": "code",
   "execution_count": 24,
   "metadata": {},
   "outputs": [
    {
     "name": "stdout",
     "output_type": "stream",
     "text": [
      "I am already far north of London, and as I walk in the streets of Petersburgh, I feel a cold northern breeze play upon my cheeks, which braces my nerves and fills me with delight. \n",
      "\n",
      "am ---> be\n",
      "streets ---> street\n",
      "cheeks ---> cheek\n",
      "braces ---> brace\n",
      "nerves ---> nerve\n",
      "fills ---> fill\n",
      "me ---> I\n"
     ]
    }
   ],
   "source": [
    "print(example,'\\n')\n",
    "for token in doc:\n",
    "    if token.text != token.lemma_:\n",
    "        print(token.text,'--->',token.lemma_)"
   ]
  },
  {
   "cell_type": "markdown",
   "metadata": {},
   "source": [
    "### Step 7: Chunking (shallow parsing)\n",
    "\n",
    "#### Noun chunks are \"base noun phrases\" – flat phrases that have a noun as their head -- a noun plus the words describing the noun – for example, \"the lavish green grass\" or \"the world’s largest tech fund\". "
   ]
  },
  {
   "cell_type": "code",
   "execution_count": 25,
   "metadata": {},
   "outputs": [
    {
     "name": "stdout",
     "output_type": "stream",
     "text": [
      "I am already far north of London, and as I walk in the streets of Petersburgh, I feel a cold northern breeze play upon my cheeks, which braces my nerves and fills me with delight. \n",
      "\n",
      "I\n",
      "London\n",
      "I\n",
      "the streets\n",
      "Petersburgh\n",
      "I\n",
      "my cheeks\n",
      "which\n",
      "my nerves\n",
      "me\n",
      "delight\n"
     ]
    }
   ],
   "source": [
    "print(example,'\\n')\n",
    "\n",
    "for chunk in doc.noun_chunks:\n",
    "    print(chunk.text)"
   ]
  },
  {
   "cell_type": "markdown",
   "metadata": {},
   "source": [
    "### Step 8: Dependancy parsing\n",
    "\n",
    "#### The terms head and child describe the words connected by an arc in the dependency tree. The type of syntactic relation that connects the child to the head can be obtain through .dep_."
   ]
  },
  {
   "cell_type": "code",
   "execution_count": 30,
   "metadata": {},
   "outputs": [
    {
     "name": "stdout",
     "output_type": "stream",
     "text": [
      "I am already far north of London, and as I walk in the streets of Petersburgh, I feel a cold northern breeze play upon my cheeks, which braces my nerves and fills me with delight. \n",
      "\n",
      "Token: I Head: am Children: []\n",
      "Token: am Head: am Children: [I, already, north, ,, and, feel]\n",
      "Token: already Head: am Children: []\n",
      "Token: far Head: north Children: []\n",
      "Token: north Head: am Children: [far, of]\n",
      "Token: of Head: north Children: [London]\n",
      "Token: London Head: of Children: []\n",
      "Token: , Head: am Children: []\n",
      "Token: and Head: am Children: []\n",
      "Token: as Head: walk Children: []\n",
      "Token: I Head: walk Children: []\n",
      "Token: walk Head: feel Children: [as, I, in]\n",
      "Token: in Head: walk Children: [streets]\n",
      "Token: the Head: streets Children: []\n",
      "Token: streets Head: in Children: [the, of]\n",
      "Token: of Head: streets Children: [Petersburgh]\n",
      "Token: Petersburgh Head: of Children: []\n",
      "Token: , Head: feel Children: []\n",
      "Token: I Head: feel Children: []\n",
      "Token: feel Head: am Children: [walk, ,, I, play, .]\n",
      "Token: a Head: play Children: []\n",
      "Token: cold Head: breeze Children: []\n",
      "Token: northern Head: breeze Children: []\n",
      "Token: breeze Head: play Children: [cold, northern]\n",
      "Token: play Head: feel Children: [a, breeze, upon]\n",
      "Token: upon Head: play Children: [cheeks]\n",
      "Token: my Head: cheeks Children: []\n",
      "Token: cheeks Head: upon Children: [my, ,, braces]\n",
      "Token: , Head: cheeks Children: []\n",
      "Token: which Head: braces Children: []\n",
      "Token: braces Head: cheeks Children: [which, nerves, and, fills]\n",
      "Token: my Head: nerves Children: []\n",
      "Token: nerves Head: braces Children: [my]\n",
      "Token: and Head: braces Children: []\n",
      "Token: fills Head: braces Children: [me, with]\n",
      "Token: me Head: fills Children: []\n",
      "Token: with Head: fills Children: [delight]\n",
      "Token: delight Head: with Children: []\n",
      "Token: . Head: feel Children: []\n"
     ]
    }
   ],
   "source": [
    "print(example,'\\n')\n",
    "\n",
    "for token in doc:\n",
    "    print('Token:',token.text,'Head:',token.head.text, 'Children:',[child for child in token.children])"
   ]
  },
  {
   "cell_type": "markdown",
   "metadata": {},
   "source": [
    "### Counting word occurences"
   ]
  },
  {
   "cell_type": "code",
   "execution_count": 31,
   "metadata": {},
   "outputs": [
    {
     "name": "stdout",
     "output_type": "stream",
     "text": [
      "I am already far north of London, and as I walk in the streets of Petersburgh, I feel a cold northern breeze play upon my cheeks, which braces my nerves and fills me with delight. \n",
      "\n",
      "[('I', 3), (',', 3), ('of', 2), ('and', 2), ('my', 2), ('am', 1), ('already', 1), ('far', 1), ('north', 1), ('London', 1), ('as', 1), ('walk', 1), ('in', 1), ('the', 1), ('streets', 1), ('Petersburgh', 1), ('feel', 1), ('a', 1), ('cold', 1), ('northern', 1), ('breeze', 1), ('play', 1), ('upon', 1), ('cheeks', 1), ('which', 1), ('braces', 1), ('nerves', 1), ('fills', 1), ('me', 1), ('with', 1), ('delight', 1), ('.', 1)]\n"
     ]
    }
   ],
   "source": [
    "from collections import Counter\n",
    "\n",
    "print(example,'\\n')\n",
    "words = [token.text for token in doc]\n",
    "\n",
    "# five most common tokens\n",
    "word_freq = Counter(words)\n",
    "common_words = word_freq.most_common()\n",
    "\n",
    "print(common_words)"
   ]
  },
  {
   "cell_type": "markdown",
   "metadata": {},
   "source": [
    "### Without stop words and punctuation"
   ]
  },
  {
   "cell_type": "code",
   "execution_count": 32,
   "metadata": {},
   "outputs": [
    {
     "name": "stdout",
     "output_type": "stream",
     "text": [
      "[('far', 1), ('north', 1), ('London', 1), ('walk', 1), ('streets', 1), ('Petersburgh', 1), ('feel', 1), ('cold', 1), ('northern', 1), ('breeze', 1), ('play', 1), ('cheeks', 1), ('braces', 1), ('nerves', 1), ('fills', 1), ('delight', 1)]\n"
     ]
    }
   ],
   "source": [
    "words = [token.text for token in doc if token.is_stop != True and token.is_punct != True]\n",
    "\n",
    "# five most common tokens\n",
    "word_freq = Counter(words)\n",
    "common_words = word_freq.most_common()\n",
    "\n",
    "print(common_words)"
   ]
  },
  {
   "cell_type": "markdown",
   "metadata": {},
   "source": [
    "## Putting all the components together"
   ]
  },
  {
   "cell_type": "markdown",
   "metadata": {},
   "source": [
    "### Under the hood: the pipeline [\"tokenizer\",\"tagger\", \"parser\", \"ner\"]."
   ]
  },
  {
   "cell_type": "markdown",
   "metadata": {},
   "source": [
    "#### The NLP pipeline with Spacy\n",
    "<img src=\"spacy.png\">"
   ]
  },
  {
   "cell_type": "code",
   "execution_count": 33,
   "metadata": {},
   "outputs": [],
   "source": [
    "nlp = spacy.load('en_core_web_sm')"
   ]
  },
  {
   "cell_type": "markdown",
   "metadata": {},
   "source": [
    "### If you don't need a particular component of the pipeline – for example, the tagger or the parser, you can disable loading it. This can sometimes make a big difference and improve loading speed. "
   ]
  },
  {
   "cell_type": "code",
   "execution_count": 34,
   "metadata": {},
   "outputs": [
    {
     "data": {
      "text/plain": [
       "('tagger', <spacy.pipeline.tagger.Tagger at 0x7fa9ee4a6100>)"
      ]
     },
     "execution_count": 34,
     "metadata": {},
     "output_type": "execute_result"
    }
   ],
   "source": [
    "nlp.remove_pipe('parser')\n",
    "nlp.remove_pipe('tagger')"
   ]
  },
  {
   "cell_type": "markdown",
   "metadata": {},
   "source": [
    "# Task 1: Sentiment analysis"
   ]
  },
  {
   "cell_type": "markdown",
   "metadata": {},
   "source": [
    "### Initialize the analyzer. Typically used for data from social media (short sentences)."
   ]
  },
  {
   "cell_type": "code",
   "execution_count": 35,
   "metadata": {},
   "outputs": [],
   "source": [
    "analyzer = SentimentIntensityAnalyzer()\n",
    "vs = analyzer.polarity_scores(example)"
   ]
  },
  {
   "cell_type": "markdown",
   "metadata": {},
   "source": [
    "### The sentiment score consits of four values. Neutral, positive and negative sum to one. The final score is obtained by thresholding the compound value (e.g. +/-0.05)."
   ]
  },
  {
   "cell_type": "code",
   "execution_count": 36,
   "metadata": {},
   "outputs": [
    {
     "name": "stdout",
     "output_type": "stream",
     "text": [
      "I am already far north of London, and as I walk in the streets of Petersburgh, I feel a cold northern breeze play upon my cheeks, which braces my nerves and fills me with delight. \n",
      "\n",
      "Negative sentiment: 0.035\n",
      "Neutral sentiment: 0.806\n",
      "Positive sentiment: 0.159\n",
      "Compound sentiment: 0.7096\n"
     ]
    }
   ],
   "source": [
    "print(example, '\\n')\n",
    "print('Negative sentiment:',vs['neg'])\n",
    "print('Neutral sentiment:',vs['neu'])\n",
    "print('Positive sentiment:',vs['pos'])\n",
    "print('Compound sentiment:',vs['compound'])"
   ]
  },
  {
   "cell_type": "markdown",
   "metadata": {},
   "source": [
    "### We can now observe the distributions of sentiment across all sentences in the book Pride and Prejudice:"
   ]
  },
  {
   "cell_type": "code",
   "execution_count": 37,
   "metadata": {},
   "outputs": [],
   "source": [
    "nlp = spacy.load('en_core_web_sm')\n",
    "doc = nlp(books[3])"
   ]
  },
  {
   "cell_type": "code",
   "execution_count": 41,
   "metadata": {},
   "outputs": [
    {
     "data": {
      "text/plain": [
       "Text(0, 0.5, 'Number of sentences')"
      ]
     },
     "execution_count": 41,
     "metadata": {},
     "output_type": "execute_result"
    },
    {
     "data": {
      "image/png": "[encoded data removed]",
      "text/plain": [
       "<Figure size 640x480 with 1 Axes>"
      ]
     },
     "metadata": {},
     "output_type": "display_data"
    }
   ],
   "source": [
    "positive_sent = []\n",
    "#iterate through the sentences, get polarity scores, choose a value\n",
    "[positive_sent.append(analyzer.polarity_scores(sent.text)['pos']) for sent in doc.sents]\n",
    "plt.hist(positive_sent,bins=15)\n",
    "plt.xlim([0,1])\n",
    "plt.ylim([0,8000])\n",
    "plt.xlabel('Positive sentiment')\n",
    "plt.ylabel('Number of sentences')"
   ]
  },
  {
   "cell_type": "code",
   "execution_count": 42,
   "metadata": {},
   "outputs": [
    {
     "data": {
      "text/plain": [
       "Text(0, 0.5, 'Number of sentences')"
      ]
     },
     "execution_count": 42,
     "metadata": {},
     "output_type": "execute_result"
    },
    {
     "data": {
      "image/png": "[encoded data removed]",
      "text/plain": [
       "<Figure size 640x480 with 1 Axes>"
      ]
     },
     "metadata": {},
     "output_type": "display_data"
    }
   ],
   "source": [
    "negative_sent = []\n",
    "[negative_sent.append(analyzer.polarity_scores(sent.text)['neg']) for sent in doc.sents]\n",
    "plt.hist(negative_sent,bins=15)\n",
    "plt.xlim([0,1])\n",
    "plt.ylim([0,8000])\n",
    "plt.xlabel('Negative sentiment')\n",
    "plt.ylabel('Number of sentences')"
   ]
  },
  {
   "cell_type": "code",
   "execution_count": 43,
   "metadata": {},
   "outputs": [
    {
     "data": {
      "text/plain": [
       "Text(0, 0.5, 'Number of sentences')"
      ]
     },
     "execution_count": 43,
     "metadata": {},
     "output_type": "execute_result"
    },
    {
     "data": {
      "image/png": "[encoded data removed]",
      "text/plain": [
       "<Figure size 640x480 with 1 Axes>"
      ]
     },
     "metadata": {},
     "output_type": "display_data"
    }
   ],
   "source": [
    "total_sent = []\n",
    "[total_sent.append(analyzer.polarity_scores(sent.text)['compound']) for sent in doc.sents]\n",
    "plt.hist(total_sent,bins = 15)\n",
    "plt.xlim([-1,1])\n",
    "plt.ylim([0,8000])\n",
    "plt.xlabel('Compound sentiment')\n",
    "plt.ylabel('Number of sentences')"
   ]
  },
  {
   "cell_type": "code",
   "execution_count": 44,
   "metadata": {},
   "outputs": [
    {
     "name": "stdout",
     "output_type": "stream",
     "text": [
      "Number of positive sentences: 2724\n",
      "Number of negative sentences: 1339\n",
      "Number of neutral sentences: 1863\n"
     ]
    }
   ],
   "source": [
    "sents = [analyzer.polarity_scores(sent.text)['compound'] for sent in doc.sents]\n",
    "print('Number of positive sentences:',sum(np.array(sents)>=0.05))\n",
    "print('Number of negative sentences:',sum(np.array(sents)<=-0.05))\n",
    "print('Number of neutral sentences:',sum(np.abs(np.array(sents))<0.05))"
   ]
  },
  {
   "cell_type": "markdown",
   "metadata": {},
   "source": [
    "#### Most of the sentences are quite neutral in sentiment. This is not the case when working with data from other sources (e.g., in social media opinions are strong and polarized (bimodal distribution))."
   ]
  },
  {
   "cell_type": "markdown",
   "metadata": {},
   "source": [
    "# Task 2: Document classification: Can we detect paragraphs from Frankenstein?"
   ]
  },
  {
   "cell_type": "code",
   "execution_count": 45,
   "metadata": {},
   "outputs": [
    {
     "name": "stdout",
     "output_type": "stream",
     "text": [
      "['DRACULA.txt', 'Frankenstein.txt', 'Moby_Dick.txt', 'PRIDE_AND_PREJUDICE.txt']\n"
     ]
    },
    {
     "name": "stdout",
     "output_type": "stream",
     "text": [
      "\u001b[0;31mInit signature:\u001b[0m\n",
      "\u001b[0mPlaintextCorpusReader\u001b[0m\u001b[0;34m(\u001b[0m\u001b[0;34m\u001b[0m\n",
      "\u001b[0;34m\u001b[0m    \u001b[0mroot\u001b[0m\u001b[0;34m,\u001b[0m\u001b[0;34m\u001b[0m\n",
      "\u001b[0;34m\u001b[0m    \u001b[0mfileids\u001b[0m\u001b[0;34m,\u001b[0m\u001b[0;34m\u001b[0m\n",
      "\u001b[0;34m\u001b[0m    \u001b[0mword_tokenizer\u001b[0m\u001b[0;34m=\u001b[0m\u001b[0mWordPunctTokenizer\u001b[0m\u001b[0;34m(\u001b[0m\u001b[0mpattern\u001b[0m\u001b[0;34m=\u001b[0m\u001b[0;34m'\\\\w+|[^\\\\w\\\\s]+'\u001b[0m\u001b[0;34m,\u001b[0m \u001b[0mgaps\u001b[0m\u001b[0;34m=\u001b[0m\u001b[0;32mFalse\u001b[0m\u001b[0;34m,\u001b[0m \u001b[0mdiscard_empty\u001b[0m\u001b[0;34m=\u001b[0m\u001b[0;32mTrue\u001b[0m\u001b[0;34m,\u001b[0m \u001b[0mflags\u001b[0m\u001b[0;34m=\u001b[0m\u001b[0mre\u001b[0m\u001b[0;34m.\u001b[0m\u001b[0mUNICODE\u001b[0m\u001b[0;34m|\u001b[0m\u001b[0mre\u001b[0m\u001b[0;34m.\u001b[0m\u001b[0mMULTILINE\u001b[0m\u001b[0;34m|\u001b[0m\u001b[0mre\u001b[0m\u001b[0;34m.\u001b[0m\u001b[0mDOTALL\u001b[0m\u001b[0;34m)\u001b[0m\u001b[0;34m,\u001b[0m\u001b[0;34m\u001b[0m\n",
      "\u001b[0;34m\u001b[0m    \u001b[0msent_tokenizer\u001b[0m\u001b[0;34m=\u001b[0m\u001b[0;34m<\u001b[0m\u001b[0mnltk\u001b[0m\u001b[0;34m.\u001b[0m\u001b[0mtokenize\u001b[0m\u001b[0;34m.\u001b[0m\u001b[0mpunkt\u001b[0m\u001b[0;34m.\u001b[0m\u001b[0mPunktSentenceTokenizer\u001b[0m \u001b[0mobject\u001b[0m \u001b[0mat\u001b[0m \u001b[0;36m0x7fa9c8a81af0\u001b[0m\u001b[0;34m>\u001b[0m\u001b[0;34m,\u001b[0m\u001b[0;34m\u001b[0m\n",
      "\u001b[0;34m\u001b[0m    \u001b[0mpara_block_reader\u001b[0m\u001b[0;34m=\u001b[0m\u001b[0;34m<\u001b[0m\u001b[0mfunction\u001b[0m \u001b[0mread_blankline_block\u001b[0m \u001b[0mat\u001b[0m \u001b[0;36m0x7fa9ec3a0940\u001b[0m\u001b[0;34m>\u001b[0m\u001b[0;34m,\u001b[0m\u001b[0;34m\u001b[0m\n",
      "\u001b[0;34m\u001b[0m    \u001b[0mencoding\u001b[0m\u001b[0;34m=\u001b[0m\u001b[0;34m'utf8'\u001b[0m\u001b[0;34m,\u001b[0m\u001b[0;34m\u001b[0m\n",
      "\u001b[0;34m\u001b[0m\u001b[0;34m)\u001b[0m\u001b[0;34m\u001b[0m\u001b[0;34m\u001b[0m\u001b[0m\n",
      "\u001b[0;31mDocstring:\u001b[0m     \n",
      "Reader for corpora that consist of plaintext documents.  Paragraphs\n",
      "are assumed to be split using blank lines.  Sentences and words can\n",
      "be tokenized using the default tokenizers, or by custom tokenizers\n",
      "specified as parameters to the constructor.\n",
      "\n",
      "This corpus reader can be customized (e.g., to skip preface\n",
      "sections of specific document formats) by creating a subclass and\n",
      "overriding the ``CorpusView`` class variable.\n",
      "\u001b[0;31mInit docstring:\u001b[0m\n",
      "Construct a new plaintext corpus reader for a set of documents\n",
      "located at the given root directory.  Example usage:\n",
      "\n",
      "    >>> root = '/usr/local/share/nltk_data/corpora/webtext/'\n",
      "    >>> reader = PlaintextCorpusReader(root, '.*\\.txt') # doctest: +SKIP\n",
      "\n",
      ":param root: The root directory for this corpus.\n",
      ":param fileids: A list or regexp specifying the fileids in this corpus.\n",
      ":param word_tokenizer: Tokenizer for breaking sentences or\n",
      "    paragraphs into words.\n",
      ":param sent_tokenizer: Tokenizer for breaking paragraphs\n",
      "    into words.\n",
      ":param para_block_reader: The block reader used to divide the\n",
      "    corpus into paragraph blocks.\n",
      "\u001b[0;31mFile:\u001b[0m           ~/opt/anaconda3/envs/ada/lib/python3.9/site-packages/nltk/corpus/reader/plaintext.py\n",
      "\u001b[0;31mType:\u001b[0m           type\n",
      "\u001b[0;31mSubclasses:\u001b[0m     CategorizedPlaintextCorpusReader, EuroparlCorpusReader, UdhrCorpusReader\n"
     ]
    }
   ],
   "source": [
    "# Let's load our corpus via NLTK this time\n",
    "from nltk.corpus import PlaintextCorpusReader\n",
    "?PlaintextCorpusReader\n",
    "our_books = PlaintextCorpusReader(corpus_root, '.*.txt')\n",
    "print(our_books.fileids())"
   ]
  },
  {
   "cell_type": "markdown",
   "metadata": {},
   "source": [
    "### We will segment the books into equally long chunks"
   ]
  },
  {
   "cell_type": "code",
   "execution_count": 46,
   "metadata": {},
   "outputs": [
    {
     "name": "stdout",
     "output_type": "stream",
     "text": [
      "DRACULA.txt :\n",
      "Number of sentences: 9303\n",
      "Number of chunks: 187 \n",
      "\n",
      "Frankenstein.txt :\n",
      "Number of sentences: 3378\n",
      "Number of chunks: 68 \n",
      "\n",
      "Moby_Dick.txt :\n",
      "Number of sentences: 9609\n",
      "Number of chunks: 193 \n",
      "\n",
      "PRIDE_AND_PREJUDICE.txt :\n",
      "Number of sentences: 6055\n",
      "Number of chunks: 122 \n",
      "\n"
     ]
    }
   ],
   "source": [
    "def get_chunks(l, n):\n",
    "    \"\"\"Yield successive n-sized chunks from l.\"\"\"\n",
    "    for i in range(0, len(l), n):\n",
    "        yield l[i:i + n]\n",
    "\n",
    "\n",
    "# Get the data\n",
    "book_id = {f:n for n,f in enumerate(our_books.fileids())} # dictionary of books\n",
    "\n",
    "chunks = list()\n",
    "chunk_class = list() # this list contains the original book of the chunk, for evaluation\n",
    "\n",
    "limit = 500 # how many chunks total\n",
    "size = 50 # how many sentences per chunk/page\n",
    "\n",
    "for f in our_books.fileids():\n",
    "    sentences = our_books.sents(f)\n",
    "    print(f,\":\")\n",
    "    print('Number of sentences:',len(sentences))\n",
    "    \n",
    "    # create chunks\n",
    "    chunks_of_sents = [x for x in get_chunks(sentences,size)] # this is a list of lists of sentences, which are a list of tokens\n",
    "    chs = list()\n",
    "    \n",
    "    # regroup so to have a list of chunks which are strings\n",
    "    for c in chunks_of_sents:\n",
    "        grouped_chunk = list()\n",
    "        for s in c:\n",
    "            grouped_chunk.extend(s)\n",
    "        chs.append(\" \".join(grouped_chunk))\n",
    "    print(\"Number of chunks:\",len(chs),'\\n')\n",
    "    \n",
    "    # filter to the limit, to have the same number of chunks per book\n",
    "    chunks.extend(chs[:limit])\n",
    "    chunk_class.extend([book_id[f] for _ in range(len(chs[:limit]))])"
   ]
  },
  {
   "cell_type": "markdown",
   "metadata": {},
   "source": [
    "### Representing the chunks with bag-of-words"
   ]
  },
  {
   "cell_type": "code",
   "execution_count": 47,
   "metadata": {},
   "outputs": [
    {
     "name": "stdout",
     "output_type": "stream",
     "text": [
      "Number of samples: 570\n",
      "Number of features: 23116\n"
     ]
    }
   ],
   "source": [
    "vectorizer = CountVectorizer()\n",
    "\n",
    "#initialize and specify minumum number of occurences to avoid untractable number of features\n",
    "#vectorizer = CountVectorizer(min_df = 2) if we want high frequency\n",
    "\n",
    "#create bag of words features\n",
    "X = vectorizer.fit_transform(chunks)\n",
    "\n",
    "print('Number of samples:',X.toarray().shape[0])\n",
    "print('Number of features:',X.toarray().shape[1])\n",
    "\n",
    "#mask and convert to int Frankenstein\n",
    "Y = np.array(chunk_class) == 1\n",
    "Y = Y.astype(int)  \n",
    "\n",
    "#shuffle the data\n",
    "X, Y = shuffle(X, Y, random_state=0)\n",
    "\n",
    "#split into training and test set\n",
    "X_train, X_test, Y_train, Y_test = train_test_split(X, Y, test_size=0.2, random_state=42)"
   ]
  },
  {
   "cell_type": "markdown",
   "metadata": {},
   "source": [
    "### Let's fit the regularized logistic regression. We will crossvalidate the regularization parameter on the training set."
   ]
  },
  {
   "cell_type": "code",
   "execution_count": 48,
   "metadata": {},
   "outputs": [],
   "source": [
    "accs = []\n",
    "\n",
    "#the grid of regularization parameter \n",
    "grid = [0.01,0.1,1,10,100,1000,10000]\n",
    "\n",
    "for c in grid:\n",
    "    \n",
    "    #initialize the classifier\n",
    "    clf = LogisticRegression(random_state=0, solver='lbfgs',C = c)\n",
    "    \n",
    "    #crossvalidate\n",
    "    scores = cross_val_score(clf, X_train,Y_train, cv=10)\n",
    "    accs.append(np.mean(scores))"
   ]
  },
  {
   "cell_type": "code",
   "execution_count": 49,
   "metadata": {},
   "outputs": [
    {
     "data": {
      "text/plain": [
       "(0.986, 1.0)"
      ]
     },
     "execution_count": 49,
     "metadata": {},
     "output_type": "execute_result"
    },
    {
     "data": {
      "image/png": "[encoded data removed]",
      "text/plain": [
       "<Figure size 640x480 with 1 Axes>"
      ]
     },
     "metadata": {},
     "output_type": "display_data"
    }
   ],
   "source": [
    "plt.plot(accs)\n",
    "plt.xticks(range(len(grid)), grid)\n",
    "plt.xlabel('Regularization parameter \\n (Low - strong regularization, High - weak regularization)')\n",
    "plt.ylabel('Crossvalidation accuracy')\n",
    "plt.ylim([0.986,1])"
   ]
  },
  {
   "cell_type": "markdown",
   "metadata": {},
   "source": [
    "### Let's train again, on the entire training set, with the chosen regularization parameter. We will test on the test set"
   ]
  },
  {
   "cell_type": "code",
   "execution_count": 50,
   "metadata": {},
   "outputs": [
    {
     "name": "stdout",
     "output_type": "stream",
     "text": [
      "Accuracy: 0.9824561403508771\n"
     ]
    }
   ],
   "source": [
    "clf = LogisticRegression(random_state=0, solver='lbfgs',C = 10).fit(X_train,Y_train)\n",
    "\n",
    "#predict on the test set\n",
    "print('Accuracy:',clf.score(X_test,Y_test))"
   ]
  },
  {
   "cell_type": "markdown",
   "metadata": {},
   "source": [
    "### What features characterize Frankenstein? BOW are interpretable!"
   ]
  },
  {
   "cell_type": "code",
   "execution_count": 51,
   "metadata": {},
   "outputs": [
    {
     "name": "stdout",
     "output_type": "stream",
     "text": [
      "['frankenstein' 'of' 'who' 'but' 'poor' 'by' 'which' 'father' 'my' 'this'\n",
      " 'had' 'yet' 'and' 'death' 'towards' 'will' 'creature' 'me' 'justine'\n",
      " 'misery']\n"
     ]
    }
   ],
   "source": [
    "coefs=clf.coef_[0]\n",
    "top_three = np.argpartition(coefs, -20)[-20:]\n",
    "\n",
    "print(np.array(vectorizer.get_feature_names())[top_three])"
   ]
  },
  {
   "cell_type": "markdown",
   "metadata": {},
   "source": [
    "### We can perfectly predict paragraphs from Frankenstein! We saw issues of high dimensionality when using bag of words (more features than samples) and how regularization helps."
   ]
  },
  {
   "cell_type": "markdown",
   "metadata": {},
   "source": [
    "### Alternative text representation: word emdeddings, pretrained on intergraded in Spacy (300-dimensional word vectors trained on Common Crawl with GloVe.) Depending on the application, might be suitable or not"
   ]
  },
  {
   "cell_type": "code",
   "execution_count": 57,
   "metadata": {},
   "outputs": [
    {
     "name": "stdout",
     "output_type": "stream",
     "text": [
      "I am already far north of London, and as I walk in the streets of Petersburgh, I feel a cold northern breeze play upon my cheeks, which braces my nerves and fills me with delight. \n",
      "\n",
      "Embedding representation: [-0.06188344, 0.080382735, 0.066186234, 0.10680722, -0.11235807, -0.2166132, 0.2031052, -0.13948984, 0.15524133, -0.20551799] ...\n"
     ]
    }
   ],
   "source": [
    "print(example,'\\n')\n",
    "print('Embedding representation:',list((nlp(example).vector)[0:10]),'...')"
   ]
  },
  {
   "cell_type": "markdown",
   "metadata": {},
   "source": [
    "# Task 3: Topic detection"
   ]
  },
  {
   "cell_type": "code",
   "execution_count": 58,
   "metadata": {},
   "outputs": [
    {
     "name": "stdout",
     "output_type": "stream",
     "text": [
      "DRACULA.txt\n",
      "Number of sentences: 9303\n",
      "Number of chunks: 187 \n",
      "\n",
      "Frankenstein.txt\n",
      "Number of sentences: 3378\n",
      "Number of chunks: 68 \n",
      "\n",
      "Moby_Dick.txt\n",
      "Number of sentences: 9609\n",
      "Number of chunks: 193 \n",
      "\n",
      "PRIDE_AND_PREJUDICE.txt\n",
      "Number of sentences: 6055\n",
      "Number of chunks: 122 \n",
      "\n"
     ]
    }
   ],
   "source": [
    "# Get the chunks again (into smaller chunks)\n",
    "book_id = {f:n for n,f in enumerate(our_books.fileids())} # dictionary of books\n",
    "chunks = list()\n",
    "chunk_class = list() # this list contains the original book of the chunk, for evaluation\n",
    "\n",
    "limit = 60 # how many chunks total\n",
    "size = 50 # how many sentences per chunk/page\n",
    "\n",
    "for f in our_books.fileids():\n",
    "    sentences = our_books.sents(f)\n",
    "    print(f)\n",
    "    print('Number of sentences:',len(sentences))\n",
    "    \n",
    "    # create chunks\n",
    "    chunks_of_sents = [x for x in get_chunks(sentences,size)] # this is a list of lists of sentences, which are a list of tokens\n",
    "    chs = list()\n",
    "    \n",
    "    # regroup so to have a list of chunks which are strings\n",
    "    for c in chunks_of_sents:\n",
    "        grouped_chunk = list()\n",
    "        for s in c:\n",
    "            grouped_chunk.extend(s)\n",
    "        chs.append(\" \".join(grouped_chunk))\n",
    "    print(\"Number of chunks:\",len(chs),'\\n')\n",
    "    \n",
    "    # filter to the limit, to have the same number of chunks per book\n",
    "    chunks.extend(chs[:limit])\n",
    "    chunk_class.extend([book_id[f] for _ in range(len(chs[:limit]))])"
   ]
  },
  {
   "cell_type": "code",
   "execution_count": 59,
   "metadata": {},
   "outputs": [],
   "source": [
    "STOPWORDS = spacy.lang.en.stop_words.STOP_WORDS\n",
    "\n",
    "processed_docs = list()\n",
    "for doc in nlp.pipe(chunks, n_process=5, batch_size=10):\n",
    "\n",
    "    # Process document using Spacy NLP pipeline.\n",
    "    ents = doc.ents  # Named entities\n",
    "\n",
    "    # Keep only words (no numbers, no punctuation).\n",
    "    # Lemmatize tokens, remove punctuation and remove stopwords.\n",
    "    doc = [token.lemma_ for token in doc if token.is_alpha and not token.is_stop]\n",
    "\n",
    "    # Remove common words from a stopword list and keep only words of length 3 or more.\n",
    "    doc = [token for token in doc if token not in STOPWORDS and len(token) > 2]\n",
    "\n",
    "    # Add named entities, but only if they are a compound of more than word.\n",
    "    doc.extend([str(entity) for entity in ents if len(entity) > 1])\n",
    "\n",
    "    processed_docs.append(doc)\n",
    "docs = processed_docs\n",
    "del processed_docs"
   ]
  },
  {
   "cell_type": "code",
   "execution_count": 60,
   "metadata": {},
   "outputs": [],
   "source": [
    "# Add bigrams too\n",
    "from gensim.models.phrases import Phrases\n",
    "\n",
    "# Add bigrams to docs (only ones that appear 15 times or more).\n",
    "bigram = Phrases(docs, min_count=15)\n",
    "\n",
    "for idx in range(len(docs)):\n",
    "    for token in bigram[docs[idx]]:\n",
    "        if '_' in token:\n",
    "            # Token is a bigram, add to document.\n",
    "            docs[idx].append(token)"
   ]
  },
  {
   "cell_type": "code",
   "execution_count": 61,
   "metadata": {},
   "outputs": [
    {
     "name": "stdout",
     "output_type": "stream",
     "text": [
      "Number of unique tokens: 3073\n",
      "Number of chunks: 240\n"
     ]
    }
   ],
   "source": [
    "# Create a dictionary representation of the documents, and filter out frequent and rare words.\n",
    "from gensim.corpora import Dictionary\n",
    "dictionary = Dictionary(docs)\n",
    "\n",
    "# Remove rare and common tokens.\n",
    "# Filter out words that occur too frequently or too rarely.\n",
    "max_freq = 0.5\n",
    "min_wordcount = 5\n",
    "dictionary.filter_extremes(no_below=min_wordcount, no_above=max_freq)\n",
    "\n",
    "# Bag-of-words representation of the documents.\n",
    "corpus = [dictionary.doc2bow(doc) for doc in docs]\n",
    "#MmCorpus.serialize(\"models/corpus.mm\", corpus)\n",
    "\n",
    "print('Number of unique tokens: %d' % len(dictionary))\n",
    "print('Number of chunks: %d' % len(corpus))"
   ]
  },
  {
   "cell_type": "code",
   "execution_count": 62,
   "metadata": {},
   "outputs": [],
   "source": [
    "# models\n",
    "from gensim.models import LdaMulticore\n",
    "params = {'passes': 10, 'random_state': seed}\n",
    "base_models = dict()\n",
    "model = LdaMulticore(corpus=corpus, num_topics=4, id2word=dictionary, workers=6,\n",
    "                passes=params['passes'], random_state=params['random_state'])"
   ]
  },
  {
   "cell_type": "code",
   "execution_count": 63,
   "metadata": {},
   "outputs": [
    {
     "data": {
      "text/plain": [
       "[(0,\n",
       "  '0.006*\"father\" + 0.005*\"life\" + 0.004*\"feeling\" + 0.004*\"mind\" + 0.004*\"night\"'),\n",
       " (1,\n",
       "  '0.019*\"whale\" + 0.012*\"ship\" + 0.011*\"sea\" + 0.009*\"old\" + 0.007*\"Queequeg\"'),\n",
       " (2,\n",
       "  '0.016*\"Elizabeth\" + 0.011*\"Darcy\" + 0.010*\"Bingley\" + 0.009*\"Miss\" + 0.009*\"Bennet\"'),\n",
       " (3,\n",
       "  '0.009*\"room\" + 0.009*\"night\" + 0.008*\"door\" + 0.007*\"sleep\" + 0.007*\"Lucy\"')]"
      ]
     },
     "execution_count": 63,
     "metadata": {},
     "output_type": "execute_result"
    }
   ],
   "source": [
    "model.show_topics(num_words=5)"
   ]
  },
  {
   "cell_type": "code",
   "execution_count": 122,
   "metadata": {},
   "outputs": [
    {
     "data": {
      "text/plain": [
       "[('Elizabeth', 0.0065864567),\n",
       " ('father', 0.006177975),\n",
       " ('life', 0.0044326535),\n",
       " ('feeling', 0.0044310647),\n",
       " ('Collins', 0.0040220963),\n",
       " ('return', 0.0038955947),\n",
       " ('pass', 0.0037969684),\n",
       " ('appear', 0.003745837),\n",
       " ('love', 0.0033569979),\n",
       " ('mind', 0.003348904),\n",
       " ('hope', 0.0031736305),\n",
       " ('dear', 0.003078409),\n",
       " ('remain', 0.0029352237),\n",
       " ('enter', 0.0029246635),\n",
       " ('heart', 0.002858215),\n",
       " ('wish', 0.002743892),\n",
       " ('death', 0.0027272825),\n",
       " ('young', 0.0026763743),\n",
       " ('family', 0.0026666187),\n",
       " ('word', 0.0026335593)]"
      ]
     },
     "execution_count": 122,
     "metadata": {},
     "output_type": "execute_result"
    }
   ],
   "source": [
    "model.show_topic(1,20)"
   ]
  },
  {
   "cell_type": "code",
   "execution_count": 123,
   "metadata": {},
   "outputs": [
    {
     "data": {
      "text/plain": [
       "[(0, 0.9972452)]"
      ]
     },
     "execution_count": 123,
     "metadata": {},
     "output_type": "execute_result"
    }
   ],
   "source": [
    "sorted(model[corpus[0]],key=lambda x:x[1],reverse=True)"
   ]
  },
  {
   "cell_type": "code",
   "execution_count": 124,
   "metadata": {},
   "outputs": [
    {
     "name": "stderr",
     "output_type": "stream",
     "text": [
      "/Users/sakota/opt/anaconda3/envs/ada/lib/python3.9/site-packages/past/builtins/misc.py:45: DeprecationWarning: the imp module is deprecated in favour of importlib; see the module's documentation for alternative uses\n",
      "  from imp import reload\n",
      "/Users/sakota/opt/anaconda3/envs/ada/lib/python3.9/site-packages/past/builtins/misc.py:45: DeprecationWarning: the imp module is deprecated in favour of importlib; see the module's documentation for alternative uses\n",
      "  from imp import reload\n",
      "/Users/sakota/opt/anaconda3/envs/ada/lib/python3.9/site-packages/past/builtins/misc.py:45: DeprecationWarning: the imp module is deprecated in favour of importlib; see the module's documentation for alternative uses\n",
      "  from imp import reload\n",
      "/Users/sakota/opt/anaconda3/envs/ada/lib/python3.9/site-packages/past/builtins/misc.py:45: DeprecationWarning: the imp module is deprecated in favour of importlib; see the module's documentation for alternative uses\n",
      "  from imp import reload\n"
     ]
    },
    {
     "data": {
      "text/html": [
       "\n",
       "<link rel=\"stylesheet\" type=\"text/css\" href=\"https://cdn.jsdelivr.net/gh/bmabey/pyLDAvis@3.3.1/pyLDAvis/js/ldavis.v1.0.0.css\">\n",
       "\n",
       "\n",
       "<div id=\"ldavis_el933711403383956237126394267984\"></div>\n",
       "<script type=\"text/javascript\">\n",
       "\n",
       "var ldavis_el933711403383956237126394267984_data = {\"mdsDat\": {\"x\": [0.08644559590820673, 0.14135509340039262, -0.08477966245843542, -0.1430210268501637], \"y\": [-0.023056884042559667, 0.03894963359644197, -0.09933765177350572, 0.08344490221962343], \"topics\": [1, 2, 3, 4], \"cluster\": [1, 1, 1, 1], \"Freq\": [29.37072169821655, 26.228288596409037, 24.76667068711541, 19.634319018258996]}, \"tinfo\": {\"Term\": [\"whale\", \"ship\", \"Darcy\", \"Elizabeth\", \"Bingley\", \"Miss\", \"Queequeg\", \"sea\", \"Captain\", \"Jane\", \"Ahab\", \"sister\", \"Bennet\", \"Bildad\", \"Count\", \"thou\", \"Peleg\", \"old\", \"Mrs\", \"door\", \"Lucy\", \"Whale\", \"sleep\", \"dear\", \"voyage\", \"Jonah\", \"Wickham\", \"bed\", \"room\", \"Miss_Bingley\", \"Felix\", \"Clerval\", \"cottager\", \"Safie\", \"victim\", \"forever\", \"Justine\", \"Victor\", \"magistrate\", \"hovel\", \"protector\", \"unfortunate\", \"creator\", \"inhabit\", \"Ernest\", \"crime\", \"Frankenstein\", \"hatred\", \"ardently\", \"tranquillity\", \"daemon\", \"Geneva\", \"cottage\", \"remorse\", \"fulfil\", \"threat\", \"abhor\", \"Switzerland\", \"wretch\", \"wretchedness\", \"murderer\", \"reflect\", \"innocence\", \"miserable\", \"misfortune\", \"misery\", \"Henry\", \"sensation\", \"lake\", \"tale\", \"murder\", \"despair\", \"fiend\", \"countenance\", \"father\", \"month\", \"scene\", \"endeavour\", \"pursue\", \"gentle\", \"appear\", \"feeling\", \"Collins\", \"discover\", \"creature\", \"human\", \"return\", \"quit\", \"remain\", \"death\", \"life\", \"tear\", \"Elizabeth\", \"pass\", \"enter\", \"child\", \"mind\", \"family\", \"love\", \"hope\", \"desire\", \"heart\", \"dear\", \"wish\", \"word\", \"manner\", \"young\", \"happy\", \"moment\", \"believe\", \"country\", \"fear\", \"Seward\", \"Miss_Bingley\", \"Darcy\", \"Eliza\", \"Hurst\", \"Bingley\", \"Jane\", \"Mrs_Hurst\", \"Wickham\", \"dance\", \"Netherfield\", \"Amsterdam\", \"Miss\", \"September\", \"Miss Bingley\", \"Miss_Bennet\", \"Lucases\", \"William Lucas\", \"Meryton\", \"presentation\", \"partial\", \"Caroline\", \"Gardiner\", \"Pemberley\", \"dancing\", \"Fitzwilliam\", \"unlucky\", \"Louisa\", \"Forster\", \"Lucas\", \"Colonel\", \"ball\", \"acquaintance\", \"partner\", \"humour\", \"Miss_Lucas\", \"sister\", \"Hertfordshire\", \"Bennet\", \"Sir_William\", \"Mrs\", \"Elizabeth\", \"Charlotte\", \"husband\", \"dear\", \"marry\", \"agreeable\", \"lady\", \"wish\", \"girl\", \"Mrs_Bennet\", \"want\", \"young\", \"attention\", \"hope\", \"love\", \"manner\", \"mother\", \"believe\", \"reply\", \"mean\", \"ask\", \"letter\", \"room\", \"write\", \"Collins\", \"Count\", \"driver\", \"wolf\", \"Dracula\", \"floor\", \"pier\", \"harbour\", \"Hawkins\", \"key\", \"courtyard\", \"crucifix\", \"later\", \"chapel\", \"Cliff\", \"Pass\", \"Bistritz\", \"fog\", \"bench\", \"churchyard\", \"daylight\", \"diary\", \"Pier\", \"outside\", \"steep\", \"Slovaks\", \"Count Dracula\", \"east\", \"asleep\", \"flame\", \"softly\", \"landlord\", \"lock\", \"wall\", \"Lucy\", \"howling\", \"bed\", \"lamp\", \"window\", \"castle\", \"sleep\", \"door\", \"Whitby\", \"moonlight\", \"sweep\", \"pull\", \"whilst\", \"stone\", \"box\", \"August\", \"light\", \"run\", \"red\", \"lie\", \"room\", \"face\", \"white\", \"open\", \"fall\", \"close\", \"old\", \"strange\", \"round\", \"fear\", \"sit\", \"hold\", \"head\", \"try\", \"dark\", \"foot\", \"seat\", \"stand\", \"wind\", \"watch\", \"throw\", \"write\", \"sort\", \"ask\", \"sea\", \"morning\", \"house\", \"Bildad\", \"Peleg\", \"whale\", \"Whale\", \"Pequod\", \"oil\", \"Nantucket\", \"Captain_Peleg\", \"whaling\", \"Captain_Ahab\", \"whale_ship\", \"Jonah\", \"sperm\", \"Leviathan\", \"horn\", \"sperm_whale\", \"pilot\", \"thou\", \"New_Bedford\", \"Captain\", \"New Bedford\", \"Bedford\", \"Sperm\", \"Folio\", \"Pacific\", \"fin\", \"fishery\", \"Horn\", \"Flask\", \"Cape Horn\", \"Ahab\", \"mast\", \"ship\", \"shipmate\", \"whaleman\", \"voyage\", \"Queequeg\", \"Starbuck\", \"sailor\", \"cabin\", \"thee\", \"sea\", \"Stubb\", \"fish\", \"deck\", \"captain\", \"sail\", \"old\", \"head\", \"world\", \"chapter\", \"stand\", \"sort\", \"water\", \"God\", \"mate\", \"round\", \"small\"], \"Freq\": [329.0, 212.0, 256.0, 404.0, 229.0, 215.0, 161.0, 218.0, 125.0, 158.0, 107.0, 192.0, 174.0, 75.0, 87.0, 80.0, 70.0, 279.0, 205.0, 163.0, 104.0, 63.0, 159.0, 237.0, 77.0, 61.0, 85.0, 108.0, 258.0, 76.0, 42.22186208648339, 46.301073566364835, 22.233755809430384, 21.207206209228094, 15.170724826233021, 27.801361922080904, 46.313667795846285, 23.523552781869938, 12.58302905998877, 12.568424050116096, 12.51230079642631, 10.803208653003022, 15.786295893106967, 14.086163587277879, 10.77076889531251, 21.51283983296688, 13.238520986754127, 9.918578933667979, 9.893306796266442, 14.861861464549074, 9.893788883987568, 30.592150254634817, 48.4430967194746, 9.041612660594156, 9.85941328182103, 9.03287450841576, 11.493479586945082, 8.143000523948567, 17.82979205597854, 10.56615887672003, 24.255132139066546, 30.609830134894572, 16.112619323032746, 50.04035075625616, 31.40303678875248, 45.30745830089338, 22.829216574528225, 36.45353512923932, 27.05519254219466, 25.667801531661173, 34.68618156067918, 34.884946577885984, 25.286754900727946, 51.28337772615493, 132.5576274169634, 46.68079882732668, 50.36796558178724, 48.16023362250156, 26.364101059981152, 28.76575467848781, 80.37249586591808, 95.07507230018399, 86.30004665578123, 44.148264637193805, 55.974535872478434, 45.4082021452896, 83.5857728883752, 40.920482519417604, 62.979585191289026, 58.51789580449402, 95.10916314587277, 40.37579083686844, 141.32221199051483, 81.46959763028211, 62.752998966631935, 49.551718631868866, 71.8557093767533, 57.21626395318039, 72.02937585809545, 68.09495555356537, 48.16655821374452, 61.32724826110705, 66.05183781706556, 58.87427603000692, 56.50692557561543, 54.726947803207764, 57.42558494297517, 51.36964395173432, 51.25933328883077, 51.18853883187655, 49.805216841538474, 49.993176099773294, 18.306940905131718, 72.11757002390343, 241.15465647546904, 20.676210317685157, 31.483466782145143, 212.72328968808856, 146.82635315560015, 19.515573654054474, 78.25841897385233, 68.68257873255283, 49.90403507886389, 7.700395494889418, 195.74959691975553, 16.149325373185402, 25.634067407331106, 35.01556555023995, 7.558492861532517, 7.513411071236685, 29.888152926304542, 5.59305015749554, 6.506974964336815, 18.507827620069612, 13.863964904278003, 12.935189238262433, 6.4728449228797045, 28.522826353730153, 9.173085342002855, 6.423181454878341, 7.322095356111354, 56.41663341685974, 29.09793843639033, 36.034040829484596, 31.315523980563135, 18.156809542925885, 19.575409829541755, 22.0158915404151, 149.7458410173212, 22.799028297437566, 127.81773522476452, 35.28031246529063, 144.27132950208852, 258.63005856684396, 58.39393294068432, 29.980997702904993, 147.2840926485878, 41.56279860573033, 33.73901957861875, 84.76423178917037, 105.50238621098532, 70.73772216512505, 51.16048100286847, 74.65630128502889, 110.20438314506396, 55.80640480444387, 83.11374819881617, 85.09578108198406, 77.22955350242054, 64.40765929450944, 68.88465436385735, 61.92166416985633, 75.44215492785726, 66.55037656676967, 67.40848420387144, 80.12740442463641, 61.069998541135064, 57.712364885046306, 86.52697695223323, 29.309201344107812, 21.76679435549876, 15.247281899277025, 19.550611333574224, 15.050788685998407, 24.715968171893454, 13.250538204444858, 31.78499940221995, 10.548276283755786, 9.599750203128984, 21.878708791451217, 11.336064773928033, 10.451341906683759, 8.678038470024301, 8.675396633852932, 12.09592783937633, 11.233211672804543, 12.099001995160355, 8.618596366303182, 13.833254490925105, 8.613749752764955, 19.72885128613043, 11.172579505350656, 7.739750623537411, 7.738279367754512, 12.889560279684089, 26.771821173863064, 23.1317300551434, 8.566570044683196, 23.93125910327396, 34.85589040963312, 38.31262535489942, 89.44722906046043, 15.258446382136377, 91.08233871574818, 24.165337267433113, 83.41455377370022, 30.8715780954023, 123.91722076824563, 123.27799014545762, 16.88340995423698, 18.978095894275913, 27.532520443385533, 16.668718244230732, 32.08997166393218, 28.415712025083398, 22.899815068778143, 29.42267444760407, 89.38992064622832, 76.00830482027222, 32.14057780772594, 69.40867895860656, 135.10934680711856, 73.61658423830323, 58.29272121124574, 78.44617038676769, 60.89976539546846, 58.51523995989086, 117.61451686105922, 57.74388488076826, 65.15674342710498, 71.00860485355423, 73.35507352537316, 51.61702816082758, 76.4513202623705, 61.21563569214236, 41.97223351883647, 50.488262188681276, 42.506915462970234, 59.66649708343272, 46.459110800568766, 47.57646479872545, 48.113766989378796, 54.99555801523738, 56.88169318476189, 55.488080108618796, 62.49292161813805, 53.9066181051427, 50.73648210133919, 74.49755261688846, 69.68460676269349, 325.28986442675864, 62.854777319104244, 45.339481105818635, 30.13156060716251, 50.80454225649737, 29.158301946403633, 31.950917700124627, 39.20921659962393, 21.43198387446234, 59.53908671619334, 17.593607490714987, 16.637466167687542, 15.670986981242352, 15.662679620476197, 17.495376915480687, 76.032218543671, 15.608455514715518, 119.54080743126669, 15.601443935246756, 15.594457403096888, 13.711199590175124, 11.819532557390373, 11.77556699853761, 11.751309505100433, 14.45737758802942, 11.717675130380375, 35.890012692782975, 9.846589479529946, 98.79640418701925, 49.79668489924106, 192.35997594520748, 28.914280946821133, 32.25506562362024, 66.68611540624268, 131.03039332670173, 35.13263520374102, 41.29283626547656, 43.4016234773528, 34.20736386633848, 145.02504507568185, 36.56724878029511, 45.651897984191436, 52.70380029672794, 34.563790553827424, 52.71005878680866, 109.73567042959391, 72.59827119916025, 61.34037634312735, 54.86466589404637, 53.2870421455412, 54.27179919549319, 45.16976715228517, 47.66984691954931, 39.57058595804108, 43.645571004799876, 40.95063311547628], \"Total\": [329.0, 212.0, 256.0, 404.0, 229.0, 215.0, 161.0, 218.0, 125.0, 158.0, 107.0, 192.0, 174.0, 75.0, 87.0, 80.0, 70.0, 279.0, 205.0, 163.0, 104.0, 63.0, 159.0, 237.0, 77.0, 61.0, 85.0, 108.0, 258.0, 76.0, 43.62099145011645, 48.18636633109401, 23.176157726452107, 22.292626489743665, 16.076614911358373, 29.517724664857298, 49.25996198779393, 25.03684983267445, 13.400789855052894, 13.40070256189474, 13.412030637718772, 11.629096186656565, 17.007873183202125, 15.194893712965177, 11.626640066554819, 23.231968303385838, 14.333678625144659, 10.73949503349217, 10.738908769574437, 16.132785539720068, 10.740749888696678, 33.23661648840641, 52.72771483789442, 9.848594607788522, 10.749400212594344, 9.851238757843872, 12.543350987156247, 8.963218261185439, 19.690574931241144, 11.670340093115314, 26.832848582915446, 34.24413980483915, 17.921527002190462, 58.76782645926082, 36.170043372093446, 53.371990888941575, 26.061832537613014, 43.08656948598849, 31.37504463057482, 29.700708617207606, 41.281510060172174, 42.305228387369176, 29.589169646189912, 65.63222871669029, 206.142308459772, 61.280580550671665, 67.15961454753798, 63.83430316805876, 31.60826951700364, 35.202253097031544, 128.41166111060164, 162.44314102796653, 144.90491751199235, 61.48001320963317, 85.77826538370567, 65.40272539074786, 153.60368294920832, 57.145189810157426, 110.53201479514851, 99.243266491855, 214.285205447794, 57.453590536164214, 404.2568193521577, 176.37196568684976, 118.77055319387827, 80.49820850443554, 167.65639369134985, 114.66964631382501, 185.03811663472766, 174.60400499468184, 83.21704372554264, 158.81402199005103, 237.0960576028656, 193.9158869122359, 168.9100363475811, 157.90512990836118, 229.2093080876126, 119.04338114439277, 135.32883944368507, 137.17538505937262, 104.83955952816987, 144.57288553818466, 19.158621502798376, 76.4715054485517, 256.4747578555507, 22.237329213614967, 33.92473122457826, 229.44951934624586, 158.51670473437503, 21.173337623521174, 85.39482676158076, 75.05327106656812, 54.80126102685245, 8.456439540786773, 215.04147868323406, 17.89847251796006, 28.45702600875204, 38.92741422379548, 8.434281441825906, 8.42452260928648, 33.59325394378927, 6.318666368193196, 7.363602624618321, 20.971849928448144, 15.728812451553777, 14.700553325117735, 7.360615539870087, 32.47049446167242, 10.488546869410714, 7.364498940758167, 8.39859985182787, 64.7723234667984, 33.46408940264692, 42.00144192801304, 36.56476242748825, 21.058637337626422, 22.950124679314634, 26.00804623919219, 192.34785288113756, 27.034832079712572, 174.7490928179942, 43.45855682002476, 205.95973247362846, 404.2568193521577, 78.4263704366114, 37.17797430304167, 237.0960576028656, 55.15345641790982, 43.134261715048815, 132.7652405140808, 193.9158869122359, 116.02169191200247, 77.19950805570427, 131.18054231241098, 229.2093080876126, 89.8547917355972, 174.60400499468184, 185.03811663472766, 157.90512990836118, 118.68598701070651, 137.17538505937262, 113.59834609679592, 169.69519674211466, 143.6316064603642, 150.26447022329228, 258.66570423878227, 133.00511300688999, 144.90491751199235, 87.536385242049, 30.133551766806825, 22.612006333846278, 16.021187274687666, 20.726979018590193, 16.011247511377896, 26.32850165969656, 14.154052043352912, 34.0610830535565, 11.315052759465686, 10.373501439084519, 23.659909734058218, 12.263904453255636, 11.32347436740181, 9.433211367142118, 9.434026567215628, 13.204747874651812, 12.268155799892355, 13.215811396995615, 9.428437045452139, 15.144320640433607, 9.431457731670555, 21.6233486877034, 12.258258147895658, 8.492512048855746, 8.492915957879148, 14.14977721220597, 29.389566993663973, 25.452711856367245, 9.427352641721392, 26.429367121471984, 38.65421237353997, 43.11979927633702, 104.25567323913582, 16.961410018534647, 108.42042937170828, 27.379589606665164, 101.94516797392988, 35.781879468060154, 159.93675589256063, 163.17387056315107, 18.99245153722734, 21.714699042540317, 33.07961815349642, 18.855026761926858, 39.868090456324516, 34.974186084541486, 27.4223695852146, 37.047586949597, 139.53789127064857, 115.20462219575218, 41.75840058121257, 110.61817072778868, 258.66570423878227, 124.27249387268358, 92.71894891646204, 141.14031086694564, 100.79580166646025, 100.0179327618555, 279.7980234662141, 100.21203177529593, 123.05030911730869, 144.57288553818466, 152.20561979351007, 91.23783163654437, 183.59735748902693, 126.16397908847908, 66.37306878126566, 94.48109850561615, 68.86040396610767, 143.24862967801943, 83.8570759676541, 89.02599072973139, 91.52683607840017, 133.00511300688999, 151.8360731848099, 143.6316064603642, 218.83716784228903, 145.2291663038137, 162.91664553457508, 75.4162060853415, 70.58074755852535, 329.66325921535304, 63.81349593375606, 46.406337262701726, 30.93991844430375, 52.198733975802035, 29.971125056033706, 32.873657136727054, 40.59414298504563, 22.237074142358036, 61.84621101746144, 18.36983566676956, 17.403729676658646, 16.436989129131234, 16.43638221791847, 18.367302502581243, 80.0294603192096, 16.434157908933447, 125.86853396468526, 16.434000961342342, 16.43366306832769, 14.501379865232943, 12.56838381050688, 12.565195929593978, 12.56620194654619, 15.462615355568907, 12.565810749414403, 38.62307000423086, 10.633592326818745, 107.12603147285036, 54.056546301729746, 212.23417012897954, 31.851341588503953, 35.70115629821207, 77.60695005012921, 161.63144365133044, 39.543661700580714, 47.243019591274354, 50.04646353075573, 40.20891906166825, 218.83716784228903, 44.28547908822081, 57.983210276693434, 69.12003818560575, 44.23013210823441, 84.93391042587588, 279.7980234662141, 183.59735748902693, 158.62989613548007, 126.57895637301229, 143.24862967801943, 151.8360731848099, 94.33152594486623, 117.33359453850875, 65.92669940806334, 123.05030911730869, 93.50527661782063], \"Category\": [\"Default\", \"Default\", \"Default\", \"Default\", \"Default\", \"Default\", \"Default\", \"Default\", \"Default\", \"Default\", \"Default\", \"Default\", \"Default\", \"Default\", \"Default\", \"Default\", \"Default\", \"Default\", \"Default\", \"Default\", \"Default\", \"Default\", \"Default\", \"Default\", \"Default\", \"Default\", \"Default\", \"Default\", \"Default\", \"Default\", \"Topic1\", \"Topic1\", \"Topic1\", \"Topic1\", \"Topic1\", \"Topic1\", \"Topic1\", \"Topic1\", \"Topic1\", \"Topic1\", \"Topic1\", \"Topic1\", \"Topic1\", \"Topic1\", \"Topic1\", \"Topic1\", \"Topic1\", \"Topic1\", \"Topic1\", \"Topic1\", \"Topic1\", \"Topic1\", \"Topic1\", \"Topic1\", \"Topic1\", \"Topic1\", \"Topic1\", \"Topic1\", \"Topic1\", \"Topic1\", \"Topic1\", \"Topic1\", \"Topic1\", \"Topic1\", \"Topic1\", \"Topic1\", \"Topic1\", \"Topic1\", \"Topic1\", \"Topic1\", \"Topic1\", \"Topic1\", \"Topic1\", \"Topic1\", \"Topic1\", \"Topic1\", \"Topic1\", \"Topic1\", \"Topic1\", \"Topic1\", \"Topic1\", \"Topic1\", \"Topic1\", \"Topic1\", \"Topic1\", \"Topic1\", \"Topic1\", \"Topic1\", \"Topic1\", \"Topic1\", \"Topic1\", \"Topic1\", \"Topic1\", \"Topic1\", \"Topic1\", \"Topic1\", \"Topic1\", \"Topic1\", \"Topic1\", \"Topic1\", \"Topic1\", \"Topic1\", \"Topic1\", \"Topic1\", \"Topic1\", \"Topic1\", \"Topic1\", \"Topic1\", \"Topic1\", \"Topic1\", \"Topic1\", \"Topic1\", \"Topic2\", \"Topic2\", \"Topic2\", \"Topic2\", \"Topic2\", \"Topic2\", \"Topic2\", \"Topic2\", \"Topic2\", \"Topic2\", \"Topic2\", \"Topic2\", \"Topic2\", \"Topic2\", \"Topic2\", \"Topic2\", \"Topic2\", \"Topic2\", \"Topic2\", \"Topic2\", \"Topic2\", \"Topic2\", \"Topic2\", \"Topic2\", \"Topic2\", \"Topic2\", \"Topic2\", \"Topic2\", \"Topic2\", \"Topic2\", \"Topic2\", \"Topic2\", \"Topic2\", \"Topic2\", \"Topic2\", \"Topic2\", \"Topic2\", \"Topic2\", \"Topic2\", \"Topic2\", \"Topic2\", \"Topic2\", \"Topic2\", \"Topic2\", \"Topic2\", \"Topic2\", \"Topic2\", \"Topic2\", \"Topic2\", \"Topic2\", \"Topic2\", \"Topic2\", \"Topic2\", \"Topic2\", \"Topic2\", \"Topic2\", \"Topic2\", \"Topic2\", \"Topic2\", \"Topic2\", \"Topic2\", \"Topic2\", \"Topic2\", \"Topic2\", \"Topic2\", \"Topic2\", \"Topic3\", \"Topic3\", \"Topic3\", \"Topic3\", \"Topic3\", \"Topic3\", \"Topic3\", \"Topic3\", \"Topic3\", \"Topic3\", \"Topic3\", \"Topic3\", \"Topic3\", \"Topic3\", \"Topic3\", \"Topic3\", \"Topic3\", \"Topic3\", \"Topic3\", \"Topic3\", \"Topic3\", \"Topic3\", \"Topic3\", \"Topic3\", \"Topic3\", \"Topic3\", \"Topic3\", \"Topic3\", \"Topic3\", \"Topic3\", \"Topic3\", \"Topic3\", \"Topic3\", \"Topic3\", \"Topic3\", \"Topic3\", \"Topic3\", \"Topic3\", \"Topic3\", \"Topic3\", \"Topic3\", \"Topic3\", \"Topic3\", \"Topic3\", \"Topic3\", \"Topic3\", \"Topic3\", \"Topic3\", \"Topic3\", \"Topic3\", \"Topic3\", \"Topic3\", \"Topic3\", \"Topic3\", \"Topic3\", \"Topic3\", \"Topic3\", \"Topic3\", \"Topic3\", \"Topic3\", \"Topic3\", \"Topic3\", \"Topic3\", \"Topic3\", \"Topic3\", \"Topic3\", \"Topic3\", \"Topic3\", \"Topic3\", \"Topic3\", \"Topic3\", \"Topic3\", \"Topic3\", \"Topic3\", \"Topic3\", \"Topic3\", \"Topic3\", \"Topic3\", \"Topic3\", \"Topic3\", \"Topic4\", \"Topic4\", \"Topic4\", \"Topic4\", \"Topic4\", \"Topic4\", \"Topic4\", \"Topic4\", \"Topic4\", \"Topic4\", \"Topic4\", \"Topic4\", \"Topic4\", \"Topic4\", \"Topic4\", \"Topic4\", \"Topic4\", \"Topic4\", \"Topic4\", \"Topic4\", \"Topic4\", \"Topic4\", \"Topic4\", \"Topic4\", \"Topic4\", \"Topic4\", \"Topic4\", \"Topic4\", \"Topic4\", \"Topic4\", \"Topic4\", \"Topic4\", \"Topic4\", \"Topic4\", \"Topic4\", \"Topic4\", \"Topic4\", \"Topic4\", \"Topic4\", \"Topic4\", \"Topic4\", \"Topic4\", \"Topic4\", \"Topic4\", \"Topic4\", \"Topic4\", \"Topic4\", \"Topic4\", \"Topic4\", \"Topic4\", \"Topic4\", \"Topic4\", \"Topic4\", \"Topic4\", \"Topic4\", \"Topic4\", \"Topic4\", \"Topic4\"], \"logprob\": [30.0, 29.0, 28.0, 27.0, 26.0, 25.0, 24.0, 23.0, 22.0, 21.0, 20.0, 19.0, 18.0, 17.0, 16.0, 15.0, 14.0, 13.0, 12.0, 11.0, 10.0, 9.0, 8.0, 7.0, 6.0, 5.0, 4.0, 3.0, 2.0, 1.0, -6.2308, -6.1386, -6.8722, -6.9194, -7.2544, -6.6487, -6.1383, -6.8158, -7.4414, -7.4426, -7.4471, -7.5939, -7.2146, -7.3286, -7.5969, -6.9051, -7.3907, -7.6794, -7.6819, -7.275, -7.6819, -6.553, -6.0934, -7.7719, -7.6854, -7.7729, -7.532, -7.8766, -7.0929, -7.6161, -6.7852, -6.5525, -7.1942, -6.061, -6.5269, -6.1603, -6.8457, -6.3777, -6.6759, -6.7285, -6.4274, -6.4217, -6.7435, -6.0364, -5.0868, -6.1304, -6.0544, -6.0992, -6.7018, -6.6146, -5.5871, -5.4191, -5.516, -6.1862, -5.9489, -6.1581, -5.5479, -6.2622, -5.831, -5.9044, -5.4188, -6.2756, -5.0227, -5.5736, -5.8346, -6.0708, -5.6991, -5.9269, -5.6967, -5.7529, -6.0991, -5.8576, -5.7833, -5.8984, -5.9394, -5.9714, -5.9233, -6.0347, -6.0369, -6.0383, -6.0657, -6.0619, -6.9533, -5.5823, -4.3752, -6.8316, -6.4112, -4.5006, -4.8714, -6.8894, -5.5006, -5.6311, -5.9505, -7.8194, -4.5838, -7.0787, -6.6167, -6.3048, -7.838, -7.8439, -6.4632, -8.1391, -7.9877, -6.9424, -7.2313, -7.3007, -7.993, -6.5099, -7.6443, -8.0007, -7.8697, -5.8279, -6.49, -6.2762, -6.4165, -6.9616, -6.8863, -6.7689, -4.8517, -6.7339, -5.01, -6.2973, -4.8889, -4.3052, -5.7934, -6.4601, -4.8683, -6.1334, -6.342, -5.4207, -5.2019, -5.6016, -5.9257, -5.5477, -5.1583, -5.8387, -5.4404, -5.4168, -5.5138, -5.6954, -5.6282, -5.7348, -5.5373, -5.6627, -5.6499, -5.477, -5.7486, -5.8052, -5.3428, -6.4254, -6.7229, -7.0789, -6.8303, -7.0919, -6.5958, -7.2192, -6.3443, -7.4473, -7.5415, -6.7178, -7.3753, -7.4566, -7.6425, -7.6428, -7.3104, -7.3844, -7.3102, -7.6494, -7.1762, -7.6499, -6.8212, -7.3898, -7.7569, -7.7571, -7.2469, -6.5159, -6.6621, -7.6554, -6.6281, -6.2521, -6.1575, -5.3096, -7.0781, -5.2915, -6.6184, -5.3795, -6.3734, -4.9837, -4.9888, -6.977, -6.86, -6.4879, -6.9897, -6.3347, -6.4563, -6.6722, -6.4215, -5.3103, -5.4724, -6.3332, -5.5633, -4.8972, -5.5044, -5.7378, -5.4409, -5.6941, -5.734, -5.0359, -5.7473, -5.6265, -5.5405, -5.508, -5.8594, -5.4666, -5.6889, -6.0663, -5.8815, -6.0536, -5.7145, -5.9647, -5.9409, -5.9297, -5.796, -5.7623, -5.7871, -5.6682, -5.816, -5.8766, -5.2603, -5.3271, -3.7863, -5.4302, -5.7569, -6.1655, -5.6431, -6.1983, -6.1069, -5.9022, -6.5062, -5.4844, -6.7035, -6.7594, -6.8193, -6.8198, -6.7091, -5.2399, -6.8233, -4.7874, -6.8237, -6.8241, -6.9529, -7.1013, -7.105, -7.1071, -6.8999, -7.11, -5.9906, -7.2839, -4.978, -5.6631, -4.3117, -6.2067, -6.0974, -5.3711, -4.6956, -6.0119, -5.8504, -5.8006, -6.0386, -4.5942, -5.9719, -5.75, -5.6064, -6.0283, -5.6063, -4.873, -5.2861, -5.4546, -5.5662, -5.5954, -5.5771, -5.7606, -5.7068, -5.893, -5.795, -5.8587], \"loglift\": [30.0, 29.0, 28.0, 27.0, 26.0, 25.0, 24.0, 23.0, 22.0, 21.0, 20.0, 19.0, 18.0, 17.0, 16.0, 15.0, 14.0, 13.0, 12.0, 11.0, 10.0, 9.0, 8.0, 7.0, 6.0, 5.0, 4.0, 3.0, 2.0, 1.0, 1.1926, 1.1853, 1.1837, 1.1753, 1.1672, 1.1653, 1.1635, 1.1628, 1.1622, 1.1611, 1.1557, 1.1515, 1.1506, 1.1494, 1.1487, 1.1483, 1.1457, 1.1457, 1.1432, 1.1431, 1.143, 1.1423, 1.1404, 1.1397, 1.1387, 1.1384, 1.1378, 1.1292, 1.1259, 1.1258, 1.1242, 1.113, 1.1188, 1.0644, 1.0838, 1.0614, 1.0927, 1.058, 1.077, 1.0792, 1.0511, 1.0323, 1.068, 0.9785, 0.7836, 0.953, 0.9375, 0.9434, 1.0438, 1.0232, 0.7566, 0.6895, 0.7069, 0.894, 0.7983, 0.8603, 0.6167, 0.8912, 0.6627, 0.6969, 0.4129, 0.8724, 0.1742, 0.4528, 0.5872, 0.74, 0.3779, 0.53, 0.2817, 0.2836, 0.6784, 0.2737, -0.0529, 0.0332, 0.1302, 0.1655, -0.159, 0.3847, 0.2544, 0.2394, 0.4809, 0.1633, 1.2929, 1.2797, 1.2767, 1.2655, 1.2636, 1.2626, 1.2617, 1.2568, 1.2511, 1.2496, 1.2447, 1.2447, 1.2443, 1.2355, 1.2339, 1.2324, 1.2287, 1.2239, 1.2215, 1.2163, 1.2147, 1.2133, 1.2121, 1.2104, 1.2098, 1.2087, 1.2043, 1.2016, 1.2012, 1.2002, 1.1985, 1.1851, 1.1834, 1.1901, 1.1793, 1.1717, 1.088, 1.1679, 1.0256, 1.1298, 0.9823, 0.8917, 1.0434, 1.1232, 0.8622, 1.0554, 1.0927, 0.8896, 0.7296, 0.8435, 0.9269, 0.7747, 0.606, 0.862, 0.596, 0.5615, 0.6231, 0.7271, 0.6495, 0.7315, 0.5277, 0.569, 0.5367, 0.1664, 0.56, 0.4177, 1.3841, 1.3679, 1.3576, 1.3462, 1.3372, 1.3338, 1.3325, 1.3297, 1.3265, 1.3255, 1.3182, 1.3174, 1.317, 1.3155, 1.3122, 1.3118, 1.308, 1.3075, 1.3074, 1.3059, 1.3051, 1.305, 1.304, 1.3029, 1.3029, 1.3026, 1.3024, 1.3024, 1.3001, 1.2999, 1.2964, 1.2922, 1.2775, 1.2425, 1.2899, 1.2214, 1.2708, 1.1951, 1.2481, 1.1405, 1.1153, 1.278, 1.261, 1.2121, 1.2724, 1.1786, 1.188, 1.2154, 1.1652, 0.9503, 0.9798, 1.1339, 0.9296, 0.7462, 0.8721, 0.9316, 0.8083, 0.8918, 0.8596, 0.529, 0.8444, 0.7599, 0.6847, 0.6658, 0.8261, 0.5196, 0.6725, 0.9374, 0.769, 0.9133, 0.5199, 0.8051, 0.7691, 0.7526, 0.5125, 0.4138, 0.4446, 0.1424, 0.4046, 0.2291, 1.6156, 1.6151, 1.6145, 1.6128, 1.6046, 1.6014, 1.6008, 1.6004, 1.5994, 1.5932, 1.591, 1.5899, 1.5847, 1.5829, 1.5802, 1.5797, 1.5793, 1.5767, 1.5763, 1.5763, 1.5759, 1.5755, 1.5719, 1.5665, 1.563, 1.5608, 1.5607, 1.558, 1.5545, 1.551, 1.5469, 1.5458, 1.5296, 1.5311, 1.5264, 1.4762, 1.418, 1.5096, 1.4933, 1.4854, 1.4662, 1.2165, 1.4364, 1.3888, 1.3567, 1.3813, 1.1508, 0.6919, 0.7001, 0.6778, 0.7919, 0.639, 0.5991, 0.8915, 0.7272, 1.1174, 0.5914, 0.8022]}, \"token.table\": {\"Topic\": [3, 4, 2, 1, 2, 3, 4, 4, 1, 2, 4, 4, 1, 2, 4, 3, 4, 1, 2, 3, 4, 3, 4, 4, 1, 2, 1, 2, 1, 2, 3, 1, 2, 4, 1, 2, 4, 3, 3, 1, 2, 4, 3, 1, 2, 1, 2, 3, 4, 1, 1, 3, 1, 2, 4, 3, 4, 4, 2, 1, 2, 1, 2, 1, 2, 1, 2, 3, 4, 3, 1, 2, 4, 1, 2, 4, 1, 2, 4, 1, 2, 4, 3, 4, 1, 2, 4, 2, 1, 2, 2, 2, 3, 1, 2, 4, 1, 2, 3, 4, 1, 2, 4, 1, 2, 4, 1, 2, 4, 1, 2, 1, 2, 3, 4, 1, 2, 4, 1, 2, 4, 3, 4, 1, 2, 4, 4, 4, 4, 3, 4, 1, 2, 4, 4, 3, 3, 4, 1, 3, 1, 2, 2, 1, 2, 4, 3, 4, 3, 4, 3, 4, 1, 1, 2, 4, 2, 3, 1, 2, 4, 2, 1, 1, 2, 4, 1, 2, 4, 1, 2, 3, 4, 1, 1, 2, 3, 4, 2, 3, 4, 1, 2, 3, 4, 1, 2, 4, 1, 2, 3, 4, 1, 2, 3, 4, 3, 3, 4, 1, 3, 4, 3, 4, 1, 3, 4, 3, 1, 2, 3, 4, 1, 2, 3, 4, 2, 3, 1, 2, 3, 4, 1, 3, 4, 1, 1, 2, 3, 4, 1, 2, 3, 4, 3, 1, 2, 1, 2, 3, 4, 1, 3, 4, 3, 1, 1, 2, 3, 4, 2, 1, 2, 3, 4, 3, 1, 2, 3, 4, 1, 2, 3, 4, 1, 3, 4, 1, 2, 3, 4, 1, 2, 3, 4, 2, 3, 1, 2, 3, 4, 1, 2, 3, 4, 3, 3, 4, 1, 2, 3, 1, 2, 3, 4, 1, 2, 3, 4, 1, 2, 3, 4, 1, 2, 3, 4, 1, 2, 3, 4, 1, 2, 3, 4, 1, 2, 3, 4, 1, 3, 4, 1, 2, 3, 4, 4, 3, 4, 3, 4, 3, 4, 1, 2, 3, 4, 1, 2, 1, 1, 2, 3, 1, 2, 3, 4, 1, 2, 3, 4, 1, 3, 1, 1, 2, 3, 4, 1, 2, 3, 4, 1, 2, 3, 4, 1, 2, 3, 4, 4, 1, 2, 3, 4, 1, 3, 4, 1, 2, 3, 4, 1, 2, 3, 1, 2, 3, 1, 3, 1, 4, 2, 3, 1, 2, 3, 4, 1, 3, 3, 4, 3, 4, 2, 3, 1, 2, 3, 4, 1, 2, 3, 4, 1, 2, 3, 4, 1, 2, 3, 4, 1, 3, 4, 1, 2, 3, 4, 1, 1, 2, 3, 4, 1, 2, 3, 3, 4, 1, 3, 4, 1, 2, 3, 4, 1, 2, 3, 4, 1, 2, 3, 4, 1, 2, 3, 4, 1, 2, 3, 1, 2, 3, 4, 1, 2, 3, 4, 3, 4, 1, 2, 3, 4, 1, 2, 3, 4, 1, 3, 4, 1, 3, 4, 4, 1, 2, 3, 4, 1, 2, 3, 4, 1, 3, 2, 2, 4, 1, 2, 3, 4, 3, 4, 2, 1, 1, 2, 3, 1, 2, 3, 4, 1, 2, 3, 4, 1, 2, 3, 4, 1, 2, 3, 1, 2, 3, 4, 1, 1, 2, 3, 4, 1, 2, 3, 4, 1, 2, 3, 4, 1, 2, 3, 4, 1, 2, 3, 4, 1, 3, 4, 3, 4, 1, 2, 3, 4, 1, 2, 3, 4, 1, 2, 3, 4, 1, 2, 3, 2, 3, 4, 3, 4, 1, 2, 3, 4, 1, 2, 3, 4, 1, 2, 3, 4, 1, 2, 3, 4, 3, 1, 2, 3, 4, 4, 4, 1, 2, 3, 4, 3, 4, 3, 4, 1, 2, 3, 4, 3, 4, 1, 2, 3, 1, 2, 3, 4, 1, 3, 4, 1, 3, 4, 1, 1, 2, 3, 4, 1, 2, 1, 2, 3, 4, 1, 1, 2, 1, 1, 2, 3, 4, 1, 3, 4, 1, 2, 3, 4, 1, 2, 3, 4, 1, 3, 4, 2, 3, 4, 4, 3, 4, 4, 1, 2, 3, 1, 2, 3, 4, 1, 2, 3, 4, 1, 2, 3, 4, 1, 2, 3, 4, 3, 1, 2, 3, 4, 1, 2, 3, 4, 1, 3, 1, 2, 1, 2, 3, 4, 1, 2, 3, 4], \"Freq\": [0.07467839413081863, 0.9241451273688805, 0.9460246196303667, 0.05398462260770147, 0.10796924521540294, 0.7827770278116714, 0.026992311303850734, 0.9736112961228054, 0.2575120664395591, 0.7324787667614124, 0.005722490365323535, 0.9812214620854978, 0.05665734248230274, 0.9283087652869603, 0.013074771342069863, 0.9539934974612089, 0.9404159659929058, 0.01588959477800176, 0.03177918955600352, 0.00794479738900088, 0.9533756866801056, 0.02463409562232629, 0.9607297292707253, 0.9675979779131381, 0.09536593132335056, 0.9059763475718303, 0.24226545094748286, 0.7395471660502108, 0.954626868602807, 0.0207527580131045, 0.8831211760224541, 0.5934926258998948, 0.4002624686301616, 0.006901077045347615, 0.089648338070801, 0.8666006013510763, 0.029882779356933665, 0.9938724309832326, 0.9419615170662492, 0.04678823015697524, 0.9396636223192527, 0.01169705753924381, 0.9362601998728852, 0.04496942912495727, 0.9443580116241026, 0.34878817932115463, 0.6406818329374401, 0.002473675030646487, 0.00742102509193946, 0.9461030819765883, 0.9628391882846092, 0.022924742578204982, 0.09239157117059443, 0.8931185213157462, 0.030797190390198143, 0.051782522719735, 0.9320854089552301, 0.9547766984939047, 0.8334722600787465, 0.906954895528, 0.06976576119446154, 0.06357759068461742, 0.890086269584644, 0.9327062521786299, 0.060174596914750314, 0.11931791619496679, 0.08522708299640486, 0.3920445817834623, 0.4090899983827433, 0.9184649003820158, 0.882516606106109, 0.03837028722200474, 0.07674057444400947, 0.14795727187082003, 0.8507543132572152, 0.954972205081095, 0.029477020565914055, 0.9137876375433357, 0.029477020565914055, 0.06308483397227382, 0.9273470593924251, 0.012616966794454764, 0.032338278563828704, 0.9701483569148611, 0.9338212646489311, 0.040600924549953524, 0.976802117467952, 0.8147193785029327, 0.12350954191261511, 0.8645667933883058, 0.9485099655707138, 0.13428525820256884, 0.8536705700020448, 0.08930364426797782, 0.8930364426797782, 0.02976788142265927, 0.065103718992849, 0.911452065899886, 0.013950796927039072, 0.013950796927039072, 0.0702814130817779, 0.9136583700631128, 0.03514070654088895, 0.07706651109043265, 0.8991092960550475, 0.025688837030144216, 0.026153532459820016, 0.9415271685535206, 0.026153532459820016, 0.11534891826973236, 0.8458920673113707, 0.23305526484962796, 0.6991657945488838, 0.029131908106203495, 0.03884254414160466, 0.3238362604844702, 0.6606259713883191, 0.012953450419378806, 0.04722920957388945, 0.944584191477789, 0.04722920957388945, 0.019157552757190888, 0.9770351906167353, 0.07299102110150371, 0.9123877637687964, 0.018247755275375928, 0.9735912780847925, 0.9735819802061508, 0.9550189322346491, 0.9540759397535514, 0.9917718701116931, 0.06802465035730151, 0.8843204546449196, 0.06802465035730151, 0.9696951462740835, 0.9542533355981936, 0.1856074494064142, 0.8104858624080086, 0.9420155139485976, 0.044857881616599884, 0.05587068946786152, 0.8939310314857843, 0.9395247981370088, 0.16107299717726825, 0.8053649858863412, 0.023010428168181177, 0.9420063173272618, 0.9654253684895876, 0.10115401123667965, 0.8850975983209469, 0.15806535560009063, 0.8354883081719077, 0.8925365607399537, 0.9585870491054628, 0.039941127046060954, 0.9872519766884338, 0.10530499425415278, 0.8950924511602986, 0.07026186746360855, 0.9134042770269112, 0.011710311243934759, 0.9496087043770857, 0.8769586381871511, 0.10939494022236351, 0.8478107867233172, 0.027348735055590878, 0.20865084139970458, 0.7882365119544396, 0.0231834268221894, 0.6229963798310776, 0.20247382344510023, 0.11681182121832706, 0.054512183235219294, 0.9311933097273423, 0.11835835035856977, 0.46647114553083385, 0.38292407468949047, 0.027849023613781124, 0.0680513598730861, 0.9186933582866623, 0.03402567993654305, 0.311613876780123, 0.623227753560246, 0.055645335139307674, 0.011129067027861535, 0.047617412836155316, 0.8571134310507956, 0.09523482567231063, 0.06456347794013267, 0.0368934159657901, 0.8393252132217247, 0.06456347794013267, 0.3717868185893996, 0.5030056957385994, 0.09476918905219989, 0.029159750477599968, 0.8966302824501559, 0.8387313112576886, 0.14586631500133715, 0.019981431842540812, 0.09990715921270406, 0.859201569229255, 0.20348119191632377, 0.7913157463412591, 0.027947106604409258, 0.866360304736687, 0.08384131981322777, 0.8969411040282433, 0.22120580546965102, 0.22910601280785284, 0.11060290273482551, 0.43451140360110024, 0.6211318354649463, 0.1490716405115871, 0.1490716405115871, 0.09938109367439142, 0.0756669393925622, 0.9080032727107464, 0.14997310568011107, 0.14997310568011107, 0.5898942156751036, 0.10998027749874813, 0.9103371945393565, 0.018965358219569926, 0.05689607465870978, 0.9492513927315183, 0.7770572628296362, 0.10665491842759711, 0.045709250754684475, 0.06094566767291264, 0.4769192108878066, 0.2384596054439033, 0.18122930013736652, 0.10492222639531745, 0.9721563154708115, 0.9407407867905815, 0.05879629917441134, 0.6528460298130216, 0.11657964818089674, 0.05828982409044837, 0.17486947227134508, 0.9469709889709909, 0.04304413586231777, 0.04304413586231777, 0.9639946606960242, 0.9310336897914152, 0.03997160893013131, 0.9193470053930202, 0.03997160893013131, 0.013323869643377104, 0.8151492178201578, 0.25612797949758787, 0.06026540694060891, 0.6327867728763935, 0.04519905520545668, 0.9545590596419374, 0.27836818826633375, 0.6200018738659251, 0.08435399644434355, 0.012653099466651533, 0.5944987714087605, 0.07053375254002242, 0.23175375834578799, 0.10076250362860346, 0.014467584599920693, 0.2170137689988104, 0.7667819837957968, 0.5768049170108512, 0.22831861298346195, 0.1682347674614983, 0.0360503073131782, 0.8273209088843908, 0.023637740253839738, 0.14182644152303844, 0.023637740253839738, 0.06603135417841816, 0.9244389584978542, 0.7156797421296867, 0.13012358947812486, 0.06506179473906243, 0.08132724342382804, 0.14095394023946137, 0.0857980505805417, 0.7537971586719021, 0.024513728737297628, 0.9623824043186482, 0.9187423805362714, 0.07067249081048242, 0.7519468000399214, 0.23498337501247543, 0.01566555833416503, 0.5304345084354392, 0.12629393057986646, 0.2525878611597329, 0.09261554909190207, 0.14484299332111972, 0.10460882850969758, 0.5954656392090477, 0.1609366592456886, 0.22818410707331313, 0.10913152946984542, 0.6051839361509609, 0.049605240668111554, 0.4970801064826155, 0.4273144775025993, 0.017441407245004054, 0.06104492535751419, 0.6451853624504962, 0.2765080124787841, 0.04851017762785686, 0.0339571243394998, 0.34584631699001384, 0.08300311607760331, 0.4911017701258196, 0.08300311607760331, 0.5848200139373358, 0.2708640064551871, 0.13543200322759355, 0.012312000293417598, 0.8449037367028364, 0.13518459787245382, 0.9549424759402494, 0.0689854870213665, 0.0689854870213665, 0.0689854870213665, 0.7933331007457148, 0.9054095751633541, 0.9036365213181136, 0.07857708881027074, 0.9649259538527944, 0.048246297692639724, 0.9087640380499443, 0.07573033650416203, 0.1058412757489857, 0.01058412757489857, 0.5292063787449286, 0.33869208239675425, 0.9485825997061269, 0.03387794998950453, 0.9302844625957528, 0.8238109055140407, 0.05681454520786487, 0.11362909041572974, 0.27581049261262836, 0.6119545304842692, 0.07757170104730172, 0.04309538947072318, 0.4284152508919411, 0.436815549929038, 0.12600448555645327, 0.008400299037096885, 0.037981652466414044, 0.949541311660351, 0.9311424763281716, 0.09804062676161233, 0.09259392527485609, 0.41394931299347426, 0.3976092085332056, 0.384097066717581, 0.19519686997122968, 0.2644602754448918, 0.1574168306219594, 0.10960365695489198, 0.08768292556391359, 0.5699390161654383, 0.24112804530076234, 0.38945269326480325, 0.4753613756026275, 0.10881766429457737, 0.028636227445941416, 0.9734142837414937, 0.30690541065301224, 0.276214869587711, 0.3130435188660725, 0.1104859478350844, 0.9700983914802983, 0.8843604384074609, 0.0589573625604974, 0.6880447218544486, 0.15289882707876637, 0.09173929624725982, 0.06115953083150655, 0.08714549606794235, 0.8714549606794234, 0.043572748033971175, 0.16138587732331391, 0.8069293866165695, 0.026897646220552317, 0.9213621539224309, 0.06581158242303078, 0.892781067039901, 0.05579881668999381, 0.058718038908371385, 0.9394886225339422, 0.24102694256488127, 0.6402278161879659, 0.08285301150667794, 0.0376604597757627, 0.8605565447925655, 0.12748985848778746, 0.8765653665662523, 0.10957067082078153, 0.9080807682489569, 0.07567339735407974, 0.04226558812946397, 0.9298429388482073, 0.22626772615959156, 0.44588051919684224, 0.2994719905053418, 0.026619732489363716, 0.18080212200594406, 0.02712031830089161, 0.623767320920507, 0.16272190980534967, 0.4433343860649527, 0.2520005983948152, 0.16800039892987678, 0.13533365469351186, 0.16482978057471898, 0.06449860979010744, 0.6378195857021735, 0.12899721958021487, 0.025870401661179147, 0.9054640581412702, 0.07761120498353745, 0.3891090187765517, 0.45936481383342903, 0.10808583854904212, 0.03783004349216475, 0.9700920722294759, 0.34831040658348944, 0.4876345692168852, 0.10132666373337874, 0.06332916483336172, 0.21757475921496872, 0.7615116572523905, 0.018131229934580724, 0.07399658827023517, 0.9249573533779397, 0.03033672272322774, 0.36404067267873286, 0.6067344544645548, 0.212145073585725, 0.4419689033035938, 0.15910880518929377, 0.1826804800321521, 0.4294497717310426, 0.1908665652137967, 0.24454778668017702, 0.1371853437474164, 0.8508056705936049, 0.0850805670593605, 0.0340322268237442, 0.0340322268237442, 0.8431388683558325, 0.0749456771871851, 0.03747283859359255, 0.03747283859359255, 0.8570628373621932, 0.0829415649060187, 0.027647188302006232, 0.37685980467764846, 0.20690342217596386, 0.2807975015245224, 0.13300934282740534, 0.7669640133571622, 0.13054706610334676, 0.08159191631459173, 0.016318383262918346, 0.8749833448199273, 0.09210350998104498, 0.22722708419991405, 0.2616554302908101, 0.37182613778167756, 0.13771338436358427, 0.31174699669188644, 0.5392380483319117, 0.10953272856741957, 0.0421279725259306, 0.8478372023936089, 0.12111960034194413, 0.02422392006838883, 0.894426095903991, 0.037267753995999624, 0.037267753995999624, 0.9696211725316686, 0.1393862598343526, 0.04646208661145086, 0.42173278616547705, 0.39314073286612267, 0.17712870154840274, 0.10627722092904165, 0.5526415488310166, 0.15587325736259441, 0.04624630599277495, 0.924926119855499, 0.95062163954873, 0.8547561606865504, 0.09497290674295004, 0.4592566606861792, 0.18710456546473966, 0.28349176585566616, 0.06803802380535988, 0.9368414290854423, 0.9255577947611474, 0.9495674641412792, 0.9692790265062462, 0.05303625460873155, 0.05303625460873155, 0.9016163283484363, 0.8225695489597531, 0.03163729034460589, 0.03163729034460589, 0.09491187103381767, 0.7174707116418108, 0.15749357084820237, 0.034998571299600524, 0.06999714259920105, 0.04789455468032977, 0.07184183202049466, 0.7663128748852763, 0.11973638670082443, 0.9052643803194405, 0.08760623035349424, 0.02920207678449808, 0.5699706109289632, 0.1447544408708478, 0.16284874597970378, 0.11761298320756385, 0.9138359693354186, 0.34331485747836965, 0.5457825939399722, 0.0440147253177397, 0.061620615444835575, 0.5468618876005469, 0.31900276776698566, 0.0846333873667513, 0.04557182396671224, 0.154639750629928, 0.309279501259856, 0.521909158376007, 0.0115979812972446, 0.05688730122024013, 0.05688730122024013, 0.5282392256165155, 0.3575773219557951, 0.06944165822102731, 0.09548228005391256, 0.6596957530997595, 0.17360414555256828, 0.05886930173035698, 0.3178942293439277, 0.6240145983417841, 0.10583574130649949, 0.8678530787132959, 0.7444950412067688, 0.0595596032965415, 0.16378890906548912, 0.02977980164827075, 0.05026568433716639, 0.004569607667015126, 0.28331567535493785, 0.6625931117171933, 0.1742656056143131, 0.07261066900596379, 0.6244517534512886, 0.13069920421073483, 0.8355271823556757, 0.02320908839876877, 0.11604544199384385, 0.004711776616330336, 0.08952375571027638, 0.9046611103354244, 0.06279170359096763, 0.9104797020690305, 0.17676308568419785, 0.7798371427244023, 0.010397828569658697, 0.03639239999380544, 0.14454131213976412, 0.22995208749507928, 0.47961435391830826, 0.15111137178248069, 0.08128212884806105, 0.0750296573982102, 0.7753064597815054, 0.06877718594835935, 0.22458625608726054, 0.1283350034784346, 0.21389167246405769, 0.43847792855131823, 0.9546688600752969, 0.013172100397813013, 0.25026990755844725, 0.37540486133767087, 0.35564671074095133, 0.9798672305251711, 0.9734502269335925, 0.07678956528048295, 0.13263652184810693, 0.41885217425717974, 0.36998608726050874, 0.8973542461975595, 0.08157765874523268, 0.8005904678472543, 0.17155510025298307, 0.23949220043572086, 0.049894208424108515, 0.5787728177196587, 0.13970378358750385, 0.846442660555333, 0.1511504750991666, 0.8753999891078849, 0.06733846070060652, 0.06733846070060652, 0.6962141030127954, 0.06962141030127954, 0.13924282060255908, 0.10443211545191931, 0.09948041612024479, 0.024870104030061197, 0.8455835370220808, 0.03748619555891101, 0.012495398519637003, 0.9496502874924122, 0.913590688565325, 0.22944090388978153, 0.09833181595276351, 0.524436351748072, 0.15296060259318767, 0.929783636128363, 0.06198557574189087, 0.13474527454526353, 0.30119531957176554, 0.48349774983888677, 0.07926192620309619, 0.9459032605321125, 0.09534209194568664, 0.8580788275111797, 0.9330322386090291, 0.10308355108443899, 0.012885443885554874, 0.025770887771109748, 0.8633247403321765, 0.09276481029899163, 0.8812656978404204, 0.023191202574747907, 0.0838538994129413, 0.5717311323609634, 0.2363155347091982, 0.11434622647219268, 0.19095547110067296, 0.11232674770627821, 0.5391683889901354, 0.1684901215594173, 0.18021546698964627, 0.33922911433345176, 0.47704094203141656, 0.0030333983907704695, 0.009100195172311408, 0.9858544770004025, 0.9443688439208102, 0.08403089174314059, 0.8963295119268329, 0.973423792397257, 0.07524814872401524, 0.10033086496535366, 0.8026469197228293, 0.06471169130061949, 0.010785281883436583, 0.6255463492393218, 0.30198789273622434, 0.26235114623464795, 0.011925052101574905, 0.5485523966724457, 0.16695072942204867, 0.09809194686458576, 0.06866436280521003, 0.8141631589760618, 0.019618389372917152, 0.30425562824928687, 0.5466287558377019, 0.12376500132174383, 0.030941250330435956, 0.972934452396194, 0.3374577451555695, 0.24273276405926927, 0.24865307537778802, 0.17760933955556288, 0.2206393678156844, 0.24585529556604832, 0.1512955665021836, 0.38454289819304993, 0.9141429370577254, 0.05078571872542919, 0.9425603634712609, 0.08568730577011463, 0.08270358748862665, 0.4586289851642023, 0.41351793744313325, 0.04511104772106908, 0.24868100024198148, 0.4799107022213678, 0.12215908783816634, 0.14833603523205913], \"Term\": [\"Ahab\", \"Ahab\", \"Amsterdam\", \"August\", \"August\", \"August\", \"August\", \"Bedford\", \"Bennet\", \"Bennet\", \"Bennet\", \"Bildad\", \"Bingley\", \"Bingley\", \"Bingley\", \"Bistritz\", \"Cape Horn\", \"Captain\", \"Captain\", \"Captain\", \"Captain\", \"Captain_Ahab\", \"Captain_Ahab\", \"Captain_Peleg\", \"Caroline\", \"Caroline\", \"Charlotte\", \"Charlotte\", \"Clerval\", \"Clerval\", \"Cliff\", \"Collins\", \"Collins\", \"Collins\", \"Colonel\", \"Colonel\", \"Colonel\", \"Count\", \"Count Dracula\", \"Darcy\", \"Darcy\", \"Darcy\", \"Dracula\", \"Eliza\", \"Eliza\", \"Elizabeth\", \"Elizabeth\", \"Elizabeth\", \"Elizabeth\", \"Ernest\", \"Felix\", \"Felix\", \"Fitzwilliam\", \"Fitzwilliam\", \"Fitzwilliam\", \"Flask\", \"Flask\", \"Folio\", \"Forster\", \"Frankenstein\", \"Frankenstein\", \"Gardiner\", \"Gardiner\", \"Geneva\", \"Geneva\", \"God\", \"God\", \"God\", \"God\", \"Hawkins\", \"Henry\", \"Henry\", \"Henry\", \"Hertfordshire\", \"Hertfordshire\", \"Horn\", \"Hurst\", \"Hurst\", \"Hurst\", \"Jane\", \"Jane\", \"Jane\", \"Jonah\", \"Jonah\", \"Justine\", \"Justine\", \"Leviathan\", \"Louisa\", \"Lucas\", \"Lucas\", \"Lucases\", \"Lucy\", \"Lucy\", \"Meryton\", \"Meryton\", \"Meryton\", \"Miss\", \"Miss\", \"Miss\", \"Miss\", \"Miss Bingley\", \"Miss Bingley\", \"Miss Bingley\", \"Miss_Bennet\", \"Miss_Bennet\", \"Miss_Bennet\", \"Miss_Bingley\", \"Miss_Bingley\", \"Miss_Bingley\", \"Miss_Lucas\", \"Miss_Lucas\", \"Mrs\", \"Mrs\", \"Mrs\", \"Mrs\", \"Mrs_Bennet\", \"Mrs_Bennet\", \"Mrs_Bennet\", \"Mrs_Hurst\", \"Mrs_Hurst\", \"Mrs_Hurst\", \"Nantucket\", \"Nantucket\", \"Netherfield\", \"Netherfield\", \"Netherfield\", \"New Bedford\", \"New_Bedford\", \"Pacific\", \"Pass\", \"Peleg\", \"Pemberley\", \"Pemberley\", \"Pemberley\", \"Pequod\", \"Pier\", \"Queequeg\", \"Queequeg\", \"Safie\", \"Safie\", \"September\", \"September\", \"Seward\", \"Sir_William\", \"Sir_William\", \"Sir_William\", \"Slovaks\", \"Sperm\", \"Starbuck\", \"Starbuck\", \"Stubb\", \"Stubb\", \"Switzerland\", \"Victor\", \"Victor\", \"Whale\", \"Whitby\", \"Whitby\", \"Wickham\", \"Wickham\", \"Wickham\", \"William Lucas\", \"abhor\", \"acquaintance\", \"acquaintance\", \"acquaintance\", \"agreeable\", \"agreeable\", \"agreeable\", \"appear\", \"appear\", \"appear\", \"appear\", \"ardently\", \"ask\", \"ask\", \"ask\", \"ask\", \"asleep\", \"asleep\", \"asleep\", \"attention\", \"attention\", \"attention\", \"attention\", \"ball\", \"ball\", \"ball\", \"bed\", \"bed\", \"bed\", \"bed\", \"believe\", \"believe\", \"believe\", \"believe\", \"bench\", \"box\", \"box\", \"cabin\", \"cabin\", \"cabin\", \"captain\", \"captain\", \"castle\", \"castle\", \"castle\", \"chapel\", \"chapter\", \"chapter\", \"chapter\", \"chapter\", \"child\", \"child\", \"child\", \"child\", \"churchyard\", \"churchyard\", \"close\", \"close\", \"close\", \"close\", \"cottage\", \"cottage\", \"cottage\", \"cottager\", \"countenance\", \"countenance\", \"countenance\", \"countenance\", \"country\", \"country\", \"country\", \"country\", \"courtyard\", \"creator\", \"creator\", \"creature\", \"creature\", \"creature\", \"creature\", \"crime\", \"crime\", \"crime\", \"crucifix\", \"daemon\", \"dance\", \"dance\", \"dance\", \"dance\", \"dancing\", \"dark\", \"dark\", \"dark\", \"dark\", \"daylight\", \"dear\", \"dear\", \"dear\", \"dear\", \"death\", \"death\", \"death\", \"death\", \"deck\", \"deck\", \"deck\", \"desire\", \"desire\", \"desire\", \"desire\", \"despair\", \"despair\", \"despair\", \"despair\", \"diary\", \"diary\", \"discover\", \"discover\", \"discover\", \"discover\", \"door\", \"door\", \"door\", \"door\", \"driver\", \"east\", \"east\", \"endeavour\", \"endeavour\", \"endeavour\", \"enter\", \"enter\", \"enter\", \"enter\", \"face\", \"face\", \"face\", \"face\", \"fall\", \"fall\", \"fall\", \"fall\", \"family\", \"family\", \"family\", \"family\", \"father\", \"father\", \"father\", \"father\", \"fear\", \"fear\", \"fear\", \"fear\", \"feeling\", \"feeling\", \"feeling\", \"feeling\", \"fiend\", \"fiend\", \"fin\", \"fish\", \"fish\", \"fish\", \"fish\", \"fishery\", \"flame\", \"flame\", \"floor\", \"floor\", \"fog\", \"fog\", \"foot\", \"foot\", \"foot\", \"foot\", \"forever\", \"forever\", \"fulfil\", \"gentle\", \"gentle\", \"gentle\", \"girl\", \"girl\", \"girl\", \"girl\", \"happy\", \"happy\", \"happy\", \"happy\", \"harbour\", \"harbour\", \"hatred\", \"head\", \"head\", \"head\", \"head\", \"heart\", \"heart\", \"heart\", \"heart\", \"hold\", \"hold\", \"hold\", \"hold\", \"hope\", \"hope\", \"hope\", \"hope\", \"horn\", \"house\", \"house\", \"house\", \"house\", \"hovel\", \"howling\", \"howling\", \"human\", \"human\", \"human\", \"human\", \"humour\", \"humour\", \"humour\", \"husband\", \"husband\", \"husband\", \"inhabit\", \"inhabit\", \"innocence\", \"innocence\", \"key\", \"key\", \"lady\", \"lady\", \"lady\", \"lady\", \"lake\", \"lake\", \"lamp\", \"lamp\", \"landlord\", \"landlord\", \"later\", \"later\", \"letter\", \"letter\", \"letter\", \"letter\", \"lie\", \"lie\", \"lie\", \"lie\", \"life\", \"life\", \"life\", \"life\", \"light\", \"light\", \"light\", \"light\", \"lock\", \"lock\", \"lock\", \"love\", \"love\", \"love\", \"love\", \"magistrate\", \"manner\", \"manner\", \"manner\", \"manner\", \"marry\", \"marry\", \"marry\", \"mast\", \"mast\", \"mate\", \"mate\", \"mate\", \"mean\", \"mean\", \"mean\", \"mean\", \"mind\", \"mind\", \"mind\", \"mind\", \"miserable\", \"miserable\", \"miserable\", \"miserable\", \"misery\", \"misery\", \"misery\", \"misery\", \"misfortune\", \"misfortune\", \"misfortune\", \"moment\", \"moment\", \"moment\", \"moment\", \"month\", \"month\", \"month\", \"month\", \"moonlight\", \"moonlight\", \"morning\", \"morning\", \"morning\", \"morning\", \"mother\", \"mother\", \"mother\", \"mother\", \"murder\", \"murder\", \"murder\", \"murderer\", \"murderer\", \"murderer\", \"oil\", \"old\", \"old\", \"old\", \"old\", \"open\", \"open\", \"open\", \"open\", \"outside\", \"outside\", \"partial\", \"partner\", \"partner\", \"pass\", \"pass\", \"pass\", \"pass\", \"pier\", \"pilot\", \"presentation\", \"protector\", \"pull\", \"pull\", \"pull\", \"pursue\", \"pursue\", \"pursue\", \"pursue\", \"quit\", \"quit\", \"quit\", \"quit\", \"red\", \"red\", \"red\", \"red\", \"reflect\", \"reflect\", \"reflect\", \"remain\", \"remain\", \"remain\", \"remain\", \"remorse\", \"reply\", \"reply\", \"reply\", \"reply\", \"return\", \"return\", \"return\", \"return\", \"room\", \"room\", \"room\", \"room\", \"round\", \"round\", \"round\", \"round\", \"run\", \"run\", \"run\", \"run\", \"sail\", \"sail\", \"sail\", \"sailor\", \"sailor\", \"scene\", \"scene\", \"scene\", \"scene\", \"sea\", \"sea\", \"sea\", \"sea\", \"seat\", \"seat\", \"seat\", \"seat\", \"sensation\", \"sensation\", \"sensation\", \"ship\", \"ship\", \"ship\", \"shipmate\", \"shipmate\", \"sister\", \"sister\", \"sister\", \"sister\", \"sit\", \"sit\", \"sit\", \"sit\", \"sleep\", \"sleep\", \"sleep\", \"sleep\", \"small\", \"small\", \"small\", \"small\", \"softly\", \"sort\", \"sort\", \"sort\", \"sort\", \"sperm\", \"sperm_whale\", \"stand\", \"stand\", \"stand\", \"stand\", \"steep\", \"steep\", \"stone\", \"stone\", \"strange\", \"strange\", \"strange\", \"strange\", \"sweep\", \"sweep\", \"tale\", \"tale\", \"tale\", \"tear\", \"tear\", \"tear\", \"tear\", \"thee\", \"thee\", \"thee\", \"thou\", \"thou\", \"thou\", \"threat\", \"throw\", \"throw\", \"throw\", \"throw\", \"tranquillity\", \"tranquillity\", \"try\", \"try\", \"try\", \"try\", \"unfortunate\", \"unlucky\", \"unlucky\", \"victim\", \"voyage\", \"voyage\", \"voyage\", \"voyage\", \"wall\", \"wall\", \"wall\", \"want\", \"want\", \"want\", \"want\", \"watch\", \"watch\", \"watch\", \"watch\", \"water\", \"water\", \"water\", \"whale\", \"whale\", \"whale\", \"whale_ship\", \"whaleman\", \"whaleman\", \"whaling\", \"whilst\", \"whilst\", \"whilst\", \"white\", \"white\", \"white\", \"white\", \"wind\", \"wind\", \"wind\", \"wind\", \"window\", \"window\", \"window\", \"window\", \"wish\", \"wish\", \"wish\", \"wish\", \"wolf\", \"word\", \"word\", \"word\", \"word\", \"world\", \"world\", \"world\", \"world\", \"wretch\", \"wretch\", \"wretchedness\", \"wretchedness\", \"write\", \"write\", \"write\", \"write\", \"young\", \"young\", \"young\", \"young\"]}, \"R\": 30, \"lambda.step\": 0.01, \"plot.opts\": {\"xlab\": \"PC1\", \"ylab\": \"PC2\"}, \"topic.order\": [2, 3, 1, 4]};\n",
       "\n",
       "function LDAvis_load_lib(url, callback){\n",
       "  var s = document.createElement('script');\n",
       "  s.src = url;\n",
       "  s.async = true;\n",
       "  s.onreadystatechange = s.onload = callback;\n",
       "  s.onerror = function(){console.warn(\"failed to load library \" + url);};\n",
       "  document.getElementsByTagName(\"head\")[0].appendChild(s);\n",
       "}\n",
       "\n",
       "if(typeof(LDAvis) !== \"undefined\"){\n",
       "   // already loaded: just create the visualization\n",
       "   !function(LDAvis){\n",
       "       new LDAvis(\"#\" + \"ldavis_el933711403383956237126394267984\", ldavis_el933711403383956237126394267984_data);\n",
       "   }(LDAvis);\n",
       "}else if(typeof define === \"function\" && define.amd){\n",
       "   // require.js is available: use it to load d3/LDAvis\n",
       "   require.config({paths: {d3: \"https://d3js.org/d3.v5\"}});\n",
       "   require([\"d3\"], function(d3){\n",
       "      window.d3 = d3;\n",
       "      LDAvis_load_lib(\"https://cdn.jsdelivr.net/gh/bmabey/pyLDAvis@3.3.1/pyLDAvis/js/ldavis.v3.0.0.js\", function(){\n",
       "        new LDAvis(\"#\" + \"ldavis_el933711403383956237126394267984\", ldavis_el933711403383956237126394267984_data);\n",
       "      });\n",
       "    });\n",
       "}else{\n",
       "    // require.js not available: dynamically load d3 & LDAvis\n",
       "    LDAvis_load_lib(\"https://d3js.org/d3.v5.js\", function(){\n",
       "         LDAvis_load_lib(\"https://cdn.jsdelivr.net/gh/bmabey/pyLDAvis@3.3.1/pyLDAvis/js/ldavis.v3.0.0.js\", function(){\n",
       "                 new LDAvis(\"#\" + \"ldavis_el933711403383956237126394267984\", ldavis_el933711403383956237126394267984_data);\n",
       "            })\n",
       "         });\n",
       "}\n",
       "</script>"
      ],
      "text/plain": [
       "<IPython.core.display.HTML object>"
      ]
     },
     "execution_count": 124,
     "metadata": {},
     "output_type": "execute_result"
    }
   ],
   "source": [
    "# plot topics\n",
    "data =  pyLDAvis.gensim_models.prepare(model, corpus, dictionary)\n",
    "pyLDAvis.display(data)"
   ]
  },
  {
   "cell_type": "code",
   "execution_count": 125,
   "metadata": {},
   "outputs": [],
   "source": [
    "# assignment\n",
    "sent_to_cluster = list()\n",
    "for n,doc in enumerate(corpus):\n",
    "    if doc:\n",
    "        cluster = max(model[doc],key=lambda x:x[1])\n",
    "        sent_to_cluster.append(cluster[0])"
   ]
  },
  {
   "cell_type": "code",
   "execution_count": 126,
   "metadata": {},
   "outputs": [
    {
     "name": "stdout",
     "output_type": "stream",
     "text": [
      "DRACULA.txt : 0 - 52\n",
      "Accuracy: 0.8666666666666667\n",
      "------\n",
      "Frankenstein.txt : 1 - 59\n",
      "Accuracy: 0.9833333333333333\n",
      "------\n",
      "Moby_Dick.txt : 3 - 50\n",
      "Accuracy: 0.8333333333333334\n",
      "------\n",
      "PRIDE_AND_PREJUDICE.txt : 2 - 58\n",
      "Accuracy: 0.9666666666666667\n",
      "------\n"
     ]
    }
   ],
   "source": [
    "# accuracy\n",
    "from collections import Counter\n",
    "for book, cluster in book_id.items():\n",
    "    assignments = list()\n",
    "    for real,given in zip(chunk_class,sent_to_cluster):\n",
    "        if real == cluster:\n",
    "            assignments.append(given)\n",
    "    most_common,num_most_common = Counter(assignments).most_common(1)[0] # 4, 6 times\n",
    "    print(book,\":\",most_common,\"-\",num_most_common)\n",
    "    print(\"Accuracy:\",num_most_common/limit)\n",
    "    print(\"------\")"
   ]
  },
  {
   "cell_type": "markdown",
   "metadata": {},
   "source": [
    "# Task 4: Semantic analysis based on lexical categories"
   ]
  },
  {
   "cell_type": "code",
   "execution_count": 127,
   "metadata": {},
   "outputs": [],
   "source": [
    "from empath import Empath\n",
    "lexicon = Empath()"
   ]
  },
  {
   "cell_type": "markdown",
   "metadata": {},
   "source": [
    "### Let's see what pre-build categories we can study! More information: https://hci.stanford.edu/publications/2016/ethan/empath-chi-2016.pdf"
   ]
  },
  {
   "cell_type": "code",
   "execution_count": 128,
   "metadata": {},
   "outputs": [
    {
     "name": "stdout",
     "output_type": "stream",
     "text": [
      "help\n",
      "office\n",
      "dance\n",
      "money\n",
      "wedding\n",
      "domestic_work\n",
      "sleep\n",
      "medical_emergency\n",
      "cold\n",
      "hate\n",
      "cheerfulness\n",
      "aggression\n",
      "occupation\n",
      "envy\n",
      "anticipation\n"
     ]
    }
   ],
   "source": [
    "for cat in list(lexicon.cats.keys())[:15]:\n",
    "    print(cat)"
   ]
  },
  {
   "cell_type": "markdown",
   "metadata": {},
   "source": [
    "### For each category, we can examine representative terms"
   ]
  },
  {
   "cell_type": "code",
   "execution_count": 129,
   "metadata": {},
   "outputs": [
    {
     "data": {
      "text/plain": [
       "['sufferer',\n",
       " 'schizophrenic',\n",
       " 'depression',\n",
       " 'depressant',\n",
       " 'hospital',\n",
       " 'appointment',\n",
       " 'vaccination',\n",
       " 'influenza',\n",
       " 'injection',\n",
       " 'biopsy',\n",
       " 'mental',\n",
       " 'syndrome',\n",
       " 'transfusion',\n",
       " 'dental',\n",
       " 'vitamin']"
      ]
     },
     "execution_count": 129,
     "metadata": {},
     "output_type": "execute_result"
    }
   ],
   "source": [
    "lexicon.cats[\"health\"][:15]"
   ]
  },
  {
   "cell_type": "markdown",
   "metadata": {},
   "source": [
    "### Studying Pride and Prejudice"
   ]
  },
  {
   "cell_type": "code",
   "execution_count": 130,
   "metadata": {},
   "outputs": [],
   "source": [
    "nlp = spacy.load('en_core_web_sm')\n",
    "doc = nlp(books[3])"
   ]
  },
  {
   "cell_type": "code",
   "execution_count": 131,
   "metadata": {},
   "outputs": [],
   "source": [
    "empath_features = lexicon.analyze(doc.text,categories = [\"disappointment\", \"pain\", \"joy\", \"beauty\", \"affection\"])"
   ]
  },
  {
   "cell_type": "code",
   "execution_count": 132,
   "metadata": {},
   "outputs": [
    {
     "data": {
      "text/plain": [
       "{'disappointment': 149.0,\n",
       " 'pain': 228.0,\n",
       " 'joy': 278.0,\n",
       " 'beauty': 136.0,\n",
       " 'affection': 439.0}"
      ]
     },
     "execution_count": 132,
     "metadata": {},
     "output_type": "execute_result"
    }
   ],
   "source": [
    "empath_features"
   ]
  },
  {
   "cell_type": "code",
   "execution_count": 133,
   "metadata": {},
   "outputs": [],
   "source": [
    "empath_features = lexicon.analyze(doc.text,categories = [\"disappointment\", \"pain\", \"joy\", \"beauty\", \"affection\"], normalize = True)"
   ]
  },
  {
   "cell_type": "code",
   "execution_count": 134,
   "metadata": {},
   "outputs": [
    {
     "data": {
      "text/plain": [
       "{'disappointment': 0.0012256615693403638,\n",
       " 'pain': 0.001875508978587939,\n",
       " 'joy': 0.002286804807225645,\n",
       " 'beauty': 0.0011187246538945602,\n",
       " 'affection': 0.0036111773754390585}"
      ]
     },
     "execution_count": 134,
     "metadata": {},
     "output_type": "execute_result"
    }
   ],
   "source": [
    "empath_features"
   ]
  },
  {
   "cell_type": "markdown",
   "metadata": {},
   "source": [
    "### Usecase: the evolution of topics"
   ]
  },
  {
   "cell_type": "code",
   "execution_count": 135,
   "metadata": {},
   "outputs": [],
   "source": [
    "bins = range(0,len(doc.text),150000)\n"
   ]
  },
  {
   "cell_type": "code",
   "execution_count": 136,
   "metadata": {},
   "outputs": [],
   "source": [
    "love = []\n",
    "pain = []\n",
    "beauty = []\n",
    "affection = []\n",
    "\n",
    "\n",
    "for cnt,i in enumerate(bins[:-1]):\n",
    "    empath_features = lexicon.analyze(doc.text[bins[cnt]:bins[cnt+1]],\n",
    "                                      categories = [\"love\", \"pain\", \"joy\", \"beauty\", \"affection\"], normalize = True)\n",
    "    love.append(empath_features[\"love\"])\n",
    "    pain.append(empath_features[\"pain\"])\n",
    "    beauty.append(empath_features[\"beauty\"])\n",
    "    affection.append(empath_features[\"affection\"])"
   ]
  },
  {
   "cell_type": "code",
   "execution_count": 137,
   "metadata": {},
   "outputs": [
    {
     "data": {
      "text/plain": [
       "<matplotlib.legend.Legend at 0x7fa31609cc40>"
      ]
     },
     "execution_count": 137,
     "metadata": {},
     "output_type": "execute_result"
    },
    {
     "data": {
      "image/png": "[encoded data removed]",
      "text/plain": [
       "<Figure size 640x480 with 1 Axes>"
      ]
     },
     "metadata": {},
     "output_type": "display_data"
    }
   ],
   "source": [
    "plt.plot(love,label = \"love\")\n",
    "plt.plot(beauty, label = \"beauty\")\n",
    "plt.plot(affection, label = \"affection\")\n",
    "plt.plot(pain,label = \"pain\")\n",
    "\n",
    "plt.xlabel(\"progression in the book\")\n",
    "plt.ylabel(\"frequency of a category\")\n",
    "plt.legend()"
   ]
  },
  {
   "cell_type": "code",
   "execution_count": 138,
   "metadata": {},
   "outputs": [],
   "source": [
    "# We can observe how as the story progresses, beauty and affection categories decrease, while love and pain intensify!"
   ]
  },
  {
   "cell_type": "markdown",
   "metadata": {},
   "source": [
    "### We can create custom categories based on seed terms!\n",
    "### Models trained on: fiction, nytimes or reddit"
   ]
  },
  {
   "cell_type": "code",
   "execution_count": 139,
   "metadata": {},
   "outputs": [
    {
     "name": "stdout",
     "output_type": "stream",
     "text": [
      "[\"avocado\", \"kale\", \"Swiss_chard\", \"escarole\", \"black_beans\", \"cucumber\", \"dill\", \"leek\", \"mango\", \"red_peppers\", \"chicory\", \"chanterelles\", \"chutney\", \"tamarind\", \"papaya\", \"black_olives\", \"endive\", \"pesto\", \"walnuts\", \"green_beans\", \"bok_choy\", \"portobello_mushrooms\", \"lemon_grass\", \"radicchio\", \"ricotta\", \"chicken_breast\", \"porcini\", \"blue_cheese\", \"snow_peas\", \"pickled\", \"Gorgonzola\", \"chorizo\", \"yams\", \"hazelnuts\", \"fresh_tomatoes\", \"shiitake_mushrooms\", \"anchovies\", \"wild_rice\", \"scallion\", \"red_onions\", \"broccoli_rape\", \"red_cabbage\", \"wasabi\", \"sweet_potato\", \"feta\", \"roasted_garlic\", \"compote\", \"napoleon\", \"aioli\", \"crab_meat\", \"cauliflower\", \"jicama\", \"parsnips\", \"apricots\", \"new_potatoes\", \"truffle_oil\", \"lemongrass\", \"pistachios\", \"saut\\u00e9ed\", \"gnocchi\", \"duck_confit\", \"fresh_herbs\", \"ratatouille\", \"white_beans\", \"croutons\", \"fresh_mozzarella\", \"squab\", \"watercress\", \"roasted_red_peppers\", \"pine_nuts\", \"fritters\", \"butternut_squash\", \"fava_beans\", \"drizzled\", \"red_onion\", \"pea_shoots\", \"rosemary\", \"romaine\", \"mustard_greens\", \"horseradish\", \"caramelized_onions\", \"artichoke_hearts\", \"fettuccine\", \"grilled_eggplant\", \"julienne\", \"plum_tomatoes\", \"grilled_chicken\", \"pineapple\", \"candied\", \"pancetta\", \"celery_root\", \"sea_scallops\", \"shiitake\", \"porcini_mushrooms\", \"sour_cream\", \"bean_sprouts\", \"oyster_mushrooms\", \"monkfish\", \"chickpeas\", \"coconut_milk\"]\n"
     ]
    }
   ],
   "source": [
    "lexicon.create_category(\"healthy_food\", [\"healthy_food\",\"low_carb\",\"kale\",\"avocado\"], model=\"nytimes\")"
   ]
  },
  {
   "cell_type": "code",
   "execution_count": 140,
   "metadata": {},
   "outputs": [
    {
     "name": "stdout",
     "output_type": "stream",
     "text": [
      "[\"green_vegetables\", \"leafy_greens\", \"whole_grain_bread\", \"brown_rice\", \"white_rice\", \"green_veggies\", \"veggies\", \"whole_wheat_bread\", \"sweet_potatoes\", \"raw_veggies\", \"lean_meat\", \"spinach\", \"fatty_meat\", \"kale\", \"sweet_potato\", \"avocado\", \"hummus\", \"chicken_breast\", \"veggie\", \"whole_grain\", \"vegetables\", \"whole_wheat_pasta\", \"salads\", \"broccoli\", \"greek_yogurt\", \"Greek_yogurt\", \"yogurt\", \"avocados\", \"rice_cakes\", \"raw_vegetables\", \"almonds\", \"lean_protein\", \"grilled_chicken\", \"quinoa\", \"steamed_broccoli\", \"whole_grain_pasta\", \"brocolli\", \"kale\", \"avocado\", \"tofu\", \"Veggies\", \"edamame\", \"more_veggies\", \"lean_meats\", \"quinoa\", \"salad\", \"cottage_cheese\", \"whole_wheat\", \"wheat_bread\", \"romaine_lettuce\", \"white_bread\", \"raw_spinach\", \"oatmeal\", \"white_potatoes\", \"almond_butter\", \"pork_rinds\", \"veg\", \"cashews\", \"greek_yoghurt\", \"baby_carrots\", \"fresh_veggies\", \"fatty_meats\", \"more_vegetables\", \"avacado\", \"veges\", \"nut_butter\", \"hard_boiled_eggs\", \"carrot_sticks\", \"whole_grains\", \"grilled_chicken_breast\", \"steamed_vegetables\", \"meats\", \"lentils\", \"green_beans\", \"low_cal\", \"nuts/seeds\", \"iceberg_lettuce\", \"carrots\", \"red_meat\", \"other_foods\", \"fried_foods\", \"smoothies\", \"healthy_fats\", \"vegies\", \"avacados\", \"other_vegetables\", \"fresh_fruit\", \"spinach_salad\", \"egg_whites\", \"steamed_veggies\", \"nut_butters\", \"ground_turkey\", \"baked_chicken\"]\n"
     ]
    }
   ],
   "source": [
    "lexicon.create_category(\"healthy_food\", [\"healthy_food\",\"low_carb\",\"kale\",\"avocado\"], model=\"reddit\")"
   ]
  },
  {
   "cell_type": "code",
   "execution_count": 141,
   "metadata": {},
   "outputs": [
    {
     "name": "stdout",
     "output_type": "stream",
     "text": [
      "[\"turkey\", \"roast_beef\", \"white_bread\", \"fried_chicken\", \"pancakes\", \"peanut_butter\", \"gefilte_fish\", \"stuffing\", \"French_fries\", \"meatloaf\", \"brisket\", \"potato_salad\", \"pumpkin_pie\", \"scrambled_eggs\", \"french_fries\", \"spaghetti\", \"gravy\", \"tamales\", \"pot_roast\", \"oatmeal\", \"lasagna\", \"corned_beef\", \"latkes\", \"pickles\", \"sauerkraut\", \"burger\", \"grits\", \"biscuits\", \"hamburger\", \"salad_bar\", \"corn_bread\", \"chicken_soup\", \"bacon\", \"cream_cheese\", \"brownies\", \"tofu\", \"pastrami\", \"pork_chops\", \"salami\", \"marshmallows\", \"collard_greens\", \"macaroni\", \"pies\", \"raw_fish\", \"eggnog\", \"cheeseburgers\", \"truffles\", \"chocolate_cake\", \"hard-boiled_eggs\", \"baked_potatoes\", \"venison\", \"cottage_cheese\", \"pheasant\", \"applesauce\", \"quail\", \"fruit_salad\", \"meatballs\", \"chocolate_chip_cookies\", \"tacos\", \"roast\", \"jelly\", \"chicken_salad\", \"omelet\", \"gumbo\", \"steaks\", \"soup\", \"lox\", \"sausage\", \"roast_chicken\", \"rye\", \"bagel\", \"fruitcake\", \"fries\", \"fried_eggs\", \"ketchup\", \"chicken_wings\", \"barbecue_sauce\", \"sweet_potatoes\", \"pasta\", \"sausages\", \"crackers\", \"omelets\", \"roasting\", \"French_toast\", \"muffins\", \"mashed_potatoes\", \"fresh_fruit\", \"baked_potato\", \"waffles\", \"cranberry_sauce\", \"baked_beans\", \"cheese\", \"tripe\", \"noodles\", \"maple_syrup\", \"quiche\", \"buns\", \"baklava\", \"stews\"]\n"
     ]
    }
   ],
   "source": [
    "lexicon.create_category(\"festive_food\", [\"festive_food\",\"turkey\",\"eggnog\"], model=\"nytimes\")"
   ]
  },
  {
   "cell_type": "markdown",
   "metadata": {},
   "source": [
    "### List of further resources\n",
    "    * NLTK\n",
    "    * Jellyfish: string similarity library\n",
    "    * TextBlob: simplified text processing\n",
    "    * PyEnchant: language detection\n",
    "    * WordNet: ontology of concepts (inc. in NLTK)\n",
    "    * Stanford NLP (Java)\n",
    "    * Tweet NLP: https://www.cs.cmu.edu/~ark/TweetNLP/"
   ]
  },
  {
   "cell_type": "markdown",
   "metadata": {},
   "source": [
    "## Part 2"
   ]
  },
  {
   "cell_type": "markdown",
   "metadata": {},
   "source": [
    "### Question 1:\n",
    "An NLP preprocessing model, using the list of stopwords ['a', 'the', 'is', 'you', 'I','my','with','was'] for the input sentence\n",
    "“I was driving down the street with my CAR! :)” <br>\n",
    "gives the following output: {driving, down, street, car, :)}.\n",
    "The model consists of: <br>\n",
    "\n",
    "a) Stopword Removal, Casefolding and Stemming <br>\n",
    "b) Stopword Removal and Casefolding <br>\n",
    "c) Stopword Removal and Stemming <br>\n",
    "d) Casefolding and Stemming <br>"
   ]
  },
  {
   "cell_type": "code",
   "execution_count": 142,
   "metadata": {},
   "outputs": [],
   "source": [
    "#b)"
   ]
  },
  {
   "cell_type": "markdown",
   "metadata": {},
   "source": [
    "### Question 2:\n",
    "What statement is false about topic detection using LSA: <br>\n",
    "\n",
    "a) It finds the representation of documents and words in the latent \"topic space\" <br>\n",
    "b) It produces topics interpretable in “word space” <br>\n",
    "c) A document's topic representation is a probability distribution over topics <br>\n",
    "d) The vectors representing topics in “word space” are linearly independent <br>"
   ]
  },
  {
   "cell_type": "code",
   "execution_count": 143,
   "metadata": {},
   "outputs": [],
   "source": [
    "#c)"
   ]
  },
  {
   "cell_type": "markdown",
   "metadata": {},
   "source": [
    "### Question 3:\n",
    "The problem of having more features than documents when using a TF-IDF matrix for document classification cannot be addressed by: <br>\n",
    "\n",
    "a) Using SVD for dimensionality reduction <br>\n",
    "b) Using min-max scaling of features <br>\n",
    "c) Penalizing very large positive and very large negative weights (a.k.a. regularization) <br>\n",
    "d) Using online feature selection <br>"
   ]
  },
  {
   "cell_type": "code",
   "execution_count": 144,
   "metadata": {},
   "outputs": [],
   "source": [
    "#b)"
   ]
  },
  {
   "cell_type": "markdown",
   "metadata": {},
   "source": [
    "### Question 4:\n",
    "Which of the following is false about word vectors: <br>\n",
    "\n",
    "a) Word2vec is used to achieve a lower dimensional representation than bag of words <br>\n",
    "b) Semantically similar words typically have similar word2vec vectors <br>\n",
    "c) Each dimension in the word2vec embedding has a clear interpretation <br>\n",
    "d) Word2Vec can be used for the computation of sentence vectors <br>"
   ]
  },
  {
   "cell_type": "code",
   "execution_count": 145,
   "metadata": {},
   "outputs": [],
   "source": [
    "#c)"
   ]
  },
  {
   "cell_type": "markdown",
   "metadata": {},
   "source": [
    "### Question 5:\n",
    "Given the following word (W) / context (C) co-occurrence frequencies, which statement is true regarding the pointwise mutual information (PMI)?\n",
    "\n",
    "|  |W1|W2|W3|\n",
    "|--|--|--|--|\n",
    "|C1| 2| 0| 3|\n",
    "|C2| 6| 4| 0|\n",
    "|C3| 1| 1| 3|\n",
    "\n",
    "a) PMI(w=W1, c=C2) > PMI(w=W2, c=C2) > PMI(w=W3, c=C3) <br>\n",
    "b) PMI(w=W2, c=C2) > PMI(w=W1, c=C2) >  PMI(w=W3, c=C3) <br>\n",
    "c) PMI(w=W3, c=C3) > PMI(w=W1, c=C2) > PMI(w=W2, c=C2) <br>\n",
    "d) PMI(w=W3, c=C3) > PMI(w=W2, c=C2) > PMI(w=W1, c=C2) <br>"
   ]
  },
  {
   "cell_type": "code",
   "execution_count": 146,
   "metadata": {
    "tags": []
   },
   "outputs": [],
   "source": [
    "#d)"
   ]
  }
 ],
 "metadata": {
  "kernelspec": {
   "display_name": "ada",
   "language": "python",
   "name": "python3"
  },
  "language_info": {
   "codemirror_mode": {
    "name": "ipython",
    "version": 3
   },
   "file_extension": ".py",
   "mimetype": "text/x-python",
   "name": "python",
   "nbconvert_exporter": "python",
   "pygments_lexer": "ipython3",
   "version": "3.9.15"
  },
  "toc": {
   "colors": {
    "hover_highlight": "#DAA520",
    "navigate_num": "#000000",
    "navigate_text": "#333333",
    "running_highlight": "#FF0000",
    "selected_highlight": "#FFD700",
    "sidebar_border": "#EEEEEE",
    "wrapper_background": "#FFFFFF"
   },
   "moveMenuLeft": true,
   "nav_menu": {
    "height": "228px",
    "width": "252px"
   },
   "navigate_menu": true,
   "number_sections": true,
   "sideBar": true,
   "threshold": 4,
   "toc_cell": false,
   "toc_section_display": "block",
   "toc_window_display": false,
   "widenNotebook": false
  },
  "varInspector": {
   "cols": {
    "lenName": 16,
    "lenType": 16,
    "lenVar": 40
   },
   "kernels_config": {
    "python": {
     "delete_cmd_postfix": "",
     "delete_cmd_prefix": "del ",
     "library": "var_list.py",
     "varRefreshCmd": "print(var_dic_list())"
    },
    "r": {
     "delete_cmd_postfix": ") ",
     "delete_cmd_prefix": "rm(",
     "library": "var_list.r",
     "varRefreshCmd": "cat(var_dic_list()) "
    }
   },
   "types_to_exclude": [
    "module",
    "function",
    "builtin_function_or_method",
    "instance",
    "_Feature"
   ],
   "window_display": false
  },
  "vscode": {
   "interpreter": {
    "hash": "b3625d2e50f807a11475dd891f3a9c7562ba38e956b321c846757eb50e751d95"
   }
  }
 },
 "nbformat": 4,
 "nbformat_minor": 4
}
