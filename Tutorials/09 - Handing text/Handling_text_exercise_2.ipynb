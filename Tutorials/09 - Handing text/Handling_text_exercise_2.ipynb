{
 "cells": [
  {
   "cell_type": "code",
   "execution_count": 57,
   "metadata": {
    "tags": []
   },
   "outputs": [],
   "source": [
    "import numpy as np\n",
    "import pandas as pd\n",
    "import matplotlib.pyplot as plt\n",
    "%matplotlib inline\n",
    "from sklearn.linear_model import LogisticRegressionCV\n",
    "from sklearn.decomposition import TruncatedSVD\n",
    "from sklearn.feature_extraction.text import TfidfVectorizer\n",
    "from helpers.helper_functions import *"
   ]
  },
  {
   "cell_type": "markdown",
   "metadata": {},
   "source": [
    "# Handling text 2 exercise\n",
    "[Handling text exercisses ADApted drom ADA 2018 final exam]\n",
    "\n",
    "The Sheldon Cooper we all know and love (OK, some of us might not know him, and some might not love him) from the TV series \"The Big Bang Theory\" has gotten into an argument with Leonard from the same TV show. Sheldon insists that he knows the show better than anyone, and keeps making various claims about the show, which neither of them know how to prove or disprove. The two of them have reached out to you ladies and gentlemen, as data scientists, to help them. You will be given the full script of the series, with information on the episode, the scene, the person saying each dialogue line, and the dialogue lines themselves.\n",
    "\n",
    "Leonard has challenged several of Sheldon's claims about the show, and throughout this exam you will see some of those and you will get to prove or disprove them, but remember: sometimes, we can neither prove a claim, nor disprove it!"
   ]
  },
  {
   "cell_type": "markdown",
   "metadata": {},
   "source": [
    "## Task A: Picking up the shovel\n",
    "\n",
    "**Note: You will use the data you preprocess in this task in all the subsequent ones.**\n",
    "\n",
    "Our friends' argument concerns the entire show. We have given you a file in the `data/` folder that contains the script of every single episode. New episodes are indicated by '>>', new scenes by '>', and the rest of the lines are dialogue lines. Some lines are said by multiple people (for example, lines indicated by 'All' or 'Together'); **you must discard these lines**, for the sake of simplicity. However, you do not need to do it for Q1 in this task -- you'll take care of it when you solve Q2.\n",
    "\n",
    "**Q1**. Your first task is to extract all lines of dialogue in each scene and episode, creating a dataframe where each row has the episode and scene where a dialogue line was said, the character who said it, and the line itself. You do not need to extract the proper name of the episode (e.g. episode 1 can appear as \"Series 01 Episode 01 - Pilot Episode\", and doesn't need to appear as \"Pilot Episode\"). Then, answer the following question: In total, how many scenes are there in each season? We're not asking about unique scenes; the same location appearing in two episodes counts as two scenes. You can use a Pandas dataframe with a season column and a scene count column as the response.\n",
    "\n",
    "**Note: The data refers to seasons as \"series\".**"
   ]
  },
  {
   "cell_type": "code",
   "execution_count": 58,
   "metadata": {},
   "outputs": [
    {
     "name": "stderr",
     "output_type": "stream",
     "text": [
      "100%|██████████| 54329/54329 [00:00<00:00, 443694.82it/s]\n"
     ]
    },
    {
     "data": {
      "text/html": [
       "<div>\n",
       "<style scoped>\n",
       "    .dataframe tbody tr th:only-of-type {\n",
       "        vertical-align: middle;\n",
       "    }\n",
       "\n",
       "    .dataframe tbody tr th {\n",
       "        vertical-align: top;\n",
       "    }\n",
       "\n",
       "    .dataframe thead th {\n",
       "        text-align: right;\n",
       "    }\n",
       "</style>\n",
       "<table border=\"1\" class=\"dataframe\">\n",
       "  <thead>\n",
       "    <tr style=\"text-align: right;\">\n",
       "      <th></th>\n",
       "      <th>scene</th>\n",
       "    </tr>\n",
       "    <tr>\n",
       "      <th>season</th>\n",
       "      <th></th>\n",
       "    </tr>\n",
       "  </thead>\n",
       "  <tbody>\n",
       "    <tr>\n",
       "      <th>01</th>\n",
       "      <td>4136</td>\n",
       "    </tr>\n",
       "    <tr>\n",
       "      <th>02</th>\n",
       "      <td>5238</td>\n",
       "    </tr>\n",
       "    <tr>\n",
       "      <th>03</th>\n",
       "      <td>5030</td>\n",
       "    </tr>\n",
       "    <tr>\n",
       "      <th>04</th>\n",
       "      <td>5604</td>\n",
       "    </tr>\n",
       "    <tr>\n",
       "      <th>05</th>\n",
       "      <td>4847</td>\n",
       "    </tr>\n",
       "    <tr>\n",
       "      <th>06</th>\n",
       "      <td>4885</td>\n",
       "    </tr>\n",
       "    <tr>\n",
       "      <th>07</th>\n",
       "      <td>5345</td>\n",
       "    </tr>\n",
       "    <tr>\n",
       "      <th>08</th>\n",
       "      <td>5269</td>\n",
       "    </tr>\n",
       "    <tr>\n",
       "      <th>09</th>\n",
       "      <td>5418</td>\n",
       "    </tr>\n",
       "    <tr>\n",
       "      <th>10</th>\n",
       "      <td>5520</td>\n",
       "    </tr>\n",
       "  </tbody>\n",
       "</table>\n",
       "</div>"
      ],
      "text/plain": [
       "        scene\n",
       "season       \n",
       "01       4136\n",
       "02       5238\n",
       "03       5030\n",
       "04       5604\n",
       "05       4847\n",
       "06       4885\n",
       "07       5345\n",
       "08       5269\n",
       "09       5418\n",
       "10       5520"
      ]
     },
     "execution_count": 58,
     "metadata": {},
     "output_type": "execute_result"
    }
   ],
   "source": [
    "# your code goes here\n",
    "import pandas as pd\n",
    "from tqdm import tqdm\n",
    "\n",
    "with open('data/all_scripts.txt', 'r') as f: \n",
    "    lines = f.readlines()\n",
    "\n",
    "episode = \"\"\n",
    "scene = \"\"\n",
    "\n",
    "data = {\"episode\": [], \"scene\" : [], \"character\": [], \"text\": []}\n",
    "\n",
    "for line in tqdm(lines): \n",
    "    if len(line) > 0:\n",
    "        if line.split()[0] == '>>': \n",
    "            episode = line[3:-1]\n",
    "        elif line.split()[0] == '>': \n",
    "            scene = line[2:-1]\n",
    "        else:\n",
    "            character = line.split(':')[0]\n",
    "            text = (\":\".join(line.split(':')[1:]))[:-1]\n",
    "            data[\"episode\"].append(episode)\n",
    "            data[\"scene\"].append(scene)\n",
    "            data[\"character\"].append(character)\n",
    "            data['text'].append(text)\n",
    "\n",
    "df = pd.DataFrame(data)\n",
    "\n",
    "df['season'] = df['episode'].apply(lambda x : x.split()[1])\n",
    "df['ep_number'] = df['episode'].apply(lambda x: x.split()[3])\n",
    "\n",
    "result = pd.DataFrame(df.groupby('season')['scene'].count())\n",
    "\n",
    "result"
   ]
  },
  {
   "cell_type": "markdown",
   "metadata": {},
   "source": [
    "**Q2**. Now, let's define two sets of characters: all the characters, and recurrent characters. Recurrent characters are those who appear in more than one episode. For the subsequent sections, you will need to have a list of recurrent characters. Assume that there are no two _named characters_ (i.e. characters who have actual names and aren't referred to generically as \"little girl\", \"grumpy grandpa\", etc.) with the same name, i.e. there are no two Sheldons, etc. Generate a list of recurrent characters who have more than 90 dialogue lines in total, and then take a look at the list you have. If you've done this correctly, you should have a list of 20 names. However, one of these is clearly not a recurrent character. Manually remove that one, and print out your list of recurrent characters. To remove that character, pay attention to the _named character_ assumption we gave you earlier on. **For all the subsequent questions, you must only keep the dialogue lines said by the recurrent characters in your list.**"
   ]
  },
  {
   "cell_type": "code",
   "execution_count": 59,
   "metadata": {},
   "outputs": [
    {
     "data": {
      "text/plain": [
       "['Amy',\n",
       " 'Mrs Wolowitz',\n",
       " 'Kripke',\n",
       " 'Arthur',\n",
       " 'Priya',\n",
       " 'Stuart',\n",
       " 'Bert',\n",
       " 'Sheldon',\n",
       " 'Zack',\n",
       " 'Leonard',\n",
       " 'Bernadette',\n",
       " 'Howard',\n",
       " 'Raj',\n",
       " 'Mrs Cooper',\n",
       " 'Leslie',\n",
       " 'Wil',\n",
       " 'Emily',\n",
       " 'Penny',\n",
       " 'Beverley']"
      ]
     },
     "execution_count": 59,
     "metadata": {},
     "output_type": "execute_result"
    }
   ],
   "source": [
    "# your code goes here\n",
    "counts = df.groupby('character')['episode'].nunique()\n",
    "df['char_appearances'] = df['character'].apply(lambda x : counts.at[x])\n",
    "\n",
    "counts = df.groupby('character')['text'].count()\n",
    "df['char_lines'] = df['character'].apply(lambda x : counts.at[x])\n",
    "\n",
    "df.head()\n",
    "\n",
    "reapearing = list(set(df[(df['char_lines'] > 90) & (df['char_appearances'] > 1)]['character']))\n",
    "\n",
    "reapearing.remove('Man')\n",
    "\n",
    "reapearing"
   ]
  },
  {
   "cell_type": "markdown",
   "metadata": {},
   "source": [
    "## Task B: Read the scripts carefully\n",
    "\n",
    "### Part 1: Don't put the shovel down just yet\n",
    "\n",
    "**Q3**. From each dialogue line, replace punctuation marks (listed in the EXCLUDE_CHARS variable provided in `helpers/helper_functions.py`) with whitespaces, and lowercase all the text. **Do not remove any stopwords, leave them be for all the questions in this task.**"
   ]
  },
  {
   "cell_type": "code",
   "execution_count": 60,
   "metadata": {},
   "outputs": [],
   "source": [
    "# your code goes here\n",
    "from string import punctuation\n",
    "\n",
    "EXCLUDE_CHARS = set(punctuation).union(set('’'))\n",
    "\n",
    "def replacer(string): \n",
    "    for char in EXCLUDE_CHARS: \n",
    "        string = string.replace(char, ' ')\n",
    "    return string\n",
    "\n",
    "df = df[df['character'].isin(reapearing)]\n",
    "\n",
    "df['text'] = df['text'].apply(lambda x : x.lower())\n",
    "df['text'] = df['text'].apply(lambda x : replacer(x))"
   ]
  },
  {
   "cell_type": "markdown",
   "metadata": {},
   "source": [
    "**Q4**. For each term, calculate its \"corpus frequency\", i.e. its number of occurrences in the entire series. Visualize the distribution of corpus frequency using a histogram. Explain your observations. What are the appropriate x and y scales for this plot?"
   ]
  },
  {
   "cell_type": "code",
   "execution_count": 61,
   "metadata": {},
   "outputs": [
    {
     "data": {
      "text/plain": [
       "<AxesSubplot:ylabel='Count'>"
      ]
     },
     "execution_count": 61,
     "metadata": {},
     "output_type": "execute_result"
    },
    {
     "data": {
      "image/png": "[encoded data removed]",
      "text/plain": [
       "<Figure size 640x480 with 1 Axes>"
      ]
     },
     "metadata": {},
     "output_type": "display_data"
    }
   ],
   "source": [
    "from collections import Counter\n",
    "import seaborn as sns\n",
    "\n",
    "# your code goes here\n",
    "all_text = \"\"\n",
    "for text in df['text'].values: \n",
    "    all_text += text\n",
    "\n",
    "counter = Counter(all_text.split())\n",
    "\n",
    "sns.histplot(counter, log_scale=(True, True))  # the data is heavy tailed => use log scales"
   ]
  },
  {
   "cell_type": "markdown",
   "metadata": {},
   "source": [
    "### Part 2: Talkativity\n",
    "**Q5**. For each of the recurrent characters, calculate their total number of words uttered across all episodes. Based on this, who seems to be the most talkative character?"
   ]
  },
  {
   "cell_type": "code",
   "execution_count": 62,
   "metadata": {},
   "outputs": [
    {
     "data": {
      "text/plain": [
       "character\n",
       "Amy              39933\n",
       "Arthur            1451\n",
       "Bernadette       27726\n",
       "Bert              1146\n",
       "Beverley          2029\n",
       "Emily             1571\n",
       "Howard           69505\n",
       "Kripke            1246\n",
       "Leonard         102496\n",
       "Leslie            1249\n",
       "Mrs Cooper        3389\n",
       "Mrs Wolowitz      1459\n",
       "Penny            79270\n",
       "Priya             1940\n",
       "Raj              60099\n",
       "Sheldon         185388\n",
       "Stuart            7955\n",
       "Wil               1678\n",
       "Zack              1427\n",
       "Name: word_counts, dtype: int64"
      ]
     },
     "execution_count": 62,
     "metadata": {},
     "output_type": "execute_result"
    }
   ],
   "source": [
    "# your code goes here\n",
    "df['word_counts'] = df['text'].apply(lambda x : len(x.split()))\n",
    "df.groupby('character')['word_counts'].sum()  # sheldon talks the most "
   ]
  },
  {
   "cell_type": "markdown",
   "metadata": {},
   "source": [
    "## Task D: The Detective's Hat\n",
    "\n",
    "Sheldon claims that given a dialogue line, he can, with an accuracy of above 70%, say whether it's by himself or by someone else. Leonard contests this claim, since he believes that this claimed accuracy is too high.\n",
    "\n",
    "**Q6**. Divide the set of all dialogue lines into two subsets: the training set, consisting of all the seasons except the last two, and the test set, consisting of the last two seasons."
   ]
  },
  {
   "cell_type": "code",
   "execution_count": 63,
   "metadata": {},
   "outputs": [],
   "source": [
    "# your code goes here\n",
    "df['is_sheldon'] = df['character'].apply(lambda x : 1 if x == 'Sheldon' else 0)\n",
    "df['text_list'] = df['text'].apply(lambda x : x.split())\n",
    "train_set = df[df['season'].isin(['01','02','03','04','05','06','07','08'])]\n",
    "test_set = df[df['season'].isin(['09','10'])]"
   ]
  },
  {
   "cell_type": "markdown",
   "metadata": {},
   "source": [
    "**Q7**. Find the set of all words in the training set that are only uttered by Sheldon. Is it possible for Sheldon to identify himself only based on these? Use the test set to assess this possibility, and explain your method."
   ]
  },
  {
   "cell_type": "markdown",
   "metadata": {},
   "source": [
    "I add colums to the dataset indication if a row is of Sheldon or not. I group on this variable and create sets containing all words used in a group. Then, I remove all words from Sheldons set said by others as well. Now, I predict in the test set using the unique Sheldon set if a text is said by Sheldon and calculate using the true values the accuracy of the predictions. "
   ]
  },
  {
   "cell_type": "code",
   "execution_count": 71,
   "metadata": {
    "tags": []
   },
   "outputs": [
    {
     "name": "stdout",
     "output_type": "stream",
     "text": [
      "the prediction: accuracy is 0.7698888779624349\n"
     ]
    },
    {
     "name": "stderr",
     "output_type": "stream",
     "text": [
      "/var/folders/5j/8tb_t78d59v__57g4j5nw1wr0000gn/T/ipykernel_52528/1276527746.py:23: SettingWithCopyWarning: \n",
      "A value is trying to be set on a copy of a slice from a DataFrame.\n",
      "Try using .loc[row_indexer,col_indexer] = value instead\n",
      "\n",
      "See the caveats in the documentation: https://pandas.pydata.org/pandas-docs/stable/user_guide/indexing.html#returning-a-view-versus-a-copy\n",
      "  test_set['predict_sheldon'] = test_set['text_list'].apply(lambda x : predict(x))\n",
      "/var/folders/5j/8tb_t78d59v__57g4j5nw1wr0000gn/T/ipykernel_52528/1276527746.py:24: SettingWithCopyWarning: \n",
      "A value is trying to be set on a copy of a slice from a DataFrame.\n",
      "Try using .loc[row_indexer,col_indexer] = value instead\n",
      "\n",
      "See the caveats in the documentation: https://pandas.pydata.org/pandas-docs/stable/user_guide/indexing.html#returning-a-view-versus-a-copy\n",
      "  test_set['correct'] = test_set.apply(lambda x : correct(x.is_sheldon, x.predict_sheldon), axis=1)\n"
     ]
    }
   ],
   "source": [
    "# your code goes here\n",
    "groups = train_set.explode('text_list').groupby('is_sheldon')['text_list'].value_counts()\n",
    "sheldon_words = set(groups.at[1].index)\n",
    "others_words = set(groups.at[0].index)\n",
    "\n",
    "sheldon_unique = sheldon_words\n",
    "\n",
    "for word in others_words: \n",
    "    if word in sheldon_words: \n",
    "        sheldon_unique.remove(word)\n",
    "\n",
    "def predict(word_list): \n",
    "    for word in word_list: \n",
    "        if word in sheldon_unique: \n",
    "            return 1\n",
    "    return 0\n",
    "\n",
    "def correct(true, predicted): \n",
    "    if true == predicted: \n",
    "        return 1 \n",
    "    return 0\n",
    "\n",
    "test_set['predict_sheldon'] = test_set['text_list'].apply(lambda x : predict(x))\n",
    "test_set['correct'] = test_set.apply(lambda x : correct(x.is_sheldon, x.predict_sheldon), axis=1)\n",
    "\n",
    "print('the prediction: accuracy is {}'.format(sum(test_set['correct']) / len(test_set)))"
   ]
  }
 ],
 "metadata": {
  "kernelspec": {
   "display_name": "Python 3.9.15 ('ada')",
   "language": "python",
   "name": "python3"
  },
  "language_info": {
   "codemirror_mode": {
    "name": "ipython",
    "version": 3
   },
   "file_extension": ".py",
   "mimetype": "text/x-python",
   "name": "python",
   "nbconvert_exporter": "python",
   "pygments_lexer": "ipython3",
   "version": "3.9.15"
  },
  "varInspector": {
   "cols": {
    "lenName": 16,
    "lenType": 16,
    "lenVar": 40
   },
   "kernels_config": {
    "python": {
     "delete_cmd_postfix": "",
     "delete_cmd_prefix": "del ",
     "library": "var_list.py",
     "varRefreshCmd": "print(var_dic_list())"
    },
    "r": {
     "delete_cmd_postfix": ") ",
     "delete_cmd_prefix": "rm(",
     "library": "var_list.r",
     "varRefreshCmd": "cat(var_dic_list()) "
    }
   },
   "types_to_exclude": [
    "module",
    "function",
    "builtin_function_or_method",
    "instance",
    "_Feature"
   ],
   "window_display": false
  },
  "vscode": {
   "interpreter": {
    "hash": "b3625d2e50f807a11475dd891f3a9c7562ba38e956b321c846757eb50e751d95"
   }
  }
 },
 "nbformat": 4,
 "nbformat_minor": 4
}
