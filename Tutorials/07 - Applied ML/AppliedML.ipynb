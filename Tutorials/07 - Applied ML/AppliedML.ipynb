{
 "cells": [
  {
   "cell_type": "markdown",
   "metadata": {},
   "source": [
    "## All you need is love… And a pet!\n",
    "\n",
    "<img src=\"img/dataset-cover.jpg\" width=\"920\">\n",
    "\n",
    "Here we are going to build a classifier to predict whether an animal from an animal shelter will be adopted or not (aac_intakes_outcomes.csv, available at: https://www.kaggle.com/aaronschlegel/austin-animal-center-shelter-intakes-and-outcomes/version/1#aac_intakes_outcomes.csv). You will be working with the following features:\n",
    "\n",
    "1. *animal_type:* Type of animal. May be one of 'cat', 'dog', 'bird', etc.\n",
    "2. *intake_year:* Year of intake\n",
    "3. *intake_condition:* The intake condition of the animal. Can be one of 'normal', 'injured', 'sick', etc.\n",
    "4. *intake_number:* The intake number denoting the number of occurrences the animal has been brought into the shelter. Values higher than 1 indicate the animal has been taken into the shelter on more than one occasion.\n",
    "5. *intake_type:* The type of intake, for example, 'stray', 'owner surrender', etc.\n",
    "6. *sex_upon_intake:* The gender of the animal and if it has been spayed or neutered at the time of intake\n",
    "7. *age_upon\\_intake_(years):* The age of the animal upon intake represented in years\n",
    "8. *time_in_shelter_days:* Numeric value denoting the number of days the animal remained at the shelter from intake to outcome.\n",
    "9. *sex_upon_outcome:* The gender of the animal and if it has been spayed or neutered at time of outcome\n",
    "10. *age_upon\\_outcome_(years):* The age of the animal upon outcome represented in years\n",
    "11. *outcome_type:* The outcome type. Can be one of ‘adopted’, ‘transferred’, etc."
   ]
  },
  {
   "cell_type": "code",
   "execution_count": 1,
   "metadata": {},
   "outputs": [],
   "source": [
    "import numpy as np\n",
    "import matplotlib.pyplot as plt\n",
    "import pandas as pd\n",
    "import scipy as sp\n",
    "from itertools import combinations \n",
    "import ast\n",
    "from sklearn.linear_model import LogisticRegression\n",
    "import seaborn as sn\n",
    "%matplotlib inline\n",
    "\n",
    "data_folder = './data/'"
   ]
  },
  {
   "cell_type": "markdown",
   "metadata": {},
   "source": [
    "### A) Load the dataset and convert categorical features to a suitable numerical representation (use dummy-variable encoding). \n",
    "- Split the data into a training set (80%) and a test set (20%). Pair each feature vector with the corresponding label, i.e., whether the outcome_type is adoption or not. \n",
    "- Standardize the values of each feature in the data to have mean 0 and variance 1.\n",
    "\n",
    "The use of external libraries is not permitted in part A, except for numpy and pandas. \n",
    "You can drop entries with missing values."
   ]
  },
  {
   "cell_type": "code",
   "execution_count": 2,
   "metadata": {},
   "outputs": [],
   "source": [
    "columns = ['animal_type', 'intake_year', 'intake_condition', 'intake_number', 'intake_type', 'sex_upon_intake', \\\n",
    "          'age_upon_intake_(years)', 'time_in_shelter_days', 'sex_upon_outcome', 'age_upon_outcome_(years)', \\\n",
    "          'outcome_type']\n",
    "original_data = pd.read_csv(data_folder+'aac_intakes_outcomes.csv', usecols=columns)"
   ]
  },
  {
   "cell_type": "code",
   "execution_count": 3,
   "metadata": {},
   "outputs": [],
   "source": [
    "y = pd.get_dummies(original_data['outcome_type'])['Adoption']"
   ]
  },
  {
   "cell_type": "code",
   "execution_count": 6,
   "metadata": {},
   "outputs": [
    {
     "data": {
      "text/html": [
       "<div>\n",
       "<style scoped>\n",
       "    .dataframe tbody tr th:only-of-type {\n",
       "        vertical-align: middle;\n",
       "    }\n",
       "\n",
       "    .dataframe tbody tr th {\n",
       "        vertical-align: top;\n",
       "    }\n",
       "\n",
       "    .dataframe thead th {\n",
       "        text-align: right;\n",
       "    }\n",
       "</style>\n",
       "<table border=\"1\" class=\"dataframe\">\n",
       "  <thead>\n",
       "    <tr style=\"text-align: right;\">\n",
       "      <th></th>\n",
       "      <th>Aged</th>\n",
       "      <th>Feral</th>\n",
       "      <th>Injured</th>\n",
       "      <th>Normal</th>\n",
       "      <th>Nursing</th>\n",
       "      <th>Other</th>\n",
       "      <th>Pregnant</th>\n",
       "      <th>Sick</th>\n",
       "    </tr>\n",
       "  </thead>\n",
       "  <tbody>\n",
       "    <tr>\n",
       "      <th>0</th>\n",
       "      <td>0</td>\n",
       "      <td>0</td>\n",
       "      <td>0</td>\n",
       "      <td>1</td>\n",
       "      <td>0</td>\n",
       "      <td>0</td>\n",
       "      <td>0</td>\n",
       "      <td>0</td>\n",
       "    </tr>\n",
       "    <tr>\n",
       "      <th>1</th>\n",
       "      <td>0</td>\n",
       "      <td>0</td>\n",
       "      <td>0</td>\n",
       "      <td>1</td>\n",
       "      <td>0</td>\n",
       "      <td>0</td>\n",
       "      <td>0</td>\n",
       "      <td>0</td>\n",
       "    </tr>\n",
       "    <tr>\n",
       "      <th>2</th>\n",
       "      <td>0</td>\n",
       "      <td>0</td>\n",
       "      <td>0</td>\n",
       "      <td>1</td>\n",
       "      <td>0</td>\n",
       "      <td>0</td>\n",
       "      <td>0</td>\n",
       "      <td>0</td>\n",
       "    </tr>\n",
       "    <tr>\n",
       "      <th>3</th>\n",
       "      <td>0</td>\n",
       "      <td>0</td>\n",
       "      <td>0</td>\n",
       "      <td>1</td>\n",
       "      <td>0</td>\n",
       "      <td>0</td>\n",
       "      <td>0</td>\n",
       "      <td>0</td>\n",
       "    </tr>\n",
       "    <tr>\n",
       "      <th>4</th>\n",
       "      <td>0</td>\n",
       "      <td>0</td>\n",
       "      <td>1</td>\n",
       "      <td>0</td>\n",
       "      <td>0</td>\n",
       "      <td>0</td>\n",
       "      <td>0</td>\n",
       "      <td>0</td>\n",
       "    </tr>\n",
       "    <tr>\n",
       "      <th>...</th>\n",
       "      <td>...</td>\n",
       "      <td>...</td>\n",
       "      <td>...</td>\n",
       "      <td>...</td>\n",
       "      <td>...</td>\n",
       "      <td>...</td>\n",
       "      <td>...</td>\n",
       "      <td>...</td>\n",
       "    </tr>\n",
       "    <tr>\n",
       "      <th>79667</th>\n",
       "      <td>0</td>\n",
       "      <td>0</td>\n",
       "      <td>0</td>\n",
       "      <td>1</td>\n",
       "      <td>0</td>\n",
       "      <td>0</td>\n",
       "      <td>0</td>\n",
       "      <td>0</td>\n",
       "    </tr>\n",
       "    <tr>\n",
       "      <th>79668</th>\n",
       "      <td>0</td>\n",
       "      <td>0</td>\n",
       "      <td>0</td>\n",
       "      <td>1</td>\n",
       "      <td>0</td>\n",
       "      <td>0</td>\n",
       "      <td>0</td>\n",
       "      <td>0</td>\n",
       "    </tr>\n",
       "    <tr>\n",
       "      <th>79669</th>\n",
       "      <td>0</td>\n",
       "      <td>0</td>\n",
       "      <td>0</td>\n",
       "      <td>1</td>\n",
       "      <td>0</td>\n",
       "      <td>0</td>\n",
       "      <td>0</td>\n",
       "      <td>0</td>\n",
       "    </tr>\n",
       "    <tr>\n",
       "      <th>79670</th>\n",
       "      <td>0</td>\n",
       "      <td>0</td>\n",
       "      <td>0</td>\n",
       "      <td>1</td>\n",
       "      <td>0</td>\n",
       "      <td>0</td>\n",
       "      <td>0</td>\n",
       "      <td>0</td>\n",
       "    </tr>\n",
       "    <tr>\n",
       "      <th>79671</th>\n",
       "      <td>1</td>\n",
       "      <td>0</td>\n",
       "      <td>0</td>\n",
       "      <td>0</td>\n",
       "      <td>0</td>\n",
       "      <td>0</td>\n",
       "      <td>0</td>\n",
       "      <td>0</td>\n",
       "    </tr>\n",
       "  </tbody>\n",
       "</table>\n",
       "<p>79672 rows × 8 columns</p>\n",
       "</div>"
      ],
      "text/plain": [
       "       Aged  Feral  Injured  Normal  Nursing  Other  Pregnant  Sick\n",
       "0         0      0        0       1        0      0         0     0\n",
       "1         0      0        0       1        0      0         0     0\n",
       "2         0      0        0       1        0      0         0     0\n",
       "3         0      0        0       1        0      0         0     0\n",
       "4         0      0        1       0        0      0         0     0\n",
       "...     ...    ...      ...     ...      ...    ...       ...   ...\n",
       "79667     0      0        0       1        0      0         0     0\n",
       "79668     0      0        0       1        0      0         0     0\n",
       "79669     0      0        0       1        0      0         0     0\n",
       "79670     0      0        0       1        0      0         0     0\n",
       "79671     1      0        0       0        0      0         0     0\n",
       "\n",
       "[79672 rows x 8 columns]"
      ]
     },
     "execution_count": 6,
     "metadata": {},
     "output_type": "execute_result"
    }
   ],
   "source": [
    "pd.get_dummies(original_data['intake_condition'])"
   ]
  },
  {
   "cell_type": "code",
   "execution_count": 19,
   "metadata": {},
   "outputs": [],
   "source": [
    "categorical_cols = ['animal_type', 'intake_condition', 'intake_type', 'sex_upon_intake', 'sex_upon_outcome']\n",
    "\n",
    "num_rep = pd.get_dummies(original_data, columns=categorical_cols).drop(['outcome_type'], axis=1)\n",
    "\n",
    "# SOLUTION: this does not work because there are two cols with the same names which overwrite each other\n",
    "# for col in categorical_cols: \n",
    "#     df = pd.get_dummies(original_data[col])\n",
    "#     num_rep[df.columns] = df.values\n",
    "\n",
    "numerical_cols = [col for col in columns if col not in categorical_cols + ['outcome_type']] \n",
    "\n",
    "num_rep[numerical_cols] = original_data[numerical_cols]\n",
    "\n",
    "X = num_rep.apply(lambda x: (x - x.mean()) / x.std(), axis=0)\n",
    "\n",
    "assert len(y) == len(X)\n",
    "\n",
    "indices = np.arange(len(X))\n",
    "np.random.shuffle(indices)\n",
    "train_indices = indices[:int(0.8 * len(X))]\n",
    "test_indices = indices[int(0.8 * len(X)):]\n",
    "\n",
    "y_train, y_test = y[train_indices], y[test_indices]\n",
    "X_train, X_test = X.loc[train_indices], X.loc[test_indices]"
   ]
  },
  {
   "cell_type": "code",
   "execution_count": 20,
   "metadata": {},
   "outputs": [
    {
     "data": {
      "text/plain": [
       "(32,)"
      ]
     },
     "execution_count": 20,
     "metadata": {},
     "output_type": "execute_result"
    }
   ],
   "source": [
    "X_train.columns.shape"
   ]
  },
  {
   "cell_type": "markdown",
   "metadata": {},
   "source": [
    "### B) Train a logistic regression classifier on your training set. Logistic regression returns probabilities as predictions, so in order to arrive at a binary prediction, you need to put a threshold on the predicted probabilities. \n",
    "- For the decision threshold of 0.5, present the performance of your classifier on the test set by displaying the confusion matrix. Based on the confusion matrix, manually calculate accuracy, precision, recall, and F1-score with respect to the positive and the negative class. "
   ]
  },
  {
   "cell_type": "code",
   "execution_count": 23,
   "metadata": {
    "collapsed": true,
    "jupyter": {
     "outputs_hidden": true
    }
   },
   "outputs": [
    {
     "data": {
      "text/plain": [
       "array([[4.19172367e-01, 5.80827633e-01],\n",
       "       [6.07769134e-01, 3.92230866e-01],\n",
       "       [5.76629634e-01, 4.23370366e-01],\n",
       "       ...,\n",
       "       [1.34951455e-01, 8.65048545e-01],\n",
       "       [9.99801543e-01, 1.98456996e-04],\n",
       "       [7.55031537e-02, 9.24496846e-01]])"
      ]
     },
     "execution_count": 23,
     "metadata": {},
     "output_type": "execute_result"
    }
   ],
   "source": [
    "lr = LogisticRegression()\n",
    "\n",
    "lr.fit(X_train, y_train)\n",
    "\n",
    "y_pred = lr.predict_proba(X_test)\n",
    "y_pred\n"
   ]
  },
  {
   "cell_type": "code",
   "execution_count": 24,
   "metadata": {},
   "outputs": [
    {
     "name": "stdout",
     "output_type": "stream",
     "text": [
      "accuracy: 0.8257295262001882, precision: 0.7732467898969945, recall: 0.8240601503759398, f1: 0.7978452354953774\n"
     ]
    }
   ],
   "source": [
    "# SOLUTION: compute a confusion matrix and compute all scores from that confusion matrix\n",
    "# SOLUTION: compute precision, recall and f1 score for positive and negative outcomes\n",
    "\n",
    "def accuracy(true, pred, thresh): \n",
    "    correct = [1 if (sample[0] == 1 and sample[1][1] > thresh) or (sample[0] == 0 and sample[1][0] > thresh) else 0 for sample in zip(true, pred)]\n",
    "    return sum(correct) / len(correct)\n",
    "\n",
    "def precision(true, pred, thresh): \n",
    "    true_positives = [1 if (sample[0] == 1 and sample[1][1] > thresh) else 0 for sample in zip(true, pred)]\n",
    "    positives = [1 if sample[1][1] > thresh else 0 for sample in zip(true, pred)]\n",
    "    if sum(positives) == 0: \n",
    "        return 1\n",
    "    else: \n",
    "        return sum(true_positives) / sum(positives)\n",
    "\n",
    "def recall(true, pred, thresh): \n",
    "    true_positives = [1 if (sample[0] == 1 and sample[1][1] > thresh) else 0 for sample in zip(true, pred)]\n",
    "    return sum(true_positives) / sum(true)\n",
    "\n",
    "def f1(true, pred, thresh): \n",
    "    p = precision(true, pred, thresh)\n",
    "    r = recall(true, pred, thresh)\n",
    "    \n",
    "    if p == 0: \n",
    "        p = 1e-12\n",
    "    if r == 0: \n",
    "        r = 1e-12\n",
    "    return 2 / (1 / p + 1 / r)\n",
    "\n",
    "\n",
    "print('accuracy: {}, precision: {}, recall: {}, f1: {}'.format(accuracy(y_test, y_pred, 0.5), precision(y_test, y_pred, 0.5), recall(y_test, y_pred, 0.5), f1(y_test, y_pred, 0.5)))"
   ]
  },
  {
   "cell_type": "markdown",
   "metadata": {},
   "source": [
    "### C) Vary the value of the threshold in the range from 0 to 1 and visualize the value of accuracy, precision, recall, and F1-score (with respect to both classes) as a function of the threshold."
   ]
  },
  {
   "cell_type": "code",
   "execution_count": 25,
   "metadata": {},
   "outputs": [],
   "source": [
    "lspace = np.linspace(0,1,1000)\n",
    "acc = [accuracy(y_test, y_pred, ii) for ii in lspace]\n",
    "prec = [precision(y_test, y_pred, ii) for ii in lspace]\n",
    "rec = [recall(y_test, y_pred, ii) for ii in lspace]\n",
    "fone = [f1(y_test, y_pred, ii) for ii in lspace]"
   ]
  },
  {
   "cell_type": "code",
   "execution_count": 26,
   "metadata": {
    "collapsed": true,
    "jupyter": {
     "outputs_hidden": true
    }
   },
   "outputs": [
    {
     "data": {
      "text/plain": [
       "<matplotlib.legend.Legend at 0x7fec866b9d30>"
      ]
     },
     "execution_count": 26,
     "metadata": {},
     "output_type": "execute_result"
    },
    {
     "data": {
      "image/png": "[encoded data removed]",
      "text/plain": [
       "<Figure size 640x480 with 1 Axes>"
      ]
     },
     "metadata": {},
     "output_type": "display_data"
    }
   ],
   "source": [
    "plt.plot(lspace, acc, label='accuracy')\n",
    "plt.plot(lspace, prec, label='precision')\n",
    "plt.plot(lspace, rec, label='recall')\n",
    "plt.plot(lspace, fone, label='f1')\n",
    "\n",
    "plt.legend()"
   ]
  },
  {
   "cell_type": "markdown",
   "metadata": {},
   "source": [
    "### D) Plot in a bar chart the coefficients of the logistic regression sorted by their contribution to the prediction."
   ]
  },
  {
   "cell_type": "code",
   "execution_count": 130,
   "metadata": {
    "collapsed": true,
    "jupyter": {
     "outputs_hidden": true
    }
   },
   "outputs": [
    {
     "data": {
      "text/plain": [
       "(array([ 0,  1,  2,  3,  4,  5,  6,  7,  8,  9, 10, 11, 12, 13, 14, 15, 16,\n",
       "        17, 18, 19, 20, 21, 22, 23, 24, 25]),\n",
       " [Text(0, 0, 'age_upon_intake_(years)'),\n",
       "  Text(1, 0, 'age_upon_outcome_(years)'),\n",
       "  Text(2, 0, 'Wildlife'),\n",
       "  Text(3, 0, 'Unknown'),\n",
       "  Text(4, 0, 'time_in_shelter_days'),\n",
       "  Text(5, 0, 'Spayed Female'),\n",
       "  Text(6, 0, 'Neutered Male'),\n",
       "  Text(7, 0, 'Intact Male'),\n",
       "  Text(8, 0, 'Intact Female'),\n",
       "  Text(9, 0, 'Owner Surrender'),\n",
       "  Text(10, 0, 'Dog'),\n",
       "  Text(11, 0, 'Cat'),\n",
       "  Text(12, 0, 'Public Assist'),\n",
       "  Text(13, 0, 'Stray'),\n",
       "  Text(14, 0, 'Bird'),\n",
       "  Text(15, 0, 'intake_year'),\n",
       "  Text(16, 0, 'Injured'),\n",
       "  Text(17, 0, 'Normal'),\n",
       "  Text(18, 0, 'Aged'),\n",
       "  Text(19, 0, 'Feral'),\n",
       "  Text(20, 0, 'Sick'),\n",
       "  Text(21, 0, 'Euthanasia Request'),\n",
       "  Text(22, 0, 'Pregnant'),\n",
       "  Text(23, 0, 'intake_number'),\n",
       "  Text(24, 0, 'Nursing'),\n",
       "  Text(25, 0, 'Other')])"
      ]
     },
     "execution_count": 130,
     "metadata": {},
     "output_type": "execute_result"
    },
    {
     "data": {
      "image/png": "[encoded data removed]",
      "text/plain": [
       "<Figure size 640x480 with 1 Axes>"
      ]
     },
     "metadata": {},
     "output_type": "display_data"
    }
   ],
   "source": [
    "df = pd.DataFrame({'col' : list(X.columns.values), 'coef' : list(np.abs(lr.coef_.transpose()).ravel())})\n",
    "df = df.sort_values(\"coef\", ascending=False)\n",
    "sn.barplot(data=df, x='col', y='coef')\n",
    "plt.xticks(rotation = 90)\n",
    "\n",
    "# SOLUTION: plot the columns horizontally and don't take the absolute value"
   ]
  },
  {
   "cell_type": "markdown",
   "metadata": {},
   "source": [
    "\n",
    "## Question 1: Which of the following metrics is most suitable when you are dealing with unbalanced classes?\n",
    "\n",
    "- a) F1 Score\n",
    "- b) Recall\n",
    "- c) Precision\n",
    "- d) Accuracy"
   ]
  },
  {
   "cell_type": "code",
   "execution_count": null,
   "metadata": {
    "collapsed": true,
    "jupyter": {
     "outputs_hidden": true
    }
   },
   "outputs": [],
   "source": [
    "# F1 score"
   ]
  },
  {
   "cell_type": "markdown",
   "metadata": {},
   "source": [
    "## Question 2: You are working on a binary classification problem. You trained a model on a training dataset and got the following confusion matrix on the test dataset. What is true about the evaluation metrics (rounded to the second decimal point):\n",
    "\n",
    "|            | Pred = NO|Pred=YES|\n",
    "|------------|----------|--------|\n",
    "| Actual NO  |    50    |   10   |\n",
    "| Actual YES |    5     |   100  |\n",
    "\n",
    "- a) Accuracy is 0.95\n",
    "- b) Accuracy is 0.85\n",
    "- c) False positive rate is 0.95\n",
    "- d) True positive rate is 0.95"
   ]
  },
  {
   "cell_type": "code",
   "execution_count": 132,
   "metadata": {
    "collapsed": true,
    "jupyter": {
     "outputs_hidden": true
    }
   },
   "outputs": [
    {
     "data": {
      "text/plain": [
       "0.9523809523809523"
      ]
     },
     "execution_count": 132,
     "metadata": {},
     "output_type": "execute_result"
    }
   ],
   "source": [
    "100 / 105\n",
    "# d is true"
   ]
  }
 ],
 "metadata": {
  "kernelspec": {
   "display_name": "Python 3.9.13 ('ada')",
   "language": "python",
   "name": "python3"
  },
  "language_info": {
   "codemirror_mode": {
    "name": "ipython",
    "version": 3
   },
   "file_extension": ".py",
   "mimetype": "text/x-python",
   "name": "python",
   "nbconvert_exporter": "python",
   "pygments_lexer": "ipython3",
   "version": "3.9.15"
  },
  "varInspector": {
   "cols": {
    "lenName": 16,
    "lenType": 16,
    "lenVar": 40
   },
   "kernels_config": {
    "python": {
     "delete_cmd_postfix": "",
     "delete_cmd_prefix": "del ",
     "library": "var_list.py",
     "varRefreshCmd": "print(var_dic_list())"
    },
    "r": {
     "delete_cmd_postfix": ") ",
     "delete_cmd_prefix": "rm(",
     "library": "var_list.r",
     "varRefreshCmd": "cat(var_dic_list()) "
    }
   },
   "types_to_exclude": [
    "module",
    "function",
    "builtin_function_or_method",
    "instance",
    "_Feature"
   ],
   "window_display": false
  },
  "vscode": {
   "interpreter": {
    "hash": "b3625d2e50f807a11475dd891f3a9c7562ba38e956b321c846757eb50e751d95"
   }
  }
 },
 "nbformat": 4,
 "nbformat_minor": 4
}
