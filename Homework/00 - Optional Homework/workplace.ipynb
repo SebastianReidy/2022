{
 "cells": [
  {
   "cell_type": "code",
   "execution_count": 10,
   "id": "1423218a-d107-4ac5-b398-7a7962081452",
   "metadata": {},
   "outputs": [],
   "source": [
    "import pandas as pd \n",
    "\n",
    "df = pd.read_csv('./data.csv')\n",
    "df.rename(columns = {'Unnamed: 0' : 'Id'}, inplace = True)"
   ]
  },
  {
   "cell_type": "code",
   "execution_count": 11,
   "id": "399fd2f5-560a-4114-878b-f23db650f8e8",
   "metadata": {},
   "outputs": [
    {
     "data": {
      "text/html": [
       "<div>\n",
       "<style scoped>\n",
       "    .dataframe tbody tr th:only-of-type {\n",
       "        vertical-align: middle;\n",
       "    }\n",
       "\n",
       "    .dataframe tbody tr th {\n",
       "        vertical-align: top;\n",
       "    }\n",
       "\n",
       "    .dataframe thead th {\n",
       "        text-align: right;\n",
       "    }\n",
       "</style>\n",
       "<table border=\"1\" class=\"dataframe\">\n",
       "  <thead>\n",
       "    <tr style=\"text-align: right;\">\n",
       "      <th></th>\n",
       "      <th>Id</th>\n",
       "      <th>Intent</th>\n",
       "      <th>Gender</th>\n",
       "      <th>Age</th>\n",
       "      <th>Race</th>\n",
       "      <th>Deaths</th>\n",
       "      <th>Population</th>\n",
       "      <th>Rate</th>\n",
       "    </tr>\n",
       "  </thead>\n",
       "  <tbody>\n",
       "    <tr>\n",
       "      <th>0</th>\n",
       "      <td>1</td>\n",
       "      <td>None selected</td>\n",
       "      <td>None selected</td>\n",
       "      <td>None selected</td>\n",
       "      <td>None \\nselected</td>\n",
       "      <td>33599</td>\n",
       "      <td>316299978</td>\n",
       "      <td>10.6</td>\n",
       "    </tr>\n",
       "    <tr>\n",
       "      <th>1</th>\n",
       "      <td>2</td>\n",
       "      <td>None selected</td>\n",
       "      <td>None selected</td>\n",
       "      <td>None \\nselected</td>\n",
       "      <td>White</td>\n",
       "      <td>22079</td>\n",
       "      <td>197369634</td>\n",
       "      <td>11.2</td>\n",
       "    </tr>\n",
       "  </tbody>\n",
       "</table>\n",
       "</div>"
      ],
      "text/plain": [
       "   Id         Intent         Gender              Age             Race  Deaths  \\\n",
       "0   1  None selected  None selected    None selected  None \\nselected   33599   \n",
       "1   2  None selected  None selected  None \\nselected            White   22079   \n",
       "\n",
       "   Population  Rate  \n",
       "0   316299978  10.6  \n",
       "1   197369634  11.2  "
      ]
     },
     "execution_count": 11,
     "metadata": {},
     "output_type": "execute_result"
    }
   ],
   "source": [
    "df.head(2)"
   ]
  },
  {
   "cell_type": "code",
   "execution_count": 24,
   "id": "80c1a2b3-f17b-4d6d-8277-91e1a60dda36",
   "metadata": {},
   "outputs": [],
   "source": [
    "\"\"\"Preprocessing: we need to remove all rows containing a 'None selected' entry\"\"\"\n",
    "df.replace(to_replace='None selected', value=None, inplace=True)\n",
    "df.replace(to_replace='None \\nselected', value=None, inplace=True)\n",
    "df.dropna(inplace=True)"
   ]
  },
  {
   "cell_type": "code",
   "execution_count": 30,
   "id": "1f9adf1c-5ea6-462f-be35-5a1c2137fe64",
   "metadata": {},
   "outputs": [
    {
     "name": "stdout",
     "output_type": "stream",
     "text": [
      "The percentage of suicides in the data set is 62.681947%\n"
     ]
    }
   ],
   "source": [
    "\"\"\"Nearly two-thirds of gun deaths are suicides.\"\"\"\n",
    "suicides = df[df['Intent'] == 'Suicide']['Deaths'].sum()\n",
    "total = df['Deaths'].sum()\n",
    "print('The percentage of suicides in the data set is %1f%%' % (suicides / total * 100))"
   ]
  },
  {
   "cell_type": "code",
   "execution_count": 39,
   "id": "a7ea9fbd-3af3-4548-bb8a-c4e77c010000",
   "metadata": {},
   "outputs": [
    {
     "name": "stdout",
     "output_type": "stream",
     "text": [
      "The percentage of male people among the suicide victims is 86.242758%\n"
     ]
    }
   ],
   "source": [
    "\"\"\"More than 85% of the victimes are male\"\"\"\n",
    "male = df[(df['Intent'] == 'Suicide') & (df['Gender'] == 'Male')]['Deaths'].sum()\n",
    "print('The percentage of male people among the suicide victims is %1f%%' % (male / suicides * 100))"
   ]
  },
  {
   "cell_type": "code",
   "execution_count": 43,
   "id": "54fe9131-100c-4f76-bdc3-ae2cea590f7a",
   "metadata": {},
   "outputs": [
    {
     "name": "stdout",
     "output_type": "stream",
     "text": [
      "The percentage of homicides among all gun deaths is 34.906980%\n"
     ]
    }
   ],
   "source": [
    "\"\"\"A third of all gun deaths are homicides\"\"\"\n",
    "homicide = df[df['Intent'] == 'Homicide']['Deaths'].sum()\n",
    "print('The percentage of homicides among all gun deaths is %1f%%' % (homicide / total * 100))"
   ]
  },
  {
   "cell_type": "code",
   "execution_count": 51,
   "id": "b422674a-bf50-486b-9b00-aa2cbd79cb9f",
   "metadata": {},
   "outputs": [
    {
     "name": "stdout",
     "output_type": "stream",
     "text": [
      "The percentage of black people among male homicide victims in the 15-34 age group is 66.124827%\n"
     ]
    }
   ],
   "source": [
    "\"\"\"Around two-thirds of homicide victims who are males in the age-group of 15--34 are black.\"\"\"\n",
    "homicide_male_age_black = df[(df['Intent'] == 'Homicide') & (df['Gender'] == 'Male') & (df['Age'] == '15 - 34') & (df['Race'] == 'Black')]['Deaths'].sum()\n",
    "homicide_male_age = df[(df['Intent'] == 'Homicide') & (df['Gender'] == 'Male') & (df['Age'] == '15 - 34')]['Deaths'].sum()\n",
    "print('The percentage of black people among male homicide victims in the 15-34 age group is %1f%%' % (homicide_male_age_black / homicide_male_age * 100))"
   ]
  },
  {
   "cell_type": "code",
   "execution_count": 52,
   "id": "39d4a75f-27cf-4691-9904-8b3686d569d8",
   "metadata": {},
   "outputs": [
    {
     "name": "stdout",
     "output_type": "stream",
     "text": [
      "The percentage of females among all homicide victims is 15.289503%\n"
     ]
    }
   ],
   "source": [
    "\"\"\"Only 15% of the homicide victims are female\"\"\"\n",
    "homicide_female = df[(df['Intent'] == 'Homicide') & (df['Gender'] == 'Female')]['Deaths'].sum()\n",
    "print('The percentage of females among all homicide victims is %1f%%' % (homicide_female / homicide * 100))"
   ]
  }
 ],
 "metadata": {
  "kernelspec": {
   "display_name": "Python 3 (ipykernel)",
   "language": "python",
   "name": "python3"
  },
  "language_info": {
   "codemirror_mode": {
    "name": "ipython",
    "version": 3
   },
   "file_extension": ".py",
   "mimetype": "text/x-python",
   "name": "python",
   "nbconvert_exporter": "python",
   "pygments_lexer": "ipython3",
   "version": "3.9.12"
  }
 },
 "nbformat": 4,
 "nbformat_minor": 5
}
