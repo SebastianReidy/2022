{
 "cells": [
  {
   "cell_type": "markdown",
   "id": "09e9a536",
   "metadata": {},
   "source": [
    "## ADA final exam (Fall 2022)\n",
    "\n",
    "This exam consists of 3 tasks. Tasks 2 and 3 are independent of each other (although conceptually related).\n"
   ]
  },
  {
   "cell_type": "markdown",
   "id": "68507ec4",
   "metadata": {},
   "source": [
    "## Dataset\n",
    "\n",
    "For a Wikipedia editor to become an administrator, a so-called “request for adminship” ([RfA](https://en.wikipedia.org/wiki/Wikipedia:Requests_for_adminship)) must be submitted by either the candidate or another community member. Subsequently, any Wikipedia member may cast a supporting or opposing vote. Here we provide a simplified version of the Wikipedia RfA dataset, containing all votes from 2003 through 2012.\n",
    "\n",
    "###  Data format\n",
    "\n",
    "|        |   SRC |   TGT |   VOT |   RES |   YEA | DAT                 | TXT                                                                                                                                                                                               |\n",
    "|-------:|------:|------:|------:|------:|------:|:--------------------|:--------------------------------------------------------------------------------------------------------------------------------------------------------------------------------------------------|\n",
    "|  39054 |  3444 | 10170 |     1 |     1 |  2009 | 2009-07-01 17:50:00 | '''Support''' - Best of luck. &nbsp;                                                                                                                                                              |\n",
    "| 159680 |   722 |  9634 |    -1 |    -1 |  2006 | 2006-12-15 07:28:00 | '''Oppose''' Not even 2000 edits.                                                                                                                                                                 |\n",
    "| 173438 |  4194 |  5524 |     1 |     1 |  2005 | 2005-03-18 19:22:00 | Ohhh, you're Carrp!  In that case, '''Support'''.                                                                                                                                                 |\n",
    "|  60627 |  4855 |  9436 |     1 |     1 |  2008 | 2008-12-18 23:26:00 | '''Support''' via thoughtful answer to my question that demonstrates this editor has clue.                                                 |\n",
    "| 194809 |  7687 |   908 |     1 |     1 |  2004 | 2004-09-25 05:21:00 | Nicholas is very good in English. Also, he got '''exceptional''' patience to explain petty obvious facts in talk page to convince ignorants. Let the world be benefitted more out of his work. -- |\n",
    "\n",
    "\n",
    "- SRC: the user name of the source of the vote, i.e., of the user who cast the vote.\n",
    "- TGT: the user name of the target of the vote, i.e., of the user running for election.\n",
    "- VOT: the source's vote on the target (-1 = oppose; 1 = support).\n",
    "- RES: the outcome of the election (-1 = target was rejected as admin; 1 = target was accepted). **(We will not use this  column in this exam.)**\n",
    "- YEA: the year of the RfA.\n",
    "- DAT: the date and time of this vote. **(We will not use this column in this exam.)**\n",
    "- TXT: the comment written by the source. **(We will not use this column in this exam.)**\n",
    "\n",
    "---\n"
   ]
  },
  {
   "cell_type": "markdown",
   "id": "4a4a661c",
   "metadata": {},
   "source": [
    "## Structural balance theory\n",
    "\n",
    "**Structural balance theory** affirms that social networks tend to be organized so as to avoid conflictual situations, e.g., if a great friend of yours hates someone, you will likely not befriend that person.\n",
    "\n",
    "The theory can be operationalized by looking at _triangles_ in an undirected _signed graph_ capturing person-to-person relationships, where a _signed graph_ is a  graph in which each edge is associated with a positive or negative sign, and a _triangle_ is a set of three edges ($\\langle u,v \\rangle$, $\\langle v,w\\rangle$, $\\langle u,w\\rangle$) that fully connect three distinct nodes ($u, v, w$).\n",
    "\n",
    "\n",
    "\n",
    "_Triangles_ in an undirected signed graph can be in 4 _configurations_:\n",
    "all positive edges ($\\{+,+,+\\}$); \n",
    "all negative edges ($\\{-,-,-\\}$); \n",
    "two positive edges and one negative edge ($\\{+,+,-\\}$);\n",
    "one positive edge and two negative edges ($\\{+,-,-\\}$).\n",
    "\n",
    "Structural balance theory posits that social networks tend to favor triangle configurations with an even number of negative signs (i.e., $\\{+,+,+\\}$ and $\\{+,-,-\\}$), which can be understood as being “balanced” by avoiding conflictual situations. Intuitively, $\\{+,+,+\\}$ could be tagged as “The friend of my friend is my friend”, and $\\{+,-,-\\}$ as “The enemy of my enemy is my friend”, “The friend of my enemy is my enemy”, or “The enemy of my friend is my enemy”. On the contrary, triangle configurations with an odd number of negative signs (i.e., $\\{+,+,-\\}$ and $\\{-,-,-\\}$) are unstable (“unbalanced”) according to structural balance theory and will thus occur less frequently in social networks. For instance, me being friends with two mutual enemies ($\\{+,+,-\\}$) would lead to tension that could be resolved if the two enemies became friends or if I took sides and ended my friendship with one of the two. Similarly, two among three mutual enemies ($\\{-,-,-\\}$) would have the incentive to form an alliance to “gang up” against the third.\n",
    "\n",
    "Some social scientists have argued that three mutual enemies ($\\{-,-,-\\}$) is not necessarily a triangle configuration that social networks tend to avoid. This gives rise to **weak structural balance theory**, which only posits that social networks tend to avoid the “unbalanced” triangle configuration $\\{+,+,-\\}$.\n",
    "\n",
    "In a nutshell,\n",
    "- structural balance theory\n",
    "  - considers $\\{+,+,+\\}$, $\\{+,-,-\\}$ as balanced,\n",
    "  - and $\\{+,+,-\\}$, $\\{-,-,-\\}$ as unbalanced;\n",
    "- weak structural balance theory\n",
    "  - considers $\\{+,+,+\\}$, $\\{+,-,-\\}$, $\\{-,-,-\\}$ as balanced,\n",
    "  - and $\\{+,+,-\\}$ as unbalanced.\n",
    "\n"
   ]
  },
  {
   "cell_type": "markdown",
   "id": "d5f337c9",
   "metadata": {},
   "source": [
    "### Task 1: Preliminaries\n",
    "\n",
    "As a good data scientist, you first load the data and explore it.\n",
    "\n",
    "**1.1**\n",
    "Load the csv file `wiki-RfA.csv.gz` in a pandas dataframe. Calculate the number of distinct RfAs and the average number of votes per RfA.\n",
    "- **Hint:** Throughout this question, assume that each RfA is uniquely determined by the column `TGT` and each vote is uniquely determined by the combination of `SRC` and `TGT`."
   ]
  },
  {
   "cell_type": "code",
   "execution_count": 13,
   "id": "ff2e92a5",
   "metadata": {},
   "outputs": [
    {
     "name": "stdout",
     "output_type": "stream",
     "text": [
      "number of distinct rfas:  3439\n",
      "average number of votes per rfa:  48.561500436173304\n"
     ]
    }
   ],
   "source": [
    "# 1.1\n",
    "import pandas as pd \n",
    "rfas = pd.read_csv('wiki-RfA.csv')\n",
    "print('number of distinct rfas: ', rfas.TGT.nunique())\n",
    "print('average number of votes per rfa: ', rfas.groupby('TGT').SRC.nunique().mean())"
   ]
  },
  {
   "cell_type": "markdown",
   "id": "813b5a32",
   "metadata": {},
   "source": [
    "**1.2** \n",
    "In a single figure with three subfigures (one per item), show the following time series:\n",
    "- the number of RfAs per year;\n",
    "- the overall fraction of positive votes per year; and \n",
    "- the average number of votes per RfA per year.\n",
    "\n",
    "For each of the above three quantities, print the value for the year 2008."
   ]
  },
  {
   "attachments": {},
   "cell_type": "markdown",
   "id": "5374066e",
   "metadata": {},
   "source": [
    "- We group by request and take the min year of each requet as the year of the request. Then we count the years. \n",
    "- we create a helper column with 1 for positive votes and 0 for negative votes. Then we calculate the mean of the helper column as the fraction of positive votes. \n",
    "- We group by TGT & YEA. Then we count the number of SRC per TGT, group again per year and calculate the mean. "
   ]
  },
  {
   "cell_type": "code",
   "execution_count": 26,
   "id": "b1732d7e",
   "metadata": {},
   "outputs": [
    {
     "data": {
      "text/plain": [
       "[<matplotlib.lines.Line2D at 0x7ff3c915ef10>]"
      ]
     },
     "execution_count": 26,
     "metadata": {},
     "output_type": "execute_result"
    },
    {
     "data": {
      "image/png": "[encoded data removed]",
      "text/plain": [
       "<Figure size 1600x500 with 3 Axes>"
      ]
     },
     "metadata": {},
     "output_type": "display_data"
    }
   ],
   "source": [
    "# 1.2 \n",
    "import matplotlib.pyplot as plt\n",
    "\n",
    "fig, ax = plt.subplots(1,3,figsize=(16,5))\n",
    "\n",
    "ax[0].hist(rfas.groupby(['TGT']).YEA.min())\n",
    "\n",
    "rfas['positive_vote'] = rfas.VOT.apply(lambda x: 1 if x ==1 else 0)\n",
    "\n",
    "ax[1].plot(rfas.groupby('YEA').positive_vote.mean().index, rfas.groupby('YEA').positive_vote.mean().values)\n",
    "\n",
    "ax[2].plot(rfas.groupby(['TGT', 'YEA']).count().SRC.groupby('YEA').mean().index, rfas.groupby(['TGT', 'YEA']).count().SRC.groupby('YEA').mean().values)"
   ]
  },
  {
   "cell_type": "markdown",
   "id": "366d38d9",
   "metadata": {},
   "source": [
    "**1.3** \n",
    "**/Discuss:/** Describe the temporal patterns observed in the plots you did in **T1.2**."
   ]
  },
  {
   "attachments": {},
   "cell_type": "markdown",
   "id": "e77900f8",
   "metadata": {},
   "source": [
    "**A1.3** \n",
    "We observe that the number of RFAs has a peak between 2006 and 2008. Furthermore, the fraction of positive votes is diclining over the years whereas the average number of votes per RFA per year is increasing. "
   ]
  },
  {
   "cell_type": "markdown",
   "id": "81126c89",
   "metadata": {},
   "source": [
    "**1.4** \n",
    "Create an undirected graph ([`nx.Graph`](https://networkx.org/documentation/stable/reference/classes/graph.html)) where every node corresponds to a Wikipedia user (source or target of an RfA) and where there exists an edge between two users if at least one of them has voted on the other. Each edge should have attributes corresponding to columns of the dataframe, namely:\n",
    "- `VOT`, which equals `1` if the vote was positive, and `-1` otherwise.\n",
    "- `YEA`, an integer that represents the year of the RfA.\n",
    "\n",
    "**The code to load the graph has been provided to you!** After running it, print the number of nodes and edges in your graph.\n",
    "\n",
    "---\n",
    "\n",
    "**Observation:** Note that we have at most one edge per pair of nodes in the graph, even though two votes may be associated with the pair  — e.g., if A voted in B's RfA in time $t_1$ and B voted in A's RfA in time $t_2$ ($t_1 < t_2$). In these cases, the code provided associates the metadata of the oldest vote ($t_1$ in the example) to the edge between A and B."
   ]
  },
  {
   "cell_type": "code",
   "execution_count": 27,
   "id": "e57d4776",
   "metadata": {},
   "outputs": [],
   "source": [
    "# Provided code! Do not change!\n",
    "import networkx as nx\n",
    "import pandas as pd\n",
    "G = nx.from_pandas_edgelist(pd.read_csv(\"./wiki-RfA.csv\"), \n",
    "                            'SRC', 'TGT', ['VOT', 'RES', 'YEA', 'DAT'], create_using=nx.Graph)"
   ]
  },
  {
   "cell_type": "code",
   "execution_count": 28,
   "id": "f21ec7a6",
   "metadata": {},
   "outputs": [
    {
     "name": "stdout",
     "output_type": "stream",
     "text": [
      "the number of edges is:  161147\n",
      "the number of nodes is:  10831\n"
     ]
    }
   ],
   "source": [
    "# 1.4\n",
    "print('the number of edges is: ', G.number_of_edges())\n",
    "print('the number of nodes is: ', G.number_of_nodes())"
   ]
  },
  {
   "cell_type": "markdown",
   "id": "37cbd1b8",
   "metadata": {},
   "source": [
    "**1.5** \n",
    "Plot the **complementary** cumulative distribution of the degree centrality of the undirected graph. Use a logarithmic (base 10) x-axis and a linear y-axis."
   ]
  },
  {
   "cell_type": "code",
   "execution_count": 46,
   "id": "c1edfd6a",
   "metadata": {},
   "outputs": [
    {
     "data": {
      "text/plain": [
       "Text(0.5, 0, 'degree centrality')"
      ]
     },
     "execution_count": 46,
     "metadata": {},
     "output_type": "execute_result"
    },
    {
     "data": {
      "image/png": "[encoded data removed]",
      "text/plain": [
       "<Figure size 640x480 with 1 Axes>"
      ]
     },
     "metadata": {},
     "output_type": "display_data"
    }
   ],
   "source": [
    "# 1.5\n",
    "import numpy as np \n",
    "\n",
    "centrality = [x * (G.number_of_nodes() -1) for x in (nx.degree_centrality(G).values())]\n",
    "import seaborn as sns\n",
    "sns.ecdfplot(data=centrality, complementary=True, log_scale=(True, False))\n",
    "plt.title('CCDF of the degree centrality')\n",
    "plt.xlabel('degree centrality')"
   ]
  },
  {
   "cell_type": "markdown",
   "id": "935be3bf",
   "metadata": {},
   "source": [
    "\n",
    "**1.6**\n",
    "**/Discuss:/** Why is the following statement false? Justify your answer. **\"From the graph obtained in task 1.5, one can conclude that around 40% of the users voted at least 11 times.\"**\n"
   ]
  },
  {
   "attachments": {},
   "cell_type": "markdown",
   "id": "3316f395",
   "metadata": {},
   "source": [
    "**A1.6**\n",
    "We are looking at an undirected graph, hence, the edges of a node could be given votes or received votes. Therefore, a user with degree 11 does not mean that this user voted 11 times, it could also received 11 votes. "
   ]
  },
  {
   "cell_type": "markdown",
   "id": "9d1d5f4a",
   "metadata": {},
   "source": [
    "**1.7**\n",
    "What fraction of users voted at least 11 times? Use the data to measure the fraction."
   ]
  },
  {
   "cell_type": "code",
   "execution_count": 51,
   "id": "a167a11b",
   "metadata": {},
   "outputs": [
    {
     "data": {
      "text/plain": [
       "0.27459977567043947"
      ]
     },
     "execution_count": 51,
     "metadata": {},
     "output_type": "execute_result"
    }
   ],
   "source": [
    "# 1.7\n",
    "np.mean([1 if x > 10 else 0 for x in rfas.groupby('SRC').count().TGT.values])"
   ]
  },
  {
   "attachments": {},
   "cell_type": "markdown",
   "id": "18f292fa",
   "metadata": {},
   "source": [
    "We grouped by SRC to count the number of votes per SRC. Then we create a helper list with a 1 if a node did more than 10 votes and 0 if not. The mean of the helper list is the desired fraction."
   ]
  },
  {
   "cell_type": "markdown",
   "id": "35b05b29",
   "metadata": {},
   "source": [
    "### Task 2: Triangles\n",
    "\n",
    "Next, you set out to investigate the social balance theory by looking at the RfA graph.\n",
    "\n",
    "**2.1**\n",
    "Considering _only_ the RfAs of 2004 (i.e., where `YEA == 2004`), generate all triangles in the undirected graph.\n",
    "Print the number of triangles found.\n",
    "- **Hint:** Note that you can generate a graph with only a subset of nodes and edges via ` G.edge_subgraph`.\n",
    "-  **Hint:** The function `nx.enumerate_all_cliques` generates all cliques in an undirected graph. First, all cliques of size 1 are generated, then all cliques of size 2, etc. Triangles are cliques of size 3.\n"
   ]
  },
  {
   "cell_type": "code",
   "execution_count": 66,
   "id": "b39a403e",
   "metadata": {},
   "outputs": [
    {
     "name": "stdout",
     "output_type": "stream",
     "text": [
      "there are: 8448 triangles in the graph\n"
     ]
    }
   ],
   "source": [
    "# 2.1\n",
    "edgelist = [(u,v) for u,v in rfas[rfas['YEA'] == 2004][['SRC', 'TGT']].values]\n",
    "Gsub = G.edge_subgraph(edgelist)\n",
    "clique3 = [ii for ii in list(nx.enumerate_all_cliques(Gsub)) if len(ii) == 3]\n",
    "print('there are: {} triangles in the graph'.format(len(clique3)))"
   ]
  },
  {
   "cell_type": "markdown",
   "id": "9b8ac389",
   "metadata": {},
   "source": [
    "**2.2 ** **/True or false:/** Is the following statement true or false? Justify your answer. **\"The node with the highest clustering coefficient in an undirected graph is the node that belongs to the largest number of triangles.\"**"
   ]
  },
  {
   "attachments": {},
   "cell_type": "markdown",
   "id": "f961eef7",
   "metadata": {},
   "source": [
    "**A2.2**\n",
    "False, consider an undirected graph with two disconnected groups. Group 1: a connected pair of nodes. Group 2: one triangle and every node of the trianle is connected to one extra node. The extra nodes have only one connection. The nodes of group 1 have clustering coefficient 1 because there is only one possible edge in the neighborhoods of group one nodes and this edge is present. The nodes of the group 2 triangle all have a clustering coefficient <1 because the extra nodes are only connected to one other node. Hence, the statement is false. "
   ]
  },
  {
   "cell_type": "markdown",
   "id": "e2f5b22c",
   "metadata": {},
   "source": [
    "**2.3** Considering the set of triangles previously calculated, estimate the fraction of triangles of configurations\n",
    " $\\{+,+,+\\}$,  $\\{-,-,-\\}$,  $\\{+,+,-\\}$, and $\\{+,-,-\\}$. What fraction of triangles are \"balanced\" according to structural balance theory?"
   ]
  },
  {
   "attachments": {},
   "cell_type": "markdown",
   "id": "aa261aab",
   "metadata": {},
   "source": [
    "We represent each clique tuple as one number representing the number of positive edges in the clique. "
   ]
  },
  {
   "cell_type": "code",
   "execution_count": 101,
   "id": "f858e94c",
   "metadata": {},
   "outputs": [
    {
     "name": "stdout",
     "output_type": "stream",
     "text": [
      "the fraction of {+,+,+} is :  0.7926136363636364\n",
      "the fraction of {+,+,-} is :  0.13944128787878787\n",
      "the fraction of {+,-,-} is :  0.06273674242424243\n",
      "the fraction of {-,-,-} is :  0.005208333333333333\n",
      "the fraction of balanced triangles is:  0.8553503787878788\n"
     ]
    }
   ],
   "source": [
    "# 2.3\n",
    "def count_plus(tuple): \n",
    "    u, v, z = tuple\n",
    "    sum = 0\n",
    "    for x,y in [(u,v), (u,z), (v,z)]: \n",
    "        edge = Gsub.get_edge_data(x,y)\n",
    "        if edge['VOT'] == 1 :\n",
    "            sum += 1\n",
    "    return sum\n",
    "\n",
    "configurations = [count_plus(x) for x in clique3]\n",
    "\n",
    "# 3 or 1 is balanced \n",
    "from collections import Counter\n",
    "counter = Counter(configurations)\n",
    "print('the fraction of {+,+,+} is : ', counter[3] / sum(counter.values()))\n",
    "print('the fraction of {+,+,-} is : ', counter[2] / sum(counter.values()))\n",
    "print('the fraction of {+,-,-} is : ', counter[1] / sum(counter.values()))\n",
    "print('the fraction of {-,-,-} is : ', counter[0] / sum(counter.values()))\n",
    "print('the fraction of balanced triangles is: ', (counter[3] + counter[1]) / sum(counter.values()))"
   ]
  },
  {
   "cell_type": "markdown",
   "id": "97e6f9f0",
   "metadata": {},
   "source": [
    "**2.4** To observe how triangle configurations would be distributed under a random null model, do the following:\n",
    "- Create a new column `VOT_RND` in the dataframe, where RfA votes (i.e., edge signs in the graph) are shuffled, i.e., permuted randomly.  For shuffling, use `numpy.random`, without replacement and with the seed 32 (see code provided below).\n",
    "- Create a new edge attribute with the values of `VOT_RND` in the graph you created in task **1.4**. You can do this easily using the  [`set_edge_attributes`](https://networkx.org/documentation/stable/reference/generated/networkx.classes.function.set_edge_attributes.html) function.\n",
    "- Considering the shuffled edge signs,  compute the fraction of triangles in each configuration ($\\{+,+,+\\}$,  $\\{-,-,-\\}$,  $\\{+,+,-\\}$, $\\{+,-,-\\}$). Moreover, compute the fraction of triangles that are \"balanced\" according to structural balance theory. (Reminder: consider only the RfAs of 2004.)\n"
   ]
  },
  {
   "cell_type": "code",
   "execution_count": 87,
   "id": "8b4cba61",
   "metadata": {},
   "outputs": [],
   "source": [
    "# PROVIDED STUB FOR 2.4\n",
    "import numpy as np\n",
    "np.random.seed(32)\n",
    "df_2004 = rfas[rfas.YEA == 2004].copy(deep=True)\n",
    "df_2004[\"VOT_RND\"] = np.random.choice(df_2004[\"VOT\"].values, size=len(df_2004), replace=False)"
   ]
  },
  {
   "attachments": {},
   "cell_type": "markdown",
   "id": "c1857345",
   "metadata": {},
   "source": [
    "First, we set the new attribute to the edges in the graph. Then, we extract again the subraph with triangles and use the same code as above but we consider the `VOT_RND` column for the votings instead of `VOT`."
   ]
  },
  {
   "cell_type": "code",
   "execution_count": 103,
   "id": "49cf240b",
   "metadata": {},
   "outputs": [
    {
     "name": "stdout",
     "output_type": "stream",
     "text": [
      "the fraction of {+,+,+} is :  0.6857244318181818\n",
      "the fraction of {+,+,-} is :  0.2779356060606061\n",
      "the fraction of {+,-,-} is :  0.03444602272727273\n",
      "the fraction of {-,-,-} is :  0.001893939393939394\n",
      "the fraction of balanced triangles is:  0.7201704545454546\n"
     ]
    }
   ],
   "source": [
    "# 2.4\n",
    "nx.set_edge_attributes(G, df_2004.set_index(['SRC','TGT'])['VOT_RND'].to_dict(), 'VOT_RND')\n",
    "\n",
    "edgelist = [(u,v) for u,v in df_2004[df_2004['YEA'] == 2004][['SRC', 'TGT']].values]\n",
    "Gsub = G.edge_subgraph(edgelist)\n",
    "clique3 = [ii for ii in list(nx.enumerate_all_cliques(Gsub)) if len(ii) == 3]\n",
    "\n",
    "def count_plus(tuple): \n",
    "    u, v, z = tuple\n",
    "    sum = 0\n",
    "    for x,y in [(u,v), (u,z), (v,z)]: \n",
    "        edge = Gsub.get_edge_data(x,y)\n",
    "        if edge['VOT_RND'] == 1 :\n",
    "            sum += 1\n",
    "    return sum\n",
    "\n",
    "configurations = [count_plus(x) for x in clique3]\n",
    "\n",
    "# 3 or 1 is balanced \n",
    "from collections import Counter\n",
    "counter = Counter(configurations)\n",
    "print('the fraction of {+,+,+} is : ', counter[3] / sum(counter.values()))\n",
    "print('the fraction of {+,+,-} is : ', counter[2] / sum(counter.values()))\n",
    "print('the fraction of {+,-,-} is : ', counter[1] / sum(counter.values()))\n",
    "print('the fraction of {-,-,-} is : ', counter[0] / sum(counter.values()))\n",
    "print('the fraction of balanced triangles is: ', (counter[3] + counter[1]) / sum(counter.values()))"
   ]
  },
  {
   "cell_type": "markdown",
   "id": "f055a145",
   "metadata": {},
   "source": [
    "**2.5** **/Discuss:/** Do the results of tasks **2.3** and **2.4** suggest that structural balance theory is correct? What kind of subsequent analysis would make you trust that the results are not obtained simply by chance? (No need to actually perform that subsequent analysis here.) Justify your answer."
   ]
  },
  {
   "attachments": {},
   "cell_type": "markdown",
   "id": "dcd070a6",
   "metadata": {},
   "source": [
    "**A2.5** The results suggest that structural balance theory is correct because the two balanced configurations have a lower fraction now and there are more triangles in an unbalanced state with random votes. However, as we have seen in previous analysis there are much more positive votes than negative votes. This can influence the analysis as for example in the extreme case (only positive votes) we only have {+,+,+} triangles. Therefore, I suggest to do the analysis again on a balanced dataset where we have equal number of positive and negative votes. When doing the analysis on the balanced dataset, I also suggest to not only look the averages but also provide confidence intervals for the random permutations. "
   ]
  },
  {
   "cell_type": "markdown",
   "id": "d5252ffb",
   "metadata": {},
   "source": [
    "### Interlude: Additional data\n",
    "\n",
    "In the data provided in the file `wiki-RfA.csv.gz` (with which you’ve worked up to now), each column corresponds to a vote from a user $u$ to a user $v$ at a time $t$. \n",
    "\n",
    "In **Task 2**, we did not consider the temporal aspect of this network. For the next task, you are provided with a complimentary dataset (`data/wiki-RfA_extra.csv.gz`) containing, for each vote (uniquely determined by `SRC` and `TGT`), a variety of features. **Importantly, these features were calculated considering only data that was already available at the time when the respective vote was cast.** The features are described as follows.\n",
    "\n",
    "- `PP`, `NN`, `PN` — Each vote (signed edge) is part of zero or more triangles, and we computed the number of triangles in which the two remaining edges were both positive (`PP`), both negative (`NN`) and of different signs (i.e., one positive and one negative, `PN`). This considers only the votes the target (denoted by `TGT`) has received before the current vote. \n",
    "\n",
    "- `P`, `N` — The number of positive (`P`) and negative (`N`) votes that the target `TGT` received before the current vote.\n",
    "\n",
    "- `TXT_PROCESSED` — The text in the original dataset, processed so 1) it is entirely lower-case, 2) it does not contain non-alphanumeric characters, and 3) it does not contain words starting with “supp” or “opp” (since words such as \"support\" and \"oppose\"  are obvious give-away signals of the vote).\n",
    "\n",
    "### Interlude: Predicting edge signs with structural balance theory\n",
    "\n",
    "We can use structural balance theory to predict edge signs. \n",
    "\n",
    "Consider an edge whose sign we do not know, as well as the fractions `PP`, `NN`, and `PN` associated with the edge, as defined above. \n",
    "\n",
    "According to structural balance theory, if `PP` + `NN` $\\geq$ `PN`, the vote is predicted to be positive, as this will create more balanced triangles in the graph. Otherwise, it is predicted to be negative. \n",
    "\n",
    "According to the weak structural balance theory, if `PP` $\\geq$ `PN`, the vote is predicted to be positive, as this will create more balanced triangles in the graph. Otherwise, it is predicted to be negative. \n",
    "\n",
    "Note that in both cases we use “$\\geq$” rather than “<”, i.e., when both sides of the equation are equal, we break ties in favor of positive edges. We do so because there are more positive edges in the graph."
   ]
  },
  {
   "cell_type": "markdown",
   "id": "e2f20eed",
   "metadata": {},
   "source": [
    "### Task 3: Predict it!\n",
    "\n",
    "In the final part of the exam, you will leverage your machine learning and regression skills.\n",
    "\n",
    "**3.1** Merge the new dataset with the original dataframe from task **1** using the columns `SRC` and `TGT`. You may drop the old `TXT` column if you want to. \n"
   ]
  },
  {
   "cell_type": "code",
   "execution_count": 110,
   "id": "a2272113",
   "metadata": {},
   "outputs": [],
   "source": [
    "# 3.1\n",
    "extra = pd.read_csv('wiki-RfA_extra.csv')\n",
    "df = pd.merge(extra, rfas.drop(columns='YEA'), left_on=['SRC', 'TGT'], right_on=['SRC', 'TGT']).drop(columns='TXT')"
   ]
  },
  {
   "cell_type": "markdown",
   "id": "c5d42a2d",
   "metadata": {},
   "source": [
    "**3.2**  Create the following two rule-based classifiers, and for each, estimate its area under the ROC curve (a.k.a. “AUC/ROC”) on the entire dataset:\n",
    "\n",
    "- **A)** a classifier inspired by structural balance theory. The classifier should predict a positive vote if  `PP` + `NN` $\\geq$ `PN`, and a negative vote otherwise.\n",
    "- **B)** a classifier inspired by weak structural balance theory. The classifier should predict a positive vote if `PP`  $\\geq$ `PN` and a negative vote otherwise."
   ]
  },
  {
   "attachments": {},
   "cell_type": "markdown",
   "id": "59b073b6",
   "metadata": {},
   "source": [
    "We calculate the decicsion scores for both classifiers. The dicision score is how far a sample is from the dicision boundry where the later is at 0 and we predict the higher valued label, i.e. 1, if the dicision score is positive. We add the tiny value of 1e-12 to assure tie breaking as stated in the exercise. Then we use the sklearn implementation to calculate ROC-AUC. "
   ]
  },
  {
   "cell_type": "code",
   "execution_count": 123,
   "id": "44643421",
   "metadata": {},
   "outputs": [
    {
     "name": "stdout",
     "output_type": "stream",
     "text": [
      "AUC-ROC for the structural balance theory rule:  0.5487836349885252\n",
      "AUC-ROC for the weak structural balance theory rule:  0.5563454717732184\n"
     ]
    }
   ],
   "source": [
    "# 3.2\n",
    "df['strong_decision_score'] = df.apply(lambda x : x.PP + x.NN - x.PN + 1e-12, axis=1)\n",
    "df['weak_decision_score'] = df.apply(lambda x : x.PP - x.PN + 1e-12, axis=1)\n",
    "\n",
    "from sklearn.metrics import roc_auc_score\n",
    "\n",
    "print('AUC-ROC for the structural balance theory rule: ',roc_auc_score(df['VOT'].values, df['strong_decision_score'].values))\n",
    "print('AUC-ROC for the weak structural balance theory rule: ',roc_auc_score(df['VOT'].values, df['weak_decision_score'].values))"
   ]
  },
  {
   "cell_type": "markdown",
   "id": "0161ec09",
   "metadata": {},
   "source": [
    "**3.3** To determine if the differences in the classifiers from task **3.2** occur solely due to chance, follow the following bootstrap procedure, using 200 iterations:\n",
    "\n",
    "- **A)** Randomly sample the entire dataset (i.e., votes from the dataframe constructed in task **3.1**) with replacement;\n",
    "- **B)** Compute the difference of the AUC/ROC for the two classifiers on the entire dataset.\n",
    "\n",
    "Then use the distribution of AUC/ROC differences (one difference per bootstrap iteration) to estimate the 95% confidence interval for the AUC/ROC difference."
   ]
  },
  {
   "cell_type": "code",
   "execution_count": 125,
   "id": "817ee28f",
   "metadata": {},
   "outputs": [
    {
     "name": "stderr",
     "output_type": "stream",
     "text": [
      "100%|██████████| 200/200 [00:10<00:00, 18.28it/s]"
     ]
    },
    {
     "name": "stdout",
     "output_type": "stream",
     "text": [
      "The confidence interval for the differences is: (-0.008225634020933629,-0.006844850445534206)\n"
     ]
    },
    {
     "name": "stderr",
     "output_type": "stream",
     "text": [
      "\n"
     ]
    }
   ],
   "source": [
    "# 3.3 \n",
    "from tqdm import tqdm \n",
    "\n",
    "diffs = np.zeros(200)\n",
    "\n",
    "for ii in tqdm(range(200)): \n",
    "    dfii = df.sample(frac=1, replace=True)\n",
    "    diffs[ii] = roc_auc_score(dfii['VOT'].values, dfii['strong_decision_score'].values) - roc_auc_score(dfii['VOT'].values, dfii['weak_decision_score'].values)\n",
    "\n",
    "print('The confidence interval for the differences is: ({},{})'.format(np.percentile(diffs, 2.5), np.percentile(diffs, 97.5)))"
   ]
  },
  {
   "cell_type": "markdown",
   "id": "4d0e1569",
   "metadata": {},
   "source": [
    "**3.4 ** **/Discuss:**/ According to the results in tasks **3.2** and **3.3**, which theory better predicts actual edge signs, structural balance theory or the weak structural balance theory? \n"
   ]
  },
  {
   "attachments": {},
   "cell_type": "markdown",
   "id": "94b39801",
   "metadata": {},
   "source": [
    "**A3.4** Weak structural balance theory makes the better predictions since it has the higher ROC-AUC. This result is significant at significance level 0.05 because the 95%-CI of the difference between ROC-AUC(balance theory) - ROC-AUC(weak balance theory) is bellow zero.  "
   ]
  },
  {
   "cell_type": "markdown",
   "id": "28d37dc1",
   "metadata": {},
   "source": [
    "**3.5** How accurately can we predict the vote with more sophisticated features and algorithms?\n",
    "\n",
    "- Create a TF-IDF representation of the text of each vote  using `sklearn`'s vectorizer ([`sklearn.feature_extraction.text.TfidfVectorizer`](https://scikit-learn.org/stable/modules/generated/sklearn.feature_extraction.text.TfidfVectorizer.html)) with the parameters `max_features=150` and `stop_words='english'`.\n",
    "- Split the  dataset into training and test sets using sklearn [`sklearn.model_selection.train_test_split`](https://scikit-learn.org/stable/modules/generated/sklearn.model_selection.train_test_split.html) using parameters `test_size=0.1` and  `random_state=42`.\n",
    "\n",
    "- Then, train two logistic regression models ([`sklearn.linear_model.SGDClassifier`](https://scikit-learn.org/stable/modules/generated/sklearn.linear_model.SGDClassifier.html)) using parameters `loss='log_loss'` and `max_iter=2000` considering:\n",
    "\n",
    "    - **1)** the TF-IDF feature vector\n",
    "\n",
    "    - **2)** the TF-IDF feature vector and the features `PP`, `NN`, `PN`, `P`, and `N` related to the graph.\n",
    "\n",
    "- Last, report the AUC/ROC of each model in the test set."
   ]
  },
  {
   "cell_type": "code",
   "execution_count": 165,
   "id": "764a00f3",
   "metadata": {},
   "outputs": [
    {
     "name": "stdout",
     "output_type": "stream",
     "text": [
      "ROC-AUC first model:  0.8540951736994074\n"
     ]
    }
   ],
   "source": [
    "# 3.5\n",
    "from sklearn.feature_extraction.text import TfidfVectorizer\n",
    "from sklearn.model_selection import train_test_split\n",
    "from sklearn.linear_model import SGDClassifier\n",
    "\n",
    "vectorizer = TfidfVectorizer(max_features=150, stop_words='english')\n",
    "\n",
    "mod = SGDClassifier(loss='log_loss', max_iter=2000)\n",
    "\n",
    "X_train, X_test, y_train, y_test = train_test_split(df.TXT_PROCESSED.fillna(value=''), df.VOT, test_size=0.1, random_state=42)\n",
    "\n",
    "X_train = vectorizer.fit_transform(X_train)  # only fit the vectorizer on the train set!!\n",
    "X_test = vectorizer.transform(X_test)\n",
    "\n",
    "mod.fit(X_train, y_train)\n",
    "\n",
    "y_pred = mod.predict_proba(X_test)\n",
    "\n",
    "print('ROC-AUC first model: ', roc_auc_score(y_test, y_pred[:,1]))"
   ]
  },
  {
   "cell_type": "code",
   "execution_count": 166,
   "id": "e3daa856",
   "metadata": {},
   "outputs": [
    {
     "name": "stdout",
     "output_type": "stream",
     "text": [
      "ROC-AUC second model:  0.7863198616765115\n"
     ]
    }
   ],
   "source": [
    "df['tfidf'] = (vectorizer.transform(df.TXT_PROCESSED.fillna(value=''))).toarray()\n",
    "\n",
    "X_train, X_test, y_train, y_test = train_test_split(df[['tfidf','PP','NN','PN','P','N']].values, df.VOT, test_size=0.1, random_state=42)\n",
    "\n",
    "mod = SGDClassifier(loss='log_loss', max_iter=2000)\n",
    "\n",
    "mod.fit(X_train, y_train)\n",
    "\n",
    "y_pred = mod.predict_proba(X_test)\n",
    "\n",
    "print('ROC-AUC second model: ', roc_auc_score(y_test, y_pred[:,1]))"
   ]
  },
  {
   "cell_type": "markdown",
   "id": "898cbdd1",
   "metadata": {},
   "source": [
    "**3.6** **/Discuss:**/  According to the results in task **3.5**, does information from the graph help in the task of predicting the vote even when using the text?  What kind of subsequent analysis would make you trust that the results are not obtained simply by chance? (No need to actually perform that subsequent analysis here.) "
   ]
  },
  {
   "attachments": {},
   "cell_type": "markdown",
   "id": "6b6767ad",
   "metadata": {},
   "source": [
    "**A3.6** No, the ROC-AUC is worse when using the additional information of the graph. I would do bootstraping to compute a confidence interval as in task 3.3 to determine the significance of the results. "
   ]
  },
  {
   "cell_type": "markdown",
   "id": "7f51071d",
   "metadata": {},
   "source": [
    "**3.7** Putting on your observational studies hat, run two logistic regressions using `statsmodels`.\n",
    "- In the first regression, the vote is the outcome, and `PP`, `NN` and `PN` are the predictors.\n",
    "- In the second regression, the vote is the outcome, and `PP`, `NN`, `PN`, and `N` are the predictors."
   ]
  },
  {
   "cell_type": "code",
   "execution_count": 167,
   "id": "648c706b",
   "metadata": {},
   "outputs": [
    {
     "data": {
      "text/html": [
       "<div>\n",
       "<style scoped>\n",
       "    .dataframe tbody tr th:only-of-type {\n",
       "        vertical-align: middle;\n",
       "    }\n",
       "\n",
       "    .dataframe tbody tr th {\n",
       "        vertical-align: top;\n",
       "    }\n",
       "\n",
       "    .dataframe thead th {\n",
       "        text-align: right;\n",
       "    }\n",
       "</style>\n",
       "<table border=\"1\" class=\"dataframe\">\n",
       "  <thead>\n",
       "    <tr style=\"text-align: right;\">\n",
       "      <th></th>\n",
       "      <th>SRC</th>\n",
       "      <th>TGT</th>\n",
       "      <th>YEA</th>\n",
       "      <th>PP</th>\n",
       "      <th>NN</th>\n",
       "      <th>PN</th>\n",
       "      <th>N</th>\n",
       "      <th>P</th>\n",
       "      <th>TXT_PROCESSED</th>\n",
       "      <th>VOT</th>\n",
       "      <th>RES</th>\n",
       "      <th>DAT</th>\n",
       "      <th>positive_vote</th>\n",
       "      <th>strong_decision_score</th>\n",
       "      <th>weak_decision_score</th>\n",
       "      <th>tfidf</th>\n",
       "    </tr>\n",
       "  </thead>\n",
       "  <tbody>\n",
       "    <tr>\n",
       "      <th>0</th>\n",
       "      <td>2775</td>\n",
       "      <td>7137</td>\n",
       "      <td>2012</td>\n",
       "      <td>0</td>\n",
       "      <td>0</td>\n",
       "      <td>0</td>\n",
       "      <td>0</td>\n",
       "      <td>0</td>\n",
       "      <td>as nom</td>\n",
       "      <td>1</td>\n",
       "      <td>1</td>\n",
       "      <td>2012-08-20 21:29:00</td>\n",
       "      <td>1</td>\n",
       "      <td>1.000000e-12</td>\n",
       "      <td>1.000000e-12</td>\n",
       "      <td>0.000000</td>\n",
       "    </tr>\n",
       "    <tr>\n",
       "      <th>1</th>\n",
       "      <td>2652</td>\n",
       "      <td>7137</td>\n",
       "      <td>2012</td>\n",
       "      <td>0</td>\n",
       "      <td>0</td>\n",
       "      <td>0</td>\n",
       "      <td>0</td>\n",
       "      <td>1</td>\n",
       "      <td>i haven t seen this user around but a cursory ...</td>\n",
       "      <td>1</td>\n",
       "      <td>1</td>\n",
       "      <td>2012-08-20 21:40:00</td>\n",
       "      <td>1</td>\n",
       "      <td>1.000000e-12</td>\n",
       "      <td>1.000000e-12</td>\n",
       "      <td>0.000000</td>\n",
       "    </tr>\n",
       "    <tr>\n",
       "      <th>2</th>\n",
       "      <td>3356</td>\n",
       "      <td>7137</td>\n",
       "      <td>2012</td>\n",
       "      <td>0</td>\n",
       "      <td>0</td>\n",
       "      <td>0</td>\n",
       "      <td>0</td>\n",
       "      <td>2</td>\n",
       "      <td>level headed tactful and a good communicator i...</td>\n",
       "      <td>1</td>\n",
       "      <td>1</td>\n",
       "      <td>2012-08-20 22:34:00</td>\n",
       "      <td>1</td>\n",
       "      <td>1.000000e-12</td>\n",
       "      <td>1.000000e-12</td>\n",
       "      <td>0.000000</td>\n",
       "    </tr>\n",
       "    <tr>\n",
       "      <th>3</th>\n",
       "      <td>4076</td>\n",
       "      <td>7137</td>\n",
       "      <td>2012</td>\n",
       "      <td>0</td>\n",
       "      <td>0</td>\n",
       "      <td>0</td>\n",
       "      <td>0</td>\n",
       "      <td>3</td>\n",
       "      <td>user wizardman span style color 030 wizardman...</td>\n",
       "      <td>1</td>\n",
       "      <td>1</td>\n",
       "      <td>2012-08-20 22:41:00</td>\n",
       "      <td>1</td>\n",
       "      <td>1.000000e-12</td>\n",
       "      <td>1.000000e-12</td>\n",
       "      <td>0.000000</td>\n",
       "    </tr>\n",
       "    <tr>\n",
       "      <th>4</th>\n",
       "      <td>5612</td>\n",
       "      <td>7137</td>\n",
       "      <td>2012</td>\n",
       "      <td>0</td>\n",
       "      <td>0</td>\n",
       "      <td>0</td>\n",
       "      <td>0</td>\n",
       "      <td>4</td>\n",
       "      <td>editor needs to spend more time on nascar and...</td>\n",
       "      <td>1</td>\n",
       "      <td>1</td>\n",
       "      <td>2012-08-20 22:42:00</td>\n",
       "      <td>1</td>\n",
       "      <td>1.000000e-12</td>\n",
       "      <td>1.000000e-12</td>\n",
       "      <td>0.653519</td>\n",
       "    </tr>\n",
       "    <tr>\n",
       "      <th>...</th>\n",
       "      <td>...</td>\n",
       "      <td>...</td>\n",
       "      <td>...</td>\n",
       "      <td>...</td>\n",
       "      <td>...</td>\n",
       "      <td>...</td>\n",
       "      <td>...</td>\n",
       "      <td>...</td>\n",
       "      <td>...</td>\n",
       "      <td>...</td>\n",
       "      <td>...</td>\n",
       "      <td>...</td>\n",
       "      <td>...</td>\n",
       "      <td>...</td>\n",
       "      <td>...</td>\n",
       "      <td>...</td>\n",
       "    </tr>\n",
       "    <tr>\n",
       "      <th>166998</th>\n",
       "      <td>3867</td>\n",
       "      <td>5823</td>\n",
       "      <td>2003</td>\n",
       "      <td>0</td>\n",
       "      <td>0</td>\n",
       "      <td>0</td>\n",
       "      <td>0</td>\n",
       "      <td>0</td>\n",
       "      <td>also seems like a good contributor</td>\n",
       "      <td>1</td>\n",
       "      <td>1</td>\n",
       "      <td>2003-12-06 16:05:00</td>\n",
       "      <td>1</td>\n",
       "      <td>1.000000e-12</td>\n",
       "      <td>1.000000e-12</td>\n",
       "      <td>0.000000</td>\n",
       "    </tr>\n",
       "    <tr>\n",
       "      <th>166999</th>\n",
       "      <td>1011</td>\n",
       "      <td>3422</td>\n",
       "      <td>2003</td>\n",
       "      <td>0</td>\n",
       "      <td>0</td>\n",
       "      <td>0</td>\n",
       "      <td>0</td>\n",
       "      <td>0</td>\n",
       "      <td></td>\n",
       "      <td>1</td>\n",
       "      <td>1</td>\n",
       "      <td>2003-08-31 02:13:00</td>\n",
       "      <td>1</td>\n",
       "      <td>1.000000e-12</td>\n",
       "      <td>1.000000e-12</td>\n",
       "      <td>0.000000</td>\n",
       "    </tr>\n",
       "    <tr>\n",
       "      <th>167000</th>\n",
       "      <td>8629</td>\n",
       "      <td>3422</td>\n",
       "      <td>2003</td>\n",
       "      <td>0</td>\n",
       "      <td>0</td>\n",
       "      <td>0</td>\n",
       "      <td>0</td>\n",
       "      <td>1</td>\n",
       "      <td></td>\n",
       "      <td>1</td>\n",
       "      <td>1</td>\n",
       "      <td>2003-09-02 02:51:00</td>\n",
       "      <td>1</td>\n",
       "      <td>1.000000e-12</td>\n",
       "      <td>1.000000e-12</td>\n",
       "      <td>0.000000</td>\n",
       "    </tr>\n",
       "    <tr>\n",
       "      <th>167001</th>\n",
       "      <td>1581</td>\n",
       "      <td>5037</td>\n",
       "      <td>2003</td>\n",
       "      <td>0</td>\n",
       "      <td>0</td>\n",
       "      <td>0</td>\n",
       "      <td>0</td>\n",
       "      <td>0</td>\n",
       "      <td></td>\n",
       "      <td>1</td>\n",
       "      <td>1</td>\n",
       "      <td>2003-11-26 23:45:00</td>\n",
       "      <td>1</td>\n",
       "      <td>1.000000e-12</td>\n",
       "      <td>1.000000e-12</td>\n",
       "      <td>0.000000</td>\n",
       "    </tr>\n",
       "    <tr>\n",
       "      <th>167002</th>\n",
       "      <td>10897</td>\n",
       "      <td>5037</td>\n",
       "      <td>2003</td>\n",
       "      <td>0</td>\n",
       "      <td>0</td>\n",
       "      <td>0</td>\n",
       "      <td>0</td>\n",
       "      <td>1</td>\n",
       "      <td>age has nothing to do with maturity</td>\n",
       "      <td>1</td>\n",
       "      <td>1</td>\n",
       "      <td>2003-12-05 05:38:00</td>\n",
       "      <td>1</td>\n",
       "      <td>1.000000e-12</td>\n",
       "      <td>1.000000e-12</td>\n",
       "      <td>0.000000</td>\n",
       "    </tr>\n",
       "  </tbody>\n",
       "</table>\n",
       "<p>167003 rows × 16 columns</p>\n",
       "</div>"
      ],
      "text/plain": [
       "          SRC   TGT   YEA  PP  NN  PN  N  P  \\\n",
       "0        2775  7137  2012   0   0   0  0  0   \n",
       "1        2652  7137  2012   0   0   0  0  1   \n",
       "2        3356  7137  2012   0   0   0  0  2   \n",
       "3        4076  7137  2012   0   0   0  0  3   \n",
       "4        5612  7137  2012   0   0   0  0  4   \n",
       "...       ...   ...   ...  ..  ..  .. .. ..   \n",
       "166998   3867  5823  2003   0   0   0  0  0   \n",
       "166999   1011  3422  2003   0   0   0  0  0   \n",
       "167000   8629  3422  2003   0   0   0  0  1   \n",
       "167001   1581  5037  2003   0   0   0  0  0   \n",
       "167002  10897  5037  2003   0   0   0  0  1   \n",
       "\n",
       "                                            TXT_PROCESSED  VOT  RES  \\\n",
       "0                                                 as nom     1    1   \n",
       "1       i haven t seen this user around but a cursory ...    1    1   \n",
       "2       level headed tactful and a good communicator i...    1    1   \n",
       "3        user wizardman span style color 030 wizardman...    1    1   \n",
       "4        editor needs to spend more time on nascar and...    1    1   \n",
       "...                                                   ...  ...  ...   \n",
       "166998                also seems like a good contributor     1    1   \n",
       "166999                                                       1    1   \n",
       "167000                                                       1    1   \n",
       "167001                                                       1    1   \n",
       "167002               age has nothing to do with maturity     1    1   \n",
       "\n",
       "                        DAT  positive_vote  strong_decision_score  \\\n",
       "0       2012-08-20 21:29:00              1           1.000000e-12   \n",
       "1       2012-08-20 21:40:00              1           1.000000e-12   \n",
       "2       2012-08-20 22:34:00              1           1.000000e-12   \n",
       "3       2012-08-20 22:41:00              1           1.000000e-12   \n",
       "4       2012-08-20 22:42:00              1           1.000000e-12   \n",
       "...                     ...            ...                    ...   \n",
       "166998  2003-12-06 16:05:00              1           1.000000e-12   \n",
       "166999  2003-08-31 02:13:00              1           1.000000e-12   \n",
       "167000  2003-09-02 02:51:00              1           1.000000e-12   \n",
       "167001  2003-11-26 23:45:00              1           1.000000e-12   \n",
       "167002  2003-12-05 05:38:00              1           1.000000e-12   \n",
       "\n",
       "        weak_decision_score     tfidf  \n",
       "0              1.000000e-12  0.000000  \n",
       "1              1.000000e-12  0.000000  \n",
       "2              1.000000e-12  0.000000  \n",
       "3              1.000000e-12  0.000000  \n",
       "4              1.000000e-12  0.653519  \n",
       "...                     ...       ...  \n",
       "166998         1.000000e-12  0.000000  \n",
       "166999         1.000000e-12  0.000000  \n",
       "167000         1.000000e-12  0.000000  \n",
       "167001         1.000000e-12  0.000000  \n",
       "167002         1.000000e-12  0.000000  \n",
       "\n",
       "[167003 rows x 16 columns]"
      ]
     },
     "execution_count": 167,
     "metadata": {},
     "output_type": "execute_result"
    }
   ],
   "source": [
    "df"
   ]
  },
  {
   "cell_type": "code",
   "execution_count": 169,
   "id": "9f8df411",
   "metadata": {},
   "outputs": [
    {
     "name": "stdout",
     "output_type": "stream",
     "text": [
      "Optimization terminated successfully.\n",
      "         Current function value: 0.514594\n",
      "         Iterations 7\n",
      "                           Logit Regression Results                           \n",
      "==============================================================================\n",
      "Dep. Variable:                VOTcoef   No. Observations:               167003\n",
      "Model:                          Logit   Df Residuals:                   166999\n",
      "Method:                           MLE   Df Model:                            3\n",
      "Date:                Tue, 17 Jan 2023   Pseudo R-squ.:                 0.01804\n",
      "Time:                        18:17:22   Log-Likelihood:                -85939.\n",
      "converged:                       True   LL-Null:                       -87517.\n",
      "Covariance Type:            nonrobust   LLR p-value:                     0.000\n",
      "==============================================================================\n",
      "                 coef    std err          z      P>|z|      [0.025      0.975]\n",
      "------------------------------------------------------------------------------\n",
      "Intercept      1.2781      0.006    206.255      0.000       1.266       1.290\n",
      "PP             0.2493      0.007     34.272      0.000       0.235       0.264\n",
      "NN            -0.6765      0.040    -16.946      0.000      -0.755      -0.598\n",
      "PN            -0.5509      0.014    -40.304      0.000      -0.578      -0.524\n",
      "==============================================================================\n"
     ]
    }
   ],
   "source": [
    "# 3.7\n",
    "\n",
    "import statsmodels.formula.api as smf\n",
    "\n",
    "df['VOTcoef'] = df['VOT'].apply(lambda x : 1 if x ==1 else 0)\n",
    "\n",
    "mod = smf.logit('VOTcoef ~ PP + NN + PN', data=df)\n",
    "\n",
    "res = mod.fit()\n",
    "\n",
    "print(res.summary())"
   ]
  },
  {
   "cell_type": "code",
   "execution_count": 170,
   "id": "2e9858f3",
   "metadata": {},
   "outputs": [
    {
     "name": "stdout",
     "output_type": "stream",
     "text": [
      "Optimization terminated successfully.\n",
      "         Current function value: 0.487994\n",
      "         Iterations 7\n",
      "                           Logit Regression Results                           \n",
      "==============================================================================\n",
      "Dep. Variable:                VOTcoef   No. Observations:               167003\n",
      "Model:                          Logit   Df Residuals:                   166998\n",
      "Method:                           MLE   Df Model:                            4\n",
      "Date:                Tue, 17 Jan 2023   Pseudo R-squ.:                 0.06880\n",
      "Time:                        18:18:34   Log-Likelihood:                -81496.\n",
      "converged:                       True   LL-Null:                       -87517.\n",
      "Covariance Type:            nonrobust   LLR p-value:                     0.000\n",
      "==============================================================================\n",
      "                 coef    std err          z      P>|z|      [0.025      0.975]\n",
      "------------------------------------------------------------------------------\n",
      "Intercept      1.6227      0.008    212.945      0.000       1.608       1.638\n",
      "PP             0.2535      0.008     33.344      0.000       0.239       0.268\n",
      "NN            -0.5466      0.040    -13.631      0.000      -0.625      -0.468\n",
      "PN            -0.4561      0.014    -33.013      0.000      -0.483      -0.429\n",
      "N             -0.0438      0.000    -89.263      0.000      -0.045      -0.043\n",
      "==============================================================================\n"
     ]
    }
   ],
   "source": [
    "mod = smf.logit('VOTcoef ~ PP + NN + PN + N', data=df)\n",
    "\n",
    "res = mod.fit()\n",
    "\n",
    "print(res.summary())"
   ]
  },
  {
   "cell_type": "markdown",
   "id": "db15d090",
   "metadata": {},
   "source": [
    "**3.8** **/Discuss:**/   Explain what the coefficient associated with `PP` means in the first regression. Is it in accordance with structural balance theory?"
   ]
  },
  {
   "attachments": {},
   "cell_type": "markdown",
   "id": "48845787",
   "metadata": {},
   "source": [
    "**A3.8** The coefficinet is positive and this is significant because the p-value is small and the 95%-CI is also positive. It means that if the other two edges of a triangle are positive votes, then the third edge in the triangle is also likely positive. This corresponds to structural balance theory because {+++} is balanced whereas {-++} is unbalances. "
   ]
  },
  {
   "cell_type": "markdown",
   "id": "49752dbb",
   "metadata": {},
   "source": [
    "**3.9** **/Discuss:**/   Compare the coefficients associated with `PN` and `NN` in the first vs. the second regression. Present a reason that may explain this difference."
   ]
  },
  {
   "attachments": {},
   "cell_type": "markdown",
   "id": "8ab7612b",
   "metadata": {},
   "source": [
    "**A3.9**  They have both a smaller absolute value in the second regression. A possible explanation for this is that we include an additional factor in the second regression. This addition factor can capture some of the effects of `PN` and `NN`. Hence, they have a lower absolute value. "
   ]
  },
  {
   "cell_type": "markdown",
   "id": "207c9147",
   "metadata": {},
   "source": [
    "---"
   ]
  }
 ],
 "metadata": {
  "kernelspec": {
   "display_name": "adaexam",
   "language": "python",
   "name": "python3"
  },
  "language_info": {
   "codemirror_mode": {
    "name": "ipython",
    "version": 3
   },
   "file_extension": ".py",
   "mimetype": "text/x-python",
   "name": "python",
   "nbconvert_exporter": "python",
   "pygments_lexer": "ipython3",
   "version": "3.9.7"
  },
  "vscode": {
   "interpreter": {
    "hash": "2d0973d4df9cb8af2b370e0e348337bd97977a69c4256e870f1592cf43bbe001"
   }
  }
 },
 "nbformat": 4,
 "nbformat_minor": 5
}
